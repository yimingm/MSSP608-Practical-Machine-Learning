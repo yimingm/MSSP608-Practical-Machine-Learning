{
  "nbformat": 4,
  "nbformat_minor": 0,
  "metadata": {
    "colab": {
      "name": "Homework6_Unsupervised Learning",
      "provenance": [],
      "collapsed_sections": [],
      "include_colab_link": true
    },
    "kernelspec": {
      "name": "python3",
      "display_name": "Python 3"
    }
  },
  "cells": [
    {
      "cell_type": "markdown",
      "metadata": {
        "id": "view-in-github",
        "colab_type": "text"
      },
      "source": [
        "<a href=\"https://colab.research.google.com/github/yimingm/MSSP608-Practical-Machine-Learning/blob/master/Homework6_Unsupervised_Learning.ipynb\" target=\"_parent\"><img src=\"https://colab.research.google.com/assets/colab-badge.svg\" alt=\"Open In Colab\"/></a>"
      ]
    },
    {
      "cell_type": "markdown",
      "metadata": {
        "id": "y7Z9IoO458Hq",
        "colab_type": "text"
      },
      "source": [
        "# Homework 6 (Due March 22, 2020)\n",
        "In this homework we are working with a dataset of American universities, aggregated from government statistics. The dataset contains a large number of columns covering financial details, enrollment details, and so on. We will be using unsupervised dimensionality reduction to discover which features are highly related, and then using unsupervised clustering to discover which colleges are most similar."
      ]
    },
    {
      "cell_type": "markdown",
      "metadata": {
        "id": "9wuDeI73pfmI",
        "colab_type": "text"
      },
      "source": [
        "# Initial Data Fetching and Setup"
      ]
    },
    {
      "cell_type": "code",
      "metadata": {
        "id": "gD8xgRYrRAV3",
        "colab_type": "code",
        "colab": {
          "base_uri": "https://localhost:8080/",
          "height": 330
        },
        "outputId": "f376d373-a5aa-4b5f-96b4-8e0cfa37ecac"
      },
      "source": [
        "!wget --no-check-certificate 'https://docs.google.com/uc?export=download&id=1lPoKPVXt9glGvBlxA-lwZDtmpyUsvIpL' -O colleges.csv\n"
      ],
      "execution_count": null,
      "outputs": [
        {
          "output_type": "stream",
          "text": [
            "--2020-03-31 01:01:21--  https://docs.google.com/uc?export=download&id=1lPoKPVXt9glGvBlxA-lwZDtmpyUsvIpL\n",
            "Resolving docs.google.com (docs.google.com)... 172.217.203.100, 172.217.203.113, 172.217.203.102, ...\n",
            "Connecting to docs.google.com (docs.google.com)|172.217.203.100|:443... connected.\n",
            "HTTP request sent, awaiting response... 302 Moved Temporarily\n",
            "Location: https://doc-04-b0-docs.googleusercontent.com/docs/securesc/ha0ro937gcuc7l7deffksulhg5h7mbp1/pojdefo9clb7q0ucibet6kbpsid651eb/1585616475000/09640029349513786515/*/1lPoKPVXt9glGvBlxA-lwZDtmpyUsvIpL?e=download [following]\n",
            "Warning: wildcards not supported in HTTP.\n",
            "--2020-03-31 01:01:22--  https://doc-04-b0-docs.googleusercontent.com/docs/securesc/ha0ro937gcuc7l7deffksulhg5h7mbp1/pojdefo9clb7q0ucibet6kbpsid651eb/1585616475000/09640029349513786515/*/1lPoKPVXt9glGvBlxA-lwZDtmpyUsvIpL?e=download\n",
            "Resolving doc-04-b0-docs.googleusercontent.com (doc-04-b0-docs.googleusercontent.com)... 172.217.204.132, 2607:f8b0:400c:c15::84\n",
            "Connecting to doc-04-b0-docs.googleusercontent.com (doc-04-b0-docs.googleusercontent.com)|172.217.204.132|:443... connected.\n",
            "HTTP request sent, awaiting response... 200 OK\n",
            "Length: 1122328 (1.1M) [text/csv]\n",
            "Saving to: ‘colleges.csv’\n",
            "\n",
            "colleges.csv        100%[===================>]   1.07M  --.-KB/s    in 0.007s  \n",
            "\n",
            "2020-03-31 01:01:22 (146 MB/s) - ‘colleges.csv’ saved [1122328/1122328]\n",
            "\n"
          ],
          "name": "stdout"
        }
      ]
    },
    {
      "cell_type": "code",
      "metadata": {
        "colab_type": "code",
        "id": "fldhDMMaLRDD",
        "colab": {
          "base_uri": "https://localhost:8080/",
          "height": 172
        },
        "outputId": "2eaa44b9-0fca-46f8-b5c8-06f9435c0780"
      },
      "source": [
        "import pandas as pd\n",
        "input_file = pd.read_csv(\"colleges.csv\")\n",
        "print(input_file.shape)\n",
        "print(input_file.head())\n",
        "\n",
        "input_file_clean = {\n",
        "    \"Institution name\": input_file[\"Institution name\"]\n",
        "}\n",
        "for column in input_file.loc[:, input_file.columns[1:]]:\n",
        "  clean_column = []\n",
        "  original_column = input_file[column].replace(\"-\", None)\n",
        "  for x in original_column:\n",
        "    try:\n",
        "      clean_column.append(float(x))\n",
        "    except:\n",
        "      clean_column.append(None)\n",
        "  input_file_clean[column] = clean_column\n",
        "df = pd.DataFrame(input_file_clean)\n",
        "df = df.dropna()\n",
        "# df.columns\n"
      ],
      "execution_count": null,
      "outputs": [
        {
          "output_type": "stream",
          "text": [
            "(3815, 77)\n",
            "                      Institution name  ... Total_Nonresident alien \n",
            "0             Alabama A & M University  ...                       70\n",
            "1  University of Alabama at Birmingham  ...                     1049\n",
            "2  University of Alabama in Huntsville  ...                      449\n",
            "3             Alabama State University  ...                       58\n",
            "4            The University of Alabama  ...                     1224\n",
            "\n",
            "[5 rows x 77 columns]\n"
          ],
          "name": "stdout"
        }
      ]
    },
    {
      "cell_type": "markdown",
      "metadata": {
        "id": "iyN_qCao3_WN",
        "colab_type": "text"
      },
      "source": [
        "\n",
        "## Question 1 *(4 points)*\n",
        "\n",
        "The subsets and features (16 in total) I chose are as follows:\n",
        "\n",
        "| Feature Set | Description                                                               |\n",
        "|-------------|---------------------------------------------------------------------------|\n",
        "| Size        | Features representing the size of a university.                |\n",
        "| Selectivity | Features representing the difficulty of being admitted and/or graduating. |\n",
        "| Diversity   | Features representing the breadth of  representation in the student body.              |\n",
        "| Faculty   | Features representing the composition of university faculties.             |"
      ]
    },
    {
      "cell_type": "markdown",
      "metadata": {
        "id": "OvivixpR0oqX",
        "colab_type": "text"
      },
      "source": [
        "Size: \n",
        "49.\t'Undergraduate_Total',\n",
        "59.\t'Graduate_Total',\n",
        "\n",
        "Selectivity:\n",
        "13.\t'Undergraduate total_Grand Total', \n",
        "20. 'Graduate_Grand Total',\n",
        "41.\t'Graduation rate (%)', \n",
        "\n",
        "Diversity: \n",
        "51.\t'Undergraduate_Asian ', \n",
        "52.\t'Undergraduate_Black or African American ',\n",
        "55.\t'Undergraduate_White ',\n",
        "61.\t'Graduate_Asian ',\n",
        "62.\t'Graduate_Black or African American ', \n",
        "65.\t'Graduate_White ', \n",
        "21.\t'All students total_Full time - Men',\n",
        "22.\t'All students total_Full time - Women',\n",
        "\n",
        "Faculty:\n",
        "44.\t'All full-time instructional staff', \n",
        "47.\t'On tenure track', \n",
        "48.\t'Not on tenure track'\n"
      ]
    },
    {
      "cell_type": "markdown",
      "metadata": {
        "id": "1-M5G2ryQRSe",
        "colab_type": "text"
      },
      "source": [
        "## Task 2. *(14 points total)*\n",
        "\n",
        "### Task 2.1 *(2 points)*\n",
        "Normalized the features in the university dataset. Each feature in the resulting data frame should be normalized to a value between 0 and 1. Save this normalized representation to a variable named `df_norm`."
      ]
    },
    {
      "cell_type": "code",
      "metadata": {
        "id": "nLiKmOoU331t",
        "colab_type": "code",
        "colab": {}
      },
      "source": [
        "# Set up each feature set\n",
        "size = [\"Undergraduate_Total\",\n",
        "\"Graduate_Total\"]\n",
        "\n",
        "selectivity = [\"Undergraduate total_Grand Total\",\n",
        "\"Graduate_Grand Total\",\n",
        "\"Graduation rate (%)\"]\n",
        "\n",
        "diversity = [\"Undergraduate_Asian \",\n",
        "\"Undergraduate_Black or African American \",\n",
        "\"Undergraduate_White \",\n",
        "\"Graduate_Asian \",\n",
        "\"Graduate_Black or African American \",\n",
        "\"Graduate_White \",\n",
        "\"All students total_Full time - Men\",\n",
        "\"All students total_Full time - Women\"]\n",
        "\n",
        "faculty = [\"All full-time instructional staff\",\n",
        "\"On tenure track\",\n",
        "\"Not on tenure track\"]"
      ],
      "execution_count": null,
      "outputs": []
    },
    {
      "cell_type": "code",
      "metadata": {
        "id": "sN6W49dCdBUw",
        "colab_type": "code",
        "colab": {
          "base_uri": "https://localhost:8080/",
          "height": 344
        },
        "outputId": "6a056d2e-2363-4693-a68e-6166a731431a"
      },
      "source": [
        "# Normalize features using Minmaxscaler form sklearn\n",
        "from sklearn.preprocessing import MinMaxScaler\n",
        "feature_set = size + selectivity + diversity + faculty\n",
        "X = df.loc[:, feature_set]\n",
        "\n",
        "print(\"Before Scaling:\")\n",
        "print(X.loc[:5])\n",
        "\n",
        "scaler = MinMaxScaler() \n",
        "df_norm = pd.DataFrame(scaler.fit_transform(X))\n",
        "df_norm.columns = X.columns\n",
        "print(\"After Scaling\")\n",
        "print(df_norm.loc[:5])"
      ],
      "execution_count": null,
      "outputs": [
        {
          "output_type": "stream",
          "text": [
            "Before Scaling:\n",
            "   Undergraduate_Total  Graduate_Total  ...  On tenure track  Not on tenure track\n",
            "1              13836.0          8087.0  ...            533.0               1056.0\n",
            "2               7671.0          2065.0  ...             69.0                120.0\n",
            "3               3903.0           510.0  ...             56.0                 56.0\n",
            "4              33028.0          5362.0  ...            401.0                492.0\n",
            "5               1681.0          5362.0  ...              8.0                  1.0\n",
            "\n",
            "[5 rows x 16 columns]\n",
            "After Scaling\n",
            "   Undergraduate_Total  Graduate_Total  ...  On tenure track  Not on tenure track\n",
            "0             0.167267        0.223908  ...         0.272495             0.271117\n",
            "1             0.092710        0.057154  ...         0.035276             0.030809\n",
            "2             0.047141        0.014095  ...         0.028630             0.014377\n",
            "3             0.399369        0.148451  ...         0.205010             0.126316\n",
            "4             0.020269        0.148451  ...         0.004090             0.000257\n",
            "5             0.055957        0.016005  ...         0.029141             0.011810\n",
            "\n",
            "[6 rows x 16 columns]\n"
          ],
          "name": "stdout"
        }
      ]
    },
    {
      "cell_type": "markdown",
      "metadata": {
        "id": "B2ZEWAqydB47",
        "colab_type": "text"
      },
      "source": [
        "### Task 2.2 Unsupervised Features *(6 points)*\n",
        "Using principal component analysis on `df_norm`, generate a dimensionality-reduced representation of the university dataset. \n",
        "\n",
        "- Vary the number of components from 2 to 10. What percentage of variance is explained at each number of components?\n",
        "![alt text](https://drive.google.com/uc?id=1wmlaiYUCElYWvKDBwKPmkr9r8FNFc5pW)\n",
        "- Set the number of components to 4. Which features load together with high weight in each component?\n",
        "![alt text](https://drive.google.com/uc?id=1SXLxwhjTe1xiRPICVeRou9CBGzmkr9SU)\n",
        "\n"
      ]
    },
    {
      "cell_type": "code",
      "metadata": {
        "id": "FomWsE6u94y4",
        "colab_type": "code",
        "colab": {
          "base_uri": "https://localhost:8080/",
          "height": 120
        },
        "outputId": "3a5040b2-2ef4-42cf-818b-d30c3139ea1e"
      },
      "source": [
        "from sklearn.decomposition import PCA\n",
        "pca = PCA(n_components=10)\n",
        "components = pca.fit_transform(df_norm)\n",
        "print(\"Explained variance of each components:\")\n",
        "print(pca.explained_variance_ratio_)\n",
        "print()\n",
        "\n",
        "# cumulative components\n",
        "import numpy as np\n",
        "cum_var = np.cumsum(np.round(pca.explained_variance_ratio_,decimals = 4))\n",
        "print(\"Cumulative Explained variances:\")\n",
        "print(cum_var)\n"
      ],
      "execution_count": null,
      "outputs": [
        {
          "output_type": "stream",
          "text": [
            "Explained variance of each components:\n",
            "[0.45437061 0.31145732 0.11397996 0.03678954 0.02665693 0.01823079\n",
            " 0.0094208  0.00862613 0.00661337 0.00513798]\n",
            "\n",
            "Cumulative Explained variances:\n",
            "[0.4544 0.7659 0.8799 0.9167 0.9434 0.9616 0.971  0.9796 0.9862 0.9913]\n"
          ],
          "name": "stdout"
        }
      ]
    },
    {
      "cell_type": "code",
      "metadata": {
        "id": "y7dXsfpd_NaZ",
        "colab_type": "code",
        "colab": {
          "base_uri": "https://localhost:8080/",
          "height": 620
        },
        "outputId": "b7de6591-7e87-4709-dce3-8974c34c5725"
      },
      "source": [
        "# Set the number of components to 4\n",
        "\n",
        "factors = pd.DataFrame({\n",
        "    \"Features\":df_norm.columns,\n",
        "    \"Component 1\": pca.components_[0],\n",
        "    \"Component 2\": pca.components_[1],\n",
        "    \"Component 3\": pca.components_[2],\n",
        "    \"Component 4\": pca.components_[3]\n",
        "})\n",
        "\n",
        "pd.set_option('display.max_columns', None)\n",
        "print(factors)"
      ],
      "execution_count": null,
      "outputs": [
        {
          "output_type": "stream",
          "text": [
            "                                    Features  Component 1  Component 2  \\\n",
            "0                        Undergraduate_Total     0.103870     0.340994   \n",
            "1                             Graduate_Total     0.127064     0.269621   \n",
            "2            Undergraduate total_Grand Total     0.103870     0.340994   \n",
            "3                       Graduate_Grand Total     0.127064     0.269621   \n",
            "4                        Graduation rate (%)     0.908885    -0.399392   \n",
            "5                       Undergraduate_Asian      0.101917     0.226025   \n",
            "6   Undergraduate_Black or African American      0.015474     0.202314   \n",
            "7                       Undergraduate_White      0.095664     0.246524   \n",
            "8                            Graduate_Asian      0.099916     0.178924   \n",
            "9        Graduate_Black or African American      0.033206     0.115416   \n",
            "10                           Graduate_White      0.135188     0.278327   \n",
            "11        All students total_Full time - Men     0.181061     0.314295   \n",
            "12      All students total_Full time - Women     0.097216     0.174493   \n",
            "13         All full-time instructional staff     0.130316     0.184144   \n",
            "14                           On tenure track     0.072580     0.104943   \n",
            "15                       Not on tenure track     0.080216     0.113132   \n",
            "\n",
            "    Component 3  Component 4  \n",
            "0     -0.306275     0.186833  \n",
            "1      0.412827     0.066945  \n",
            "2     -0.306275     0.186833  \n",
            "3      0.412827     0.066945  \n",
            "4     -0.042420     0.098254  \n",
            "5     -0.187757    -0.427378  \n",
            "6     -0.188164     0.498431  \n",
            "7     -0.208030     0.186405  \n",
            "8      0.278148    -0.208535  \n",
            "9      0.207330     0.266175  \n",
            "10     0.422194     0.128701  \n",
            "11    -0.202342    -0.234577  \n",
            "12    -0.109111    -0.060815  \n",
            "13    -0.060612    -0.325484  \n",
            "14     0.008683    -0.230251  \n",
            "15     0.024663    -0.311701  \n"
          ],
          "name": "stdout"
        }
      ]
    },
    {
      "cell_type": "code",
      "metadata": {
        "id": "5Tx9KMhyRWFz",
        "colab_type": "code",
        "colab": {
          "base_uri": "https://localhost:8080/",
          "height": 103
        },
        "outputId": "f7739f89-7faf-4715-bedf-de86e4a09d9b"
      },
      "source": [
        "# To sum up the weight by subset\n",
        "# First, add the column \"subset\" to the dataset \"factors\"\n",
        "\n",
        "factors[\"subset\"] = \"size\"\n",
        "factors[\"subset\"].iloc[2:5] = \"selectivity\"\n",
        "factors[\"subset\"].iloc[5:13] = \"diversity\"\n",
        "factors[\"subset\"].iloc[13:] = \"faculty\"\n",
        "# print(factors)"
      ],
      "execution_count": null,
      "outputs": [
        {
          "output_type": "stream",
          "text": [
            "/usr/local/lib/python3.6/dist-packages/pandas/core/indexing.py:205: SettingWithCopyWarning: \n",
            "A value is trying to be set on a copy of a slice from a DataFrame\n",
            "\n",
            "See the caveats in the documentation: http://pandas.pydata.org/pandas-docs/stable/user_guide/indexing.html#returning-a-view-versus-a-copy\n",
            "  self._setitem_with_indexer(indexer, value)\n"
          ],
          "name": "stderr"
        }
      ]
    },
    {
      "cell_type": "code",
      "metadata": {
        "id": "jhm-eEvT-H03",
        "colab_type": "code",
        "colab": {
          "base_uri": "https://localhost:8080/",
          "height": 568
        },
        "outputId": "842ad164-41d7-4dbd-ad44-4609aea3576d"
      },
      "source": [
        "# Then, sum up weight (absolute value) in each group\n",
        "\n",
        "factors[\"abs_1\"] = factors[\"Component 1\"].abs()\n",
        "factors[\"abs_2\"] = factors[\"Component 2\"].abs()\n",
        "factors[\"abs_3\"] = factors[\"Component 3\"].abs()\n",
        "factors[\"abs_4\"] = factors[\"Component 4\"].abs()\n",
        "print(\"Weight of component 1 by groups:\")\n",
        "print(factors.groupby([\"subset\"])[\"abs_1\"].sum())\n",
        "print()\n",
        "print(\"Weight of component 2 by groups:\")\n",
        "print(factors.groupby([\"subset\"])[\"abs_2\"].sum())\n",
        "print()\n",
        "print(\"Weight of component 3 by groups:\")\n",
        "print(factors.groupby([\"subset\"])[\"abs_3\"].sum())\n",
        "print()\n",
        "print(\"Weight of component 4 by groups:\")\n",
        "print(factors.groupby([\"subset\"])[\"abs_4\"].sum())\n",
        "print()"
      ],
      "execution_count": null,
      "outputs": [
        {
          "output_type": "stream",
          "text": [
            "Weight of component 1 by groups:\n",
            "subset\n",
            "diversity      0.759641\n",
            "faculty        0.283112\n",
            "selectivity    1.139820\n",
            "size           0.230935\n",
            "Name: abs_1, dtype: float64\n",
            "\n",
            "Weight of component 2 by groups:\n",
            "subset\n",
            "diversity      1.736317\n",
            "faculty        0.402219\n",
            "selectivity    1.010006\n",
            "size           0.610614\n",
            "Name: abs_2, dtype: float64\n",
            "\n",
            "Weight of component 3 by groups:\n",
            "subset\n",
            "diversity      1.803076\n",
            "faculty        0.093958\n",
            "selectivity    0.761522\n",
            "size           0.719102\n",
            "Name: abs_3, dtype: float64\n",
            "\n",
            "Weight of component 4 by groups:\n",
            "subset\n",
            "diversity      2.011017\n",
            "faculty        0.867436\n",
            "selectivity    0.352031\n",
            "size           0.253777\n",
            "Name: abs_4, dtype: float64\n",
            "\n"
          ],
          "name": "stdout"
        }
      ]
    },
    {
      "cell_type": "markdown",
      "metadata": {
        "id": "c91bcUwo4sdh",
        "colab_type": "text"
      },
      "source": [
        "### Task 2.3. Unsupervised Clusters (6 points) \n",
        "Tune a K-means cluster model on this dataset, using the features from `df_norm`. In particular, tune the number of clusters *K* to a level that, in your best judgment, produces representative clusters and appropriate complexity.\n"
      ]
    },
    {
      "cell_type": "code",
      "metadata": {
        "id": "e1KRX5iH47QS",
        "colab_type": "code",
        "colab": {
          "base_uri": "https://localhost:8080/",
          "height": 1000
        },
        "outputId": "f85a738b-f9b1-44ed-9a78-15b75087874f"
      },
      "source": [
        "from sklearn.cluster import KMeans\n",
        "\n",
        "# Print statistics about the cluster\n",
        "def describe_cluster(cluster_instances):\n",
        "  undergrad_size = cluster_instances[\"Undergraduate_Total\"].mean()\n",
        "  graduate_size = cluster_instances[\"Graduate_Total\"].mean()\n",
        "  undergrad_grad = cluster_instances[\"Undergraduate total_Grand Total\"].mean()\n",
        "  graduate_grad = cluster_instances[\"Graduate_Grand Total\"].mean()\n",
        "  graduation_rate = cluster_instances[\"Graduation rate (%)\"].mean()\n",
        "  undergrad_asian = cluster_instances[\"Undergraduate_Asian \"].mean()\n",
        "  undergrad_black = cluster_instances[\"Undergraduate_Black or African American \"].mean()\n",
        "  undergrad_white = cluster_instances[\"Undergraduate_White \"].mean()\n",
        "  grad_asian = cluster_instances[\"Graduate_Asian \"].mean()\n",
        "  grad_black = cluster_instances[\"Graduate_Black or African American \"].mean()\n",
        "  grad_white = cluster_instances[\"Graduate_White \"].mean()\n",
        "  men = cluster_instances[\"All students total_Full time - Men\"].mean()\n",
        "  women = cluster_instances[\"All students total_Full time - Women\"].mean()\n",
        "  staff = cluster_instances[\"All full-time instructional staff\"].mean()\n",
        "  tenure_staff = cluster_instances[\"On tenure track\"].mean()\n",
        "  nontenure_staff = cluster_instances[\"Not on tenure track\"].mean()\n",
        "  print(f\"  Mean undergrad_size: {undergrad_size:.1f}\")\n",
        "  print(f\"  Mean graduate_size: {graduate_size:.1f}\")\n",
        "  print(f\"  Mean undergrad_grad: {undergrad_grad:.1f}\")\n",
        "  print(f\"  Mean graduate_grad: {graduate_grad:.1f}\")\n",
        "  print(f\"  Mean graduation_rate: {graduation_rate:.1f}\")\n",
        "  print(f\"  Mean undergrad_asian: {undergrad_asian:.1f}\")\n",
        "  print(f\"  Mean undergrad_black: {undergrad_black:.1f}\")\n",
        "  print(f\"  Mean undergrad_white: {undergrad_white:.1f}\")\n",
        "  print(f\"  Mean grad_asian: {grad_asian:.1f}\")\n",
        "  print(f\"  Mean grad_black: {grad_black:.1f}\")\n",
        "  print(f\"  Mean grad_white: {grad_white:.1f}\")\n",
        "  print(f\"  Mean men: {men:.1f}\")\n",
        "  print(f\"  Mean women: {women:.1f}\")\n",
        "  print(f\"  Mean staff: {staff:.1f}\")\n",
        "  print(f\"  Mean tenure_staff: {tenure_staff:.1f}\")\n",
        "  print(f\"  Mean nontenure_staff: {nontenure_staff:.1f}\")\n",
        "\n",
        "for k in range(2,6):\n",
        "    print(f\"Cluster Statistics for k = {k}\")\n",
        "\n",
        "    # Learn Clusters\n",
        "    learner = KMeans(n_clusters=k)\n",
        "    clusters = learner.fit(df_norm)\n",
        "\n",
        "    # Add clusters do datafram and describe the clusters\n",
        "    df[\"cluster\"] = clusters.labels_\n",
        "    for cluster_id in df[\"cluster\"].unique():\n",
        "        print(f\"Cluster {cluster_id}\")\n",
        "        cluster_instances = df.loc[df.cluster == cluster_id]\n",
        "        print(f\"  {100*len(cluster_instances)/len(df):.1f}% of data.\")\n",
        "        describe_cluster(cluster_instances)\n",
        "\n",
        "    print(\"------------------------------\")"
      ],
      "execution_count": null,
      "outputs": [
        {
          "output_type": "stream",
          "text": [
            "Cluster Statistics for k = 2\n",
            "Cluster 0\n",
            "  45.6% of data.\n",
            "  Mean undergrad_size: 4558.8\n",
            "  Mean graduate_size: 1853.4\n",
            "  Mean undergrad_grad: 4558.8\n",
            "  Mean graduate_grad: 1853.4\n",
            "  Mean graduation_rate: 0.7\n",
            "  Mean undergrad_asian: 352.1\n",
            "  Mean undergrad_black: 405.7\n",
            "  Mean undergrad_white: 2476.8\n",
            "  Mean grad_asian: 122.6\n",
            "  Mean grad_black: 162.0\n",
            "  Mean grad_white: 937.5\n",
            "  Mean men: 2044.5\n",
            "  Mean women: 2473.4\n",
            "  Mean staff: 289.4\n",
            "  Mean tenure_staff: 77.6\n",
            "  Mean nontenure_staff: 115.7\n",
            "Cluster 1\n",
            "  54.4% of data.\n",
            "  Mean undergrad_size: 4243.6\n",
            "  Mean graduate_size: 1150.0\n",
            "  Mean undergrad_grad: 4243.6\n",
            "  Mean graduate_grad: 1150.0\n",
            "  Mean graduation_rate: 0.3\n",
            "  Mean undergrad_asian: 215.1\n",
            "  Mean undergrad_black: 627.8\n",
            "  Mean undergrad_white: 1875.9\n",
            "  Mean grad_asian: 58.4\n",
            "  Mean grad_black: 144.8\n",
            "  Mean grad_white: 562.1\n",
            "  Mean men: 850.1\n",
            "  Mean women: 1089.9\n",
            "  Mean staff: 95.2\n",
            "  Mean tenure_staff: 45.2\n",
            "  Mean nontenure_staff: 49.7\n",
            "------------------------------\n",
            "Cluster Statistics for k = 3\n",
            "Cluster 0\n",
            "  5.4% of data.\n",
            "  Mean undergrad_size: 23999.6\n",
            "  Mean graduate_size: 8721.9\n",
            "  Mean undergrad_grad: 23999.6\n",
            "  Mean graduate_grad: 8721.9\n",
            "  Mean graduation_rate: 0.6\n",
            "  Mean undergrad_asian: 2313.5\n",
            "  Mean undergrad_black: 2247.8\n",
            "  Mean undergrad_white: 11687.8\n",
            "  Mean grad_asian: 654.6\n",
            "  Mean grad_black: 834.5\n",
            "  Mean grad_white: 3997.7\n",
            "  Mean men: 10450.0\n",
            "  Mean women: 11943.1\n",
            "  Mean staff: 1422.5\n",
            "  Mean tenure_staff: 270.3\n",
            "  Mean nontenure_staff: 505.2\n",
            "Cluster 1\n",
            "  44.2% of data.\n",
            "  Mean undergrad_size: 2253.6\n",
            "  Mean graduate_size: 1013.3\n",
            "  Mean undergrad_grad: 2253.6\n",
            "  Mean graduate_grad: 1013.3\n",
            "  Mean graduation_rate: 0.6\n",
            "  Mean undergrad_asian: 104.9\n",
            "  Mean undergrad_black: 224.5\n",
            "  Mean undergrad_white: 1314.9\n",
            "  Mean grad_asian: 55.3\n",
            "  Mean grad_black: 98.9\n",
            "  Mean grad_white: 547.6\n",
            "  Mean men: 922.9\n",
            "  Mean women: 1210.2\n",
            "  Mean staff: 132.3\n",
            "  Mean tenure_staff: 50.9\n",
            "  Mean nontenure_staff: 60.3\n",
            "Cluster 2\n",
            "  50.4% of data.\n",
            "  Mean undergrad_size: 4155.3\n",
            "  Mean graduate_size: 1095.4\n",
            "  Mean undergrad_grad: 4155.3\n",
            "  Mean graduate_grad: 1095.4\n",
            "  Mean graduation_rate: 0.2\n",
            "  Mean undergrad_asian: 210.9\n",
            "  Mean undergrad_black: 606.4\n",
            "  Mean undergrad_white: 1860.1\n",
            "  Mean grad_asian: 55.4\n",
            "  Mean grad_black: 126.7\n",
            "  Mean grad_white: 546.7\n",
            "  Mean men: 839.4\n",
            "  Mean women: 1074.5\n",
            "  Mean staff: 96.4\n",
            "  Mean tenure_staff: 45.4\n",
            "  Mean nontenure_staff: 51.3\n",
            "------------------------------\n",
            "Cluster Statistics for k = 4\n",
            "Cluster 0\n",
            "  5.1% of data.\n",
            "  Mean undergrad_size: 24772.5\n",
            "  Mean graduate_size: 8813.8\n",
            "  Mean undergrad_grad: 24772.5\n",
            "  Mean graduate_grad: 8813.8\n",
            "  Mean graduation_rate: 0.6\n",
            "  Mean undergrad_asian: 2390.4\n",
            "  Mean undergrad_black: 2320.0\n",
            "  Mean undergrad_white: 12019.4\n",
            "  Mean grad_asian: 659.4\n",
            "  Mean grad_black: 862.0\n",
            "  Mean grad_white: 4032.7\n",
            "  Mean men: 10762.2\n",
            "  Mean women: 12284.3\n",
            "  Mean staff: 1458.5\n",
            "  Mean tenure_staff: 274.8\n",
            "  Mean nontenure_staff: 520.1\n",
            "Cluster 3\n",
            "  37.0% of data.\n",
            "  Mean undergrad_size: 3302.6\n",
            "  Mean graduate_size: 1081.6\n",
            "  Mean undergrad_grad: 3302.6\n",
            "  Mean graduate_grad: 1081.6\n",
            "  Mean graduation_rate: 0.4\n",
            "  Mean undergrad_asian: 131.9\n",
            "  Mean undergrad_black: 418.0\n",
            "  Mean undergrad_white: 1731.3\n",
            "  Mean grad_asian: 52.2\n",
            "  Mean grad_black: 126.7\n",
            "  Mean grad_white: 562.8\n",
            "  Mean men: 958.5\n",
            "  Mean women: 1274.9\n",
            "  Mean staff: 117.3\n",
            "  Mean tenure_staff: 48.4\n",
            "  Mean nontenure_staff: 53.7\n",
            "Cluster 1\n",
            "  30.3% of data.\n",
            "  Mean undergrad_size: 4434.2\n",
            "  Mean graduate_size: 1071.6\n",
            "  Mean undergrad_grad: 4434.2\n",
            "  Mean graduate_grad: 1071.6\n",
            "  Mean graduation_rate: 0.2\n",
            "  Mean undergrad_asian: 240.9\n",
            "  Mean undergrad_black: 693.9\n",
            "  Mean undergrad_white: 1863.1\n",
            "  Mean grad_asian: 56.7\n",
            "  Mean grad_black: 117.5\n",
            "  Mean grad_white: 536.0\n",
            "  Mean men: 784.8\n",
            "  Mean women: 966.1\n",
            "  Mean staff: 87.2\n",
            "  Mean tenure_staff: 44.6\n",
            "  Mean nontenure_staff: 51.1\n",
            "Cluster 2\n",
            "  27.6% of data.\n",
            "  Mean undergrad_size: 2017.2\n",
            "  Mean graduate_size: 1071.4\n",
            "  Mean undergrad_grad: 2017.2\n",
            "  Mean graduate_grad: 1071.4\n",
            "  Mean graduation_rate: 0.7\n",
            "  Mean undergrad_asian: 122.1\n",
            "  Mean undergrad_black: 156.4\n",
            "  Mean undergrad_white: 1199.4\n",
            "  Mean grad_asian: 63.5\n",
            "  Mean grad_black: 94.6\n",
            "  Mean grad_white: 567.9\n",
            "  Mean men: 915.5\n",
            "  Mean women: 1192.0\n",
            "  Mean staff: 143.1\n",
            "  Mean tenure_staff: 52.6\n",
            "  Mean nontenure_staff: 64.7\n",
            "------------------------------\n",
            "Cluster Statistics for k = 5\n",
            "Cluster 2\n",
            "  5.0% of data.\n",
            "  Mean undergrad_size: 25517.1\n",
            "  Mean graduate_size: 7175.9\n",
            "  Mean undergrad_grad: 25517.1\n",
            "  Mean graduate_grad: 7175.9\n",
            "  Mean graduation_rate: 0.7\n",
            "  Mean undergrad_asian: 2519.1\n",
            "  Mean undergrad_black: 2387.3\n",
            "  Mean undergrad_white: 12281.3\n",
            "  Mean grad_asian: 542.2\n",
            "  Mean grad_black: 560.4\n",
            "  Mean grad_white: 3400.2\n",
            "  Mean men: 11185.9\n",
            "  Mean women: 12711.4\n",
            "  Mean staff: 1517.4\n",
            "  Mean tenure_staff: 277.9\n",
            "  Mean nontenure_staff: 531.4\n",
            "Cluster 1\n",
            "  36.3% of data.\n",
            "  Mean undergrad_size: 3223.1\n",
            "  Mean graduate_size: 895.6\n",
            "  Mean undergrad_grad: 3223.1\n",
            "  Mean graduate_grad: 895.6\n",
            "  Mean graduation_rate: 0.4\n",
            "  Mean undergrad_asian: 123.9\n",
            "  Mean undergrad_black: 406.6\n",
            "  Mean undergrad_white: 1705.9\n",
            "  Mean grad_asian: 37.6\n",
            "  Mean grad_black: 108.3\n",
            "  Mean grad_white: 473.9\n",
            "  Mean men: 943.5\n",
            "  Mean women: 1256.2\n",
            "  Mean staff: 116.1\n",
            "  Mean tenure_staff: 47.5\n",
            "  Mean nontenure_staff: 53.3\n",
            "Cluster 3\n",
            "  29.2% of data.\n",
            "  Mean undergrad_size: 4432.5\n",
            "  Mean graduate_size: 829.9\n",
            "  Mean undergrad_grad: 4432.5\n",
            "  Mean graduate_grad: 829.9\n",
            "  Mean graduation_rate: 0.2\n",
            "  Mean undergrad_asian: 241.9\n",
            "  Mean undergrad_black: 687.5\n",
            "  Mean undergrad_white: 1866.2\n",
            "  Mean grad_asian: 39.5\n",
            "  Mean grad_black: 100.8\n",
            "  Mean grad_white: 409.5\n",
            "  Mean men: 785.0\n",
            "  Mean women: 964.8\n",
            "  Mean staff: 87.2\n",
            "  Mean tenure_staff: 42.5\n",
            "  Mean nontenure_staff: 47.1\n",
            "Cluster 0\n",
            "  27.3% of data.\n",
            "  Mean undergrad_size: 1956.9\n",
            "  Mean graduate_size: 954.9\n",
            "  Mean undergrad_grad: 1956.9\n",
            "  Mean graduate_grad: 954.9\n",
            "  Mean graduation_rate: 0.7\n",
            "  Mean undergrad_asian: 111.4\n",
            "  Mean undergrad_black: 155.3\n",
            "  Mean undergrad_white: 1168.2\n",
            "  Mean grad_asian: 54.8\n",
            "  Mean grad_black: 84.3\n",
            "  Mean grad_white: 510.7\n",
            "  Mean men: 883.4\n",
            "  Mean women: 1164.4\n",
            "  Mean staff: 138.2\n",
            "  Mean tenure_staff: 51.3\n",
            "  Mean nontenure_staff: 63.6\n",
            "Cluster 4\n",
            "  2.1% of data.\n",
            "  Mean undergrad_size: 4853.8\n",
            "  Mean graduate_size: 13096.6\n",
            "  Mean undergrad_grad: 4853.8\n",
            "  Mean graduate_grad: 13096.6\n",
            "  Mean graduation_rate: 0.4\n",
            "  Mean undergrad_asian: 220.8\n",
            "  Mean undergrad_black: 722.0\n",
            "  Mean undergrad_white: 2271.5\n",
            "  Mean grad_asian: 941.7\n",
            "  Mean grad_black: 1520.1\n",
            "  Mean grad_white: 6104.2\n",
            "  Mean men: 894.7\n",
            "  Mean women: 1198.5\n",
            "  Mean staff: 98.2\n",
            "  Mean tenure_staff: 107.6\n",
            "  Mean nontenure_staff: 119.0\n",
            "------------------------------\n"
          ],
          "name": "stdout"
        }
      ]
    },
    {
      "cell_type": "code",
      "metadata": {
        "id": "-Y_lthEMSXW9",
        "colab_type": "code",
        "colab": {
          "base_uri": "https://localhost:8080/",
          "height": 86
        },
        "outputId": "60a5b2b7-ba76-45e1-f5c2-b8e8c62d0eac"
      },
      "source": [
        "# Use silhouette score to evaluate Clusters\n",
        "\n",
        "from sklearn.metrics import silhouette_score\n",
        "\n",
        "sils = []\n",
        "\n",
        "for k in range(2,6):\n",
        "  learner = KMeans(n_clusters=k, random_state=123)\n",
        "  clusters = learner.fit(df_norm)\n",
        "  df[\"cluster\"] = clusters.labels_\n",
        "  silhouette = silhouette_score(df_norm, df[\"cluster\"])\n",
        "  sils.append(silhouette)\n",
        "  print(f\"K={k}, silhouette={silhouette:.3f}\")"
      ],
      "execution_count": null,
      "outputs": [
        {
          "output_type": "stream",
          "text": [
            "K=2, silhouette=0.366\n",
            "K=3, silhouette=0.394\n",
            "K=4, silhouette=0.290\n",
            "K=5, silhouette=0.301\n"
          ],
          "name": "stdout"
        }
      ]
    },
    {
      "cell_type": "markdown",
      "metadata": {
        "id": "iDMs5CRVHoks",
        "colab_type": "text"
      },
      "source": [
        "When k = 3\n",
        "\n",
        "  - cluster 0 represents universities with extremely large student cohort (both undergrad and graduate).Also the number of non-tenured staff is almost twice as the number of tenured staff.\n",
        "\n",
        "  - cluster 1 represents universities with smaller Asian cohort.\n",
        "\n",
        "  - cluster 2 represents universities with reletively low graduation rates."
      ]
    },
    {
      "cell_type": "markdown",
      "metadata": {
        "id": "nw25uxOn5OgB",
        "colab_type": "text"
      },
      "source": [
        "## Question 3 *(6 points)*\n",
        "\n",
        "   - What number of clusters did you choose, and what was your evaluation process for choosing that value?\n",
        "   I chose 2 as the number of clusters, based on the value of silhouette score.\n",
        "   - Do the sets of features you chose manually align with the principal components and/or clusters you discovered?\n",
        "   - What additional features, not present in this data, would be useful to group together similar universities using unsupervised learning?\n",
        "\n"
      ]
    },
    {
      "cell_type": "markdown",
      "metadata": {
        "id": "yEjX84zf5VOB",
        "colab_type": "text"
      },
      "source": [
        "*Answer to question 3:*\n",
        "- I chose 3 as the number of clusters, based on the value of silhouette score.\n",
        "\n",
        "- The features I chose are generally representative and can distinguish different groups of univerisities. For example, when the number of component was set to 4, in component 1, the highest weighted feature is graduation rate, the sebset selectivity is also the highest weighted subset. In component 3 and 4, in which the highest weighted subset are both diversity, the highest weighted features (graduate white and undergrad black) are also in this subset.\n",
        "\n",
        "- Features such as tuition and geography information would be useful. Also, the proportions of student race would tell more stories than the current actual student numbers of races."
      ]
    }
  ]
}