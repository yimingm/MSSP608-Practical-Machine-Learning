{
  "nbformat": 4,
  "nbformat_minor": 0,
  "metadata": {
    "colab": {
      "name": "Homework2_Optimization.ipynb",
      "provenance": [],
      "include_colab_link": true
    },
    "kernelspec": {
      "name": "python3",
      "display_name": "Python 3"
    }
  },
  "cells": [
    {
      "cell_type": "markdown",
      "metadata": {
        "id": "view-in-github",
        "colab_type": "text"
      },
      "source": [
        "<a href=\"https://colab.research.google.com/github/yimingm/MSSP608-Practical-Machine-Learning/blob/master/Homework2_Optimization.ipynb\" target=\"_parent\"><img src=\"https://colab.research.google.com/assets/colab-badge.svg\" alt=\"Open In Colab\"/></a>"
      ]
    },
    {
      "cell_type": "markdown",
      "metadata": {
        "id": "1-M5G2ryQRSe",
        "colab_type": "text"
      },
      "source": [
        "# Homework 2 (Due February 9, 2020)\n",
        "Last week you trained a machine learning classifier to predict borrower success rates on LendingClub.com, using a set of features that were already present in the dataset. This week you will spend time optimizing that model.\n",
        "\n",
        "Feel free to reuse code from your first homework submission; this does not need to be done from scratch.\n",
        "\n",
        "# Question 1\n",
        "\n",
        "Choose **ONE** of the following three options:\n",
        "\n",
        "   - The `state` column is currently broken into 51 distinct values. Create a new feature, `region`, that groups similar states together.\n",
        "   - The `emp_length` column is currently a nominal value. Create a new feature, `emp_length_numeric`, that treats the variable as a numeric value instead.\n",
        "   - The `title` column is a free-form string and is currently hard or impossible to use as a feature. Define one or more features that capture information about the type of loan being applied for, based on the contents of the title.\n",
        "\n",
        "For the option you have chosen, compare how switching to your new feature in a decision tree model improves or worsens performance compared to using the original representation. Report your quantitative results along with an explanation of your new feature's possible values."
      ]
    },
    {
      "cell_type": "code",
      "metadata": {
        "id": "MrHa9712sajl",
        "colab_type": "code",
        "colab": {
          "base_uri": "https://localhost:8080/",
          "height": 71
        },
        "outputId": "9b88bfdc-9fb5-429d-b3b2-398eb939ec1e"
      },
      "source": [
        "import math\n",
        "import pandas as pd\n",
        "import numpy as np\n",
        "import statsmodels.formula.api as smf\n",
        "import matplotlib.pyplot as plt\n",
        "import calendar\n",
        "import itertools\n",
        "from scipy import stats\n",
        "from matplotlib import dates\n",
        "from datetime import datetime\n",
        "\n",
        "from sklearn.metrics import accuracy_score, precision_score, recall_score, f1_score, cohen_kappa_score, confusion_matrix, ConfusionMatrixDisplay\n",
        "from sklearn.linear_model import LogisticRegression\n",
        "from sklearn.tree import DecisionTreeClassifier\n",
        "from sklearn import tree\n",
        "from sklearn.model_selection import train_test_split, KFold, StratifiedKFold, GroupKFold, GridSearchCV\n",
        "from sklearn.utils.testing import ignore_warnings\n",
        "from sklearn.exceptions import ConvergenceWarning, UndefinedMetricWarning"
      ],
      "execution_count": null,
      "outputs": [
        {
          "output_type": "stream",
          "text": [
            "/usr/local/lib/python3.6/dist-packages/sklearn/utils/deprecation.py:144: FutureWarning: The sklearn.utils.testing module is  deprecated in version 0.22 and will be removed in version 0.24. The corresponding classes / functions should instead be imported from sklearn.utils. Anything that cannot be imported from sklearn.utils is now part of the private API.\n",
            "  warnings.warn(message, FutureWarning)\n"
          ],
          "name": "stderr"
        }
      ]
    },
    {
      "cell_type": "markdown",
      "metadata": {
        "id": "QzFBHtFHRBkH",
        "colab_type": "text"
      },
      "source": [
        "# Download the Data \n",
        "Keep this if you are working in Google Colab. Delete this if you are working on your own computer and have the data downloaded already. "
      ]
    },
    {
      "cell_type": "code",
      "metadata": {
        "id": "gD8xgRYrRAV3",
        "colab_type": "code",
        "colab": {
          "base_uri": "https://localhost:8080/",
          "height": 326
        },
        "outputId": "37c82c05-2822-4a43-9852-4d2d98dba6e2"
      },
      "source": [
        "!wget --no-check-certificate 'https://docs.google.com/uc?export=download&id=0B5qTk6DHjanhOV9LRE5DY3l1T2pGemVBNTVQVzVsMlFCcHF3' -O lendingclub.csv"
      ],
      "execution_count": null,
      "outputs": [
        {
          "output_type": "stream",
          "text": [
            "--2020-02-09 21:58:38--  https://docs.google.com/uc?export=download&id=0B5qTk6DHjanhOV9LRE5DY3l1T2pGemVBNTVQVzVsMlFCcHF3\n",
            "Resolving docs.google.com (docs.google.com)... 173.194.202.100, 173.194.202.139, 173.194.202.101, ...\n",
            "Connecting to docs.google.com (docs.google.com)|173.194.202.100|:443... connected.\n",
            "HTTP request sent, awaiting response... 302 Moved Temporarily\n",
            "Location: https://doc-10-5c-docs.googleusercontent.com/docs/securesc/ha0ro937gcuc7l7deffksulhg5h7mbp1/nq53hl6d0pgaclurgsr2b8njfp5edv12/1581284700000/09819396713149841370/*/0B5qTk6DHjanhOV9LRE5DY3l1T2pGemVBNTVQVzVsMlFCcHF3?e=download [following]\n",
            "Warning: wildcards not supported in HTTP.\n",
            "--2020-02-09 21:58:44--  https://doc-10-5c-docs.googleusercontent.com/docs/securesc/ha0ro937gcuc7l7deffksulhg5h7mbp1/nq53hl6d0pgaclurgsr2b8njfp5edv12/1581284700000/09819396713149841370/*/0B5qTk6DHjanhOV9LRE5DY3l1T2pGemVBNTVQVzVsMlFCcHF3?e=download\n",
            "Resolving doc-10-5c-docs.googleusercontent.com (doc-10-5c-docs.googleusercontent.com)... 74.125.135.132, 2607:f8b0:400e:c01::84\n",
            "Connecting to doc-10-5c-docs.googleusercontent.com (doc-10-5c-docs.googleusercontent.com)|74.125.135.132|:443... connected.\n",
            "HTTP request sent, awaiting response... 200 OK\n",
            "Length: unspecified [text/csv]\n",
            "Saving to: ‘lendingclub.csv’\n",
            "\n",
            "lendingclub.csv         [ <=>                ]   6.03M  --.-KB/s    in 0.03s   \n",
            "\n",
            "2020-02-09 21:58:44 (188 MB/s) - ‘lendingclub.csv’ saved [6325329]\n",
            "\n"
          ],
          "name": "stdout"
        }
      ]
    },
    {
      "cell_type": "markdown",
      "metadata": {
        "id": "YnbKY_Ys6mIO",
        "colab_type": "text"
      },
      "source": [
        "**Step 1: Open Dataset**"
      ]
    },
    {
      "cell_type": "code",
      "metadata": {
        "id": "FtMjxOMitw3V",
        "colab_type": "code",
        "colab": {
          "base_uri": "https://localhost:8080/",
          "height": 204
        },
        "outputId": "fb453dca-0d26-475c-d188-637b2f12e733"
      },
      "source": [
        "lendingclub = pd.read_csv(\"lendingclub.csv\") \n",
        "lendingclub.head()"
      ],
      "execution_count": null,
      "outputs": [
        {
          "output_type": "execute_result",
          "data": {
            "text/html": [
              "<div>\n",
              "<style scoped>\n",
              "    .dataframe tbody tr th:only-of-type {\n",
              "        vertical-align: middle;\n",
              "    }\n",
              "\n",
              "    .dataframe tbody tr th {\n",
              "        vertical-align: top;\n",
              "    }\n",
              "\n",
              "    .dataframe thead th {\n",
              "        text-align: right;\n",
              "    }\n",
              "</style>\n",
              "<table border=\"1\" class=\"dataframe\">\n",
              "  <thead>\n",
              "    <tr style=\"text-align: right;\">\n",
              "      <th></th>\n",
              "      <th>amount</th>\n",
              "      <th>date</th>\n",
              "      <th>title</th>\n",
              "      <th>fico</th>\n",
              "      <th>dti</th>\n",
              "      <th>zip</th>\n",
              "      <th>state</th>\n",
              "      <th>emp_length</th>\n",
              "      <th>policy_code</th>\n",
              "      <th>year</th>\n",
              "      <th>outcome</th>\n",
              "    </tr>\n",
              "  </thead>\n",
              "  <tbody>\n",
              "    <tr>\n",
              "      <th>0</th>\n",
              "      <td>2500.0</td>\n",
              "      <td>Dec-2011</td>\n",
              "      <td>bike</td>\n",
              "      <td>740.0</td>\n",
              "      <td>1.00</td>\n",
              "      <td>309xx</td>\n",
              "      <td>GA</td>\n",
              "      <td>&lt; 1 year</td>\n",
              "      <td>1.0</td>\n",
              "      <td>2011</td>\n",
              "      <td>accept</td>\n",
              "    </tr>\n",
              "    <tr>\n",
              "      <th>1</th>\n",
              "      <td>12000.0</td>\n",
              "      <td>Dec-2011</td>\n",
              "      <td>Consolidation</td>\n",
              "      <td>675.0</td>\n",
              "      <td>10.78</td>\n",
              "      <td>913xx</td>\n",
              "      <td>CA</td>\n",
              "      <td>10+ years</td>\n",
              "      <td>1.0</td>\n",
              "      <td>2011</td>\n",
              "      <td>accept</td>\n",
              "    </tr>\n",
              "    <tr>\n",
              "      <th>2</th>\n",
              "      <td>21000.0</td>\n",
              "      <td>Dec-2011</td>\n",
              "      <td>Debt Cleanup</td>\n",
              "      <td>705.0</td>\n",
              "      <td>13.22</td>\n",
              "      <td>335xx</td>\n",
              "      <td>FL</td>\n",
              "      <td>10+ years</td>\n",
              "      <td>1.0</td>\n",
              "      <td>2011</td>\n",
              "      <td>accept</td>\n",
              "    </tr>\n",
              "    <tr>\n",
              "      <th>3</th>\n",
              "      <td>31825.0</td>\n",
              "      <td>Dec-2011</td>\n",
              "      <td>Debt Consolidation Loan</td>\n",
              "      <td>760.0</td>\n",
              "      <td>14.03</td>\n",
              "      <td>080xx</td>\n",
              "      <td>NJ</td>\n",
              "      <td>5 years</td>\n",
              "      <td>1.0</td>\n",
              "      <td>2011</td>\n",
              "      <td>accept</td>\n",
              "    </tr>\n",
              "    <tr>\n",
              "      <th>4</th>\n",
              "      <td>12000.0</td>\n",
              "      <td>Dec-2011</td>\n",
              "      <td>Debt Consolidation</td>\n",
              "      <td>725.0</td>\n",
              "      <td>16.70</td>\n",
              "      <td>088xx</td>\n",
              "      <td>NJ</td>\n",
              "      <td>10+ years</td>\n",
              "      <td>1.0</td>\n",
              "      <td>2011</td>\n",
              "      <td>accept</td>\n",
              "    </tr>\n",
              "  </tbody>\n",
              "</table>\n",
              "</div>"
            ],
            "text/plain": [
              "    amount      date                    title  ...  policy_code  year outcome\n",
              "0   2500.0  Dec-2011                     bike  ...          1.0  2011  accept\n",
              "1  12000.0  Dec-2011            Consolidation  ...          1.0  2011  accept\n",
              "2  21000.0  Dec-2011             Debt Cleanup  ...          1.0  2011  accept\n",
              "3  31825.0  Dec-2011  Debt Consolidation Loan  ...          1.0  2011  accept\n",
              "4  12000.0  Dec-2011       Debt Consolidation  ...          1.0  2011  accept\n",
              "\n",
              "[5 rows x 11 columns]"
            ]
          },
          "metadata": {
            "tags": []
          },
          "execution_count": 3
        }
      ]
    },
    {
      "cell_type": "markdown",
      "metadata": {
        "colab_type": "text",
        "id": "Uz9CY7-kuNV_"
      },
      "source": [
        "**Step 2: \"emp_length\" Transformation**\n",
        "\n",
        "In this step, I transformed the nominal feature indicating employment length to numeric feature. I defined \"less than one year working length\" as 0 working year. Since we do not know exactly how long is the \"10+ years\" employment length, I set the number 15 arbitrarily as the replacement of \"10+ years\" employment length.\n",
        "\n",
        "New Possible Values of \"emp_length\":\n",
        "\n",
        "    < 1 year = 0\n",
        "\n",
        "    1 year = 1\n",
        "\n",
        "    2 years = 2\n",
        "\n",
        "    ......\n",
        "\n",
        "    10 years = 10\n",
        "\n",
        "    10+ years = 15\n"
      ]
    },
    {
      "cell_type": "code",
      "metadata": {
        "id": "lfojSERuuy55",
        "colab_type": "code",
        "colab": {
          "base_uri": "https://localhost:8080/",
          "height": 408
        },
        "outputId": "2803304c-efaa-43dd-ac1f-e0012cb6e237"
      },
      "source": [
        "def emp(x):\n",
        "    if x == '< 1 year':\n",
        "        return 0\n",
        "    if x == '1 year':\n",
        "        return 1\n",
        "    if x == '2 years':\n",
        "        return 2\n",
        "    if x == '3 years':\n",
        "        return 3\n",
        "    if x == '4 years':\n",
        "        return 4\n",
        "    if x == '5 years':\n",
        "        return 5\n",
        "    if x == '6 years':\n",
        "        return 6\n",
        "    if x == '7 years':\n",
        "        return 7\n",
        "    if x == '8 years':\n",
        "        return 8\n",
        "    if x == '9 years':\n",
        "        return 9\n",
        "    if x == '10 years':\n",
        "        return 10\n",
        "    if x == '10+ years':\n",
        "        return 15\n",
        "    \n",
        "lendingclub[\"emp\"] = lendingclub[\"emp_length\"].apply(emp)\n",
        "print(lendingclub[\"emp\"].value_counts())\n",
        "lendingclub.head()"
      ],
      "execution_count": null,
      "outputs": [
        {
          "output_type": "stream",
          "text": [
            "0     57065\n",
            "15     5959\n",
            "2      3362\n",
            "1      2963\n",
            "3      2690\n",
            "4      2175\n",
            "5      2135\n",
            "6      1627\n",
            "7      1243\n",
            "8      1054\n",
            "9       830\n",
            "Name: emp, dtype: int64\n"
          ],
          "name": "stdout"
        },
        {
          "output_type": "execute_result",
          "data": {
            "text/html": [
              "<div>\n",
              "<style scoped>\n",
              "    .dataframe tbody tr th:only-of-type {\n",
              "        vertical-align: middle;\n",
              "    }\n",
              "\n",
              "    .dataframe tbody tr th {\n",
              "        vertical-align: top;\n",
              "    }\n",
              "\n",
              "    .dataframe thead th {\n",
              "        text-align: right;\n",
              "    }\n",
              "</style>\n",
              "<table border=\"1\" class=\"dataframe\">\n",
              "  <thead>\n",
              "    <tr style=\"text-align: right;\">\n",
              "      <th></th>\n",
              "      <th>amount</th>\n",
              "      <th>date</th>\n",
              "      <th>title</th>\n",
              "      <th>fico</th>\n",
              "      <th>dti</th>\n",
              "      <th>zip</th>\n",
              "      <th>state</th>\n",
              "      <th>emp_length</th>\n",
              "      <th>policy_code</th>\n",
              "      <th>year</th>\n",
              "      <th>outcome</th>\n",
              "      <th>emp</th>\n",
              "    </tr>\n",
              "  </thead>\n",
              "  <tbody>\n",
              "    <tr>\n",
              "      <th>0</th>\n",
              "      <td>2500.0</td>\n",
              "      <td>Dec-2011</td>\n",
              "      <td>bike</td>\n",
              "      <td>740.0</td>\n",
              "      <td>1.00</td>\n",
              "      <td>309xx</td>\n",
              "      <td>GA</td>\n",
              "      <td>&lt; 1 year</td>\n",
              "      <td>1.0</td>\n",
              "      <td>2011</td>\n",
              "      <td>accept</td>\n",
              "      <td>0</td>\n",
              "    </tr>\n",
              "    <tr>\n",
              "      <th>1</th>\n",
              "      <td>12000.0</td>\n",
              "      <td>Dec-2011</td>\n",
              "      <td>Consolidation</td>\n",
              "      <td>675.0</td>\n",
              "      <td>10.78</td>\n",
              "      <td>913xx</td>\n",
              "      <td>CA</td>\n",
              "      <td>10+ years</td>\n",
              "      <td>1.0</td>\n",
              "      <td>2011</td>\n",
              "      <td>accept</td>\n",
              "      <td>15</td>\n",
              "    </tr>\n",
              "    <tr>\n",
              "      <th>2</th>\n",
              "      <td>21000.0</td>\n",
              "      <td>Dec-2011</td>\n",
              "      <td>Debt Cleanup</td>\n",
              "      <td>705.0</td>\n",
              "      <td>13.22</td>\n",
              "      <td>335xx</td>\n",
              "      <td>FL</td>\n",
              "      <td>10+ years</td>\n",
              "      <td>1.0</td>\n",
              "      <td>2011</td>\n",
              "      <td>accept</td>\n",
              "      <td>15</td>\n",
              "    </tr>\n",
              "    <tr>\n",
              "      <th>3</th>\n",
              "      <td>31825.0</td>\n",
              "      <td>Dec-2011</td>\n",
              "      <td>Debt Consolidation Loan</td>\n",
              "      <td>760.0</td>\n",
              "      <td>14.03</td>\n",
              "      <td>080xx</td>\n",
              "      <td>NJ</td>\n",
              "      <td>5 years</td>\n",
              "      <td>1.0</td>\n",
              "      <td>2011</td>\n",
              "      <td>accept</td>\n",
              "      <td>5</td>\n",
              "    </tr>\n",
              "    <tr>\n",
              "      <th>4</th>\n",
              "      <td>12000.0</td>\n",
              "      <td>Dec-2011</td>\n",
              "      <td>Debt Consolidation</td>\n",
              "      <td>725.0</td>\n",
              "      <td>16.70</td>\n",
              "      <td>088xx</td>\n",
              "      <td>NJ</td>\n",
              "      <td>10+ years</td>\n",
              "      <td>1.0</td>\n",
              "      <td>2011</td>\n",
              "      <td>accept</td>\n",
              "      <td>15</td>\n",
              "    </tr>\n",
              "  </tbody>\n",
              "</table>\n",
              "</div>"
            ],
            "text/plain": [
              "    amount      date                    title  ...  year  outcome emp\n",
              "0   2500.0  Dec-2011                     bike  ...  2011   accept   0\n",
              "1  12000.0  Dec-2011            Consolidation  ...  2011   accept  15\n",
              "2  21000.0  Dec-2011             Debt Cleanup  ...  2011   accept  15\n",
              "3  31825.0  Dec-2011  Debt Consolidation Loan  ...  2011   accept   5\n",
              "4  12000.0  Dec-2011       Debt Consolidation  ...  2011   accept  15\n",
              "\n",
              "[5 rows x 12 columns]"
            ]
          },
          "metadata": {
            "tags": []
          },
          "execution_count": 4
        }
      ]
    },
    {
      "cell_type": "markdown",
      "metadata": {
        "id": "FFHTfaiw6BED",
        "colab_type": "text"
      },
      "source": [
        "**Step 3: Build Decision Tree**\n",
        "\n",
        "The following codes trained the decision trees and provided the performance (accuracy, kappa and precision) of the trained classifier using scikit-learn. \n",
        "Both decision trees contain features \"amount\" and \"fico\", with numeric employment length in one tree and nominal employment length in another."
      ]
    },
    {
      "cell_type": "code",
      "metadata": {
        "id": "_fBGq3nht_V6",
        "colab_type": "code",
        "colab": {}
      },
      "source": [
        "# Pack the training sets with 3-feature-set \n",
        "# Replace nominal employment length with numeric employment length in the second tree.\n",
        "employment_numeric = [\"emp\"]\n",
        "employment_nominal = [\"emp_length\"]\n",
        "amount_features = [\"amount\"]\n",
        "fico_features = [\"fico\"]\n",
        "\n",
        "feature_sets = {\n",
        "    \"employment_nominal + amount + fico\": employment_nominal + amount_features + fico_features,\n",
        "    \"employment_numeric + amount + fico\": employment_numeric + amount_features + fico_features\n",
        "}"
      ],
      "execution_count": null,
      "outputs": []
    },
    {
      "cell_type": "code",
      "metadata": {
        "id": "j2lYuzWXze97",
        "colab_type": "code",
        "colab": {
          "base_uri": "https://localhost:8080/",
          "height": 221
        },
        "outputId": "905cf413-d42a-4971-cd11-fed99b5fbc1b"
      },
      "source": [
        "# Compare feature sets after training each feature set\n",
        "best = 0\n",
        "best_name = None\n",
        "best_actual = None\n",
        "best_predictions = None\n",
        "\n",
        "precisions = []\n",
        "kappas = []\n",
        "accuracies = []\n",
        "\n",
        "predictions = {}\n",
        "actual = None\n",
        "\n",
        "# For each feature set, we evaluate our model on both the train and the test set\n",
        "for set_name, feature_set in feature_sets.items():\n",
        "\n",
        "    # Create a dummyset with only the features in our feature set\n",
        "    X = lendingclub.loc[:, feature_set]\n",
        "    X = pd.get_dummies(X)\n",
        "\n",
        "    y = lendingclub[\"outcome\"]\n",
        "\n",
        "    # Use scikit-learn to create our train/test split and train our decision tree\n",
        "    X_train, X_test, y_train, y_test = train_test_split(X,y,test_size=0.20, random_state=123)\n",
        "    model = DecisionTreeClassifier(criterion=\"entropy\", random_state=123).fit(X_train, y_train)\n",
        "    \n",
        "    # Calculate our accuracy, kappa and precision on the train and test sets\n",
        "    y_pred = model.predict(X_test)\n",
        "\n",
        "    accuracy = 100*accuracy_score(y_test, y_pred)\n",
        "    kappa = cohen_kappa_score(y_test, y_pred)\n",
        "    precision = precision_score(y_test, y_pred, pos_label= \"accept\")\n",
        "\n",
        "    metric_to_optimize = accuracy\n",
        "    \n",
        "    if metric_to_optimize > best:\n",
        "        best = metric_to_optimize\n",
        "        best_name = set_name\n",
        "        \n",
        "    predictions[set_name] = y_pred\n",
        "    actual = np.array(list(y_test))\n",
        "    \n",
        "    # The printed result includes performance of the feature set and the confusion matrix\n",
        "    print(f\"Results for {set_name}:\")\n",
        "    print(confusion_matrix(y_test, y_pred))\n",
        "    print(f\"Accuracy: {accuracy:.3f} Kappa: {kappa:.3f} Precision: {precision:.3f}\")\n",
        "    precisions.append(precision)\n",
        "    kappas.append(kappa)\n",
        "    accuracies.append(accuracy)\n",
        "    print(\"------------------------\")\n",
        "    \n",
        "print(f\"Best feature set is: {best_name} \\nWith: {best:.1f}% accuracy.\")    "
      ],
      "execution_count": null,
      "outputs": [
        {
          "output_type": "stream",
          "text": [
            "Results for employment_nominal + amount + fico:\n",
            "[[ 1493   379]\n",
            " [  424 13925]]\n",
            "Accuracy: 95.050 Kappa: 0.760 Precision: 0.779\n",
            "------------------------\n",
            "Results for employment_numeric + amount + fico:\n",
            "[[ 1497   375]\n",
            " [  428 13921]]\n",
            "Accuracy: 95.050 Kappa: 0.760 Precision: 0.778\n",
            "------------------------\n",
            "Best feature set is: employment_nominal + amount + fico \n",
            "With: 95.0% accuracy.\n"
          ],
          "name": "stdout"
        }
      ]
    },
    {
      "cell_type": "markdown",
      "metadata": {
        "id": "HuIU5rZC9KDV",
        "colab_type": "text"
      },
      "source": [
        "**Step 4: Decision Trees Comparison**\n",
        "\n",
        "According to the confusion matrixes and trained performances of the two model, basically nothing changed. We can say that changing employment length from nomial to numeric has no effect on the performance of the decision tree."
      ]
    },
    {
      "cell_type": "markdown",
      "metadata": {
        "id": "B2ZEWAqydB47",
        "colab_type": "text"
      },
      "source": [
        "# Question 2\n",
        "\n",
        "Choose **THREE** of the following five options:\n",
        "1. Amount of data available for training.\n",
        "2. Subset of features included in the model.\n",
        "3. Decision tree vs. logistic regression classification.\n",
        "4. Hyperparameter tuning for the best-performing model from option 3.\n",
        "5. Number of folds or stratification strategy for cross-validation.\n",
        "\n",
        "For each option you choose, write code to see how much impact that option has on model performance. For instance, you might choose to measure prediction accuracy as the amount of available data is increased from 1% of the total training set to 100%.\n",
        "\n",
        "Rank the three options you chose from the greatest impact on model performance to the least impact. Justify your ranking, based on specific quantitative experimental evidence."
      ]
    },
    {
      "cell_type": "markdown",
      "metadata": {
        "id": "mCQE7kMq1FKT",
        "colab_type": "text"
      },
      "source": [
        "The following three options are chosen:\n",
        "1. Amount of data available for training.\n",
        "2. Subset of features included in the model.\n",
        "3. Decision tree vs. logistic regression classification.\n"
      ]
    },
    {
      "cell_type": "markdown",
      "metadata": {
        "id": "k3R2EH-v7xm9",
        "colab_type": "text"
      },
      "source": [
        "**Optimization 1: Amount of data available for training**\n",
        "\n",
        "In order to change the amount of training data, I adjusted the proportion of test data, from 20% to 80%."
      ]
    },
    {
      "cell_type": "code",
      "metadata": {
        "id": "FCXU3f5t8quA",
        "colab_type": "code",
        "colab": {}
      },
      "source": [
        "# Using the same training sets from Question 1\n",
        "employment_numeric = [\"emp\"]\n",
        "employment_nominal = [\"emp_length\"]\n",
        "amount_features = [\"amount\"]\n",
        "fico_features = [\"fico\"]\n",
        "\n",
        "feature_sets = {\n",
        "    \"employment_nominal + amount + fico\": employment_nominal + amount_features + fico_features,\n",
        "    \"employment_numeric + amount + fico\": employment_numeric + amount_features + fico_features\n",
        "}"
      ],
      "execution_count": null,
      "outputs": []
    },
    {
      "cell_type": "code",
      "metadata": {
        "id": "0wiABad_lYJb",
        "colab_type": "code",
        "colab": {
          "base_uri": "https://localhost:8080/",
          "height": 221
        },
        "outputId": "ce619e0b-f800-43d4-b38d-59dab86a6189"
      },
      "source": [
        "# Compare feature sets after training each feature set\n",
        "best = 0\n",
        "best_name = None\n",
        "best_actual = None\n",
        "best_predictions = None\n",
        "\n",
        "precisions = []\n",
        "kappas = []\n",
        "accuracies = []\n",
        "\n",
        "predictions = {}\n",
        "actual = None\n",
        "\n",
        "# For each feature set, we evaluate our model on both the train and the test set\n",
        "for set_name, feature_set in feature_sets.items():\n",
        "\n",
        "    # Create a dummyset with only the features in our feature set\n",
        "    X = lendingclub.loc[:, feature_set]\n",
        "    X = pd.get_dummies(X)\n",
        "\n",
        "    y = lendingclub[\"outcome\"]\n",
        "\n",
        "    # Use scikit-learn to create our train/test split and train our decision tree\n",
        "    # Change test_size from 0.20 to 0.80\n",
        "    X_train, X_test, y_train, y_test = train_test_split(X,y,test_size=0.80, random_state=123)\n",
        "    model = DecisionTreeClassifier(criterion=\"entropy\", random_state=123).fit(X_train, y_train)\n",
        "    \n",
        "    # Calculate our accuracy, kappa and precision on the train and test sets\n",
        "    y_pred = model.predict(X_test)\n",
        "\n",
        "    accuracy = 100*accuracy_score(y_test, y_pred)\n",
        "    kappa = cohen_kappa_score(y_test, y_pred)\n",
        "    precision = precision_score(y_test, y_pred, pos_label= \"accept\")\n",
        "\n",
        "    metric_to_optimize = accuracy\n",
        "    \n",
        "    if metric_to_optimize > best:\n",
        "        best = metric_to_optimize\n",
        "        best_name = set_name\n",
        "        \n",
        "    predictions[set_name] = y_pred\n",
        "    actual = np.array(list(y_test))\n",
        "    \n",
        "    # The printed result includes performance of the feature set and the confusion matrix\n",
        "    print(f\"Results for {set_name}:\")\n",
        "    print(confusion_matrix(y_test, y_pred))\n",
        "    print(f\"Accuracy: {accuracy:.3f} Kappa: {kappa:.3f} Precision: {precision:.3f}\")\n",
        "    precisions.append(precision)\n",
        "    kappas.append(kappa)\n",
        "    accuracies.append(accuracy)\n",
        "    print(\"------------------------\")\n",
        "    \n",
        "print(f\"Best feature set is: {best_name} \\nWith: {best:.1f}% accuracy.\")   "
      ],
      "execution_count": null,
      "outputs": [
        {
          "output_type": "stream",
          "text": [
            "Results for employment_nominal + amount + fico:\n",
            "[[ 5640  1724]\n",
            " [ 2079 55440]]\n",
            "Accuracy: 94.139 Kappa: 0.715 Precision: 0.731\n",
            "------------------------\n",
            "Results for employment_numeric + amount + fico:\n",
            "[[ 5674  1690]\n",
            " [ 2112 55407]]\n",
            "Accuracy: 94.140 Kappa: 0.716 Precision: 0.729\n",
            "------------------------\n",
            "Best feature set is: employment_numeric + amount + fico \n",
            "With: 94.1% accuracy.\n"
          ],
          "name": "stdout"
        }
      ]
    },
    {
      "cell_type": "markdown",
      "metadata": {
        "id": "JoyX31VcAVih",
        "colab_type": "text"
      },
      "source": [
        "Model Comparison:\n",
        "\n",
        "With the amount of training set declined from 80% of total data to 20% of total data, the accuracy of the model declined from 95% to 94.14%, Kappa declined from 0.76 to 0.72, precison declined from 0.78 to 0.73. \n",
        "\n",
        "With less data available in the training set, the model performed worse."
      ]
    },
    {
      "cell_type": "markdown",
      "metadata": {
        "id": "_-OcNLDSCZZ1",
        "colab_type": "text"
      },
      "source": [
        "**Optimization 2: Subset of features included in the model**\n",
        "\n",
        "In this step, the features are mix-matched in the feature sets."
      ]
    },
    {
      "cell_type": "code",
      "metadata": {
        "id": "VoXj8HsjCgYF",
        "colab_type": "code",
        "colab": {}
      },
      "source": [
        "employment_numeric = [\"emp\"]\n",
        "employment_nominal = [\"emp_length\"]\n",
        "amount_features = [\"amount\"]\n",
        "fico_features = [\"fico\"]\n",
        "\n",
        "feature_sets = {\n",
        "    \"employment_numeric + amount + fico\": employment_numeric + amount_features + fico_features,\n",
        "    \"employment_numeric + amount\": employment_nominal + amount_features,\n",
        "    \"employment_numeric + fico\": employment_numeric + fico_features,\n",
        "    \"amount + fico\": amount_features + fico_features,\n",
        "    \"employment_numeric\": employment_numeric,\n",
        "    \"amount\": amount_features,\n",
        "    \"fico\": fico_features\n",
        "}"
      ],
      "execution_count": null,
      "outputs": []
    },
    {
      "cell_type": "code",
      "metadata": {
        "id": "GDZA0InUDHvj",
        "colab_type": "code",
        "colab": {
          "base_uri": "https://localhost:8080/",
          "height": 700
        },
        "outputId": "627bb11f-673f-4d20-8369-4854483b5cb4"
      },
      "source": [
        "# Compare feature sets after training each feature set\n",
        "best = 0\n",
        "best_name = None\n",
        "best_actual = None\n",
        "best_predictions = None\n",
        "\n",
        "precisions = []\n",
        "kappas = []\n",
        "accuracies = []\n",
        "\n",
        "predictions = {}\n",
        "actual = None\n",
        "\n",
        "# For each feature set, we evaluate our model on both the train and the test set\n",
        "for set_name, feature_set in feature_sets.items():\n",
        "\n",
        "    # Create a dummyset with only the features in our feature set\n",
        "    X = lendingclub.loc[:, feature_set]\n",
        "    X = pd.get_dummies(X)\n",
        "\n",
        "    y = lendingclub[\"outcome\"]\n",
        "\n",
        "    # Use scikit-learn to create our train/test split and train our decision tree\n",
        "    X_train, X_test, y_train, y_test = train_test_split(X,y,test_size=0.20, random_state=123)\n",
        "    model = DecisionTreeClassifier(criterion=\"entropy\", random_state=123).fit(X_train, y_train)\n",
        "    \n",
        "    # List of hyperparameter settings\n",
        "    # print(model)\n",
        "    # Calculate our accuracy, kappa and precision on the train and test sets\n",
        "    y_pred = model.predict(X_test)\n",
        "\n",
        "    accuracy = 100*accuracy_score(y_test, y_pred)\n",
        "    kappa = cohen_kappa_score(y_test, y_pred)\n",
        "    precision = precision_score(y_test, y_pred, pos_label= \"accept\")\n",
        "\n",
        "    metric_to_optimize = accuracy\n",
        "    \n",
        "    if metric_to_optimize > best:\n",
        "        best = metric_to_optimize\n",
        "        best_name = set_name\n",
        "        \n",
        "    predictions[set_name] = y_pred\n",
        "    actual = np.array(list(y_test))\n",
        "    \n",
        "    # The printed result includes performance of the feature set and the confusion matrix\n",
        "    print(f\"Results for {set_name}:\")\n",
        "    print(confusion_matrix(y_test, y_pred))\n",
        "    print(f\"Accuracy: {accuracy:.1f} Kappa: {kappa:.3f} Precision: {precision:.3f}\")\n",
        "    precisions.append(precision)\n",
        "    kappas.append(kappa)\n",
        "    accuracies.append(accuracy)\n",
        "    print(\"------------------------\")\n",
        "    \n",
        "print(f\"Best feature set is: {best_name} \\nWith: {best:.1f}% accuracy.\") "
      ],
      "execution_count": null,
      "outputs": [
        {
          "output_type": "stream",
          "text": [
            "Results for employment_numeric + amount + fico:\n",
            "[[ 1497   375]\n",
            " [  428 13921]]\n",
            "Accuracy: 95.0 Kappa: 0.760 Precision: 0.778\n",
            "------------------------\n",
            "Results for employment_numeric + amount:\n",
            "[[  738  1134]\n",
            " [  443 13906]]\n",
            "Accuracy: 90.3 Kappa: 0.433 Precision: 0.625\n",
            "------------------------\n",
            "Results for employment_numeric + fico:\n",
            "[[ 1674   198]\n",
            " [  376 13973]]\n",
            "Accuracy: 96.5 Kappa: 0.834 Precision: 0.817\n",
            "------------------------\n",
            "Results for amount + fico:\n",
            "[[ 1377   495]\n",
            " [  491 13858]]\n",
            "Accuracy: 93.9 Kappa: 0.702 Precision: 0.737\n",
            "------------------------\n"
          ],
          "name": "stdout"
        },
        {
          "output_type": "stream",
          "text": [
            "/usr/local/lib/python3.6/dist-packages/sklearn/metrics/_classification.py:1272: UndefinedMetricWarning: Precision is ill-defined and being set to 0.0 due to no predicted samples. Use `zero_division` parameter to control this behavior.\n",
            "  _warn_prf(average, modifier, msg_start, len(result))\n"
          ],
          "name": "stderr"
        },
        {
          "output_type": "stream",
          "text": [
            "Results for employment_numeric:\n",
            "[[    0  1872]\n",
            " [    0 14349]]\n",
            "Accuracy: 88.5 Kappa: 0.000 Precision: 0.000\n",
            "------------------------\n",
            "Results for amount:\n",
            "[[  417  1455]\n",
            " [  223 14126]]\n",
            "Accuracy: 89.7 Kappa: 0.290 Precision: 0.652\n",
            "------------------------\n",
            "Results for fico:\n",
            "[[ 1868     4]\n",
            " [ 1164 13185]]\n",
            "Accuracy: 92.8 Kappa: 0.722 Precision: 0.616\n",
            "------------------------\n",
            "Best feature set is: employment_numeric + fico \n",
            "With: 96.5% accuracy.\n"
          ],
          "name": "stdout"
        }
      ]
    },
    {
      "cell_type": "markdown",
      "metadata": {
        "id": "jWtguZNUEU1N",
        "colab_type": "text"
      },
      "source": [
        "Model Comparison:\n",
        "\n",
        "By adopting the new feature set: employment_numeric + fico, the accuracy increased from 95% to 96.5%, Kappa increased from 0.76 to 0.83, precision increase from 0.78 to 0.82.\n",
        "\n",
        "We can say that deleting feature \"amount\", the new two-feature decision tree performed better overall."
      ]
    },
    {
      "cell_type": "markdown",
      "metadata": {
        "id": "vVgXg4CTEYr2",
        "colab_type": "text"
      },
      "source": [
        "**Optimization 3: Decision tree vs. logistic regression classification**\n",
        "\n",
        "From the second comparision, the best feature set is \"numeric employment length + fico score\". In the following Decision Tree and Logistic Regression comparison, only the best set will be applied.\n",
        "\n",
        "Logistic Regression with scikit-learn"
      ]
    },
    {
      "cell_type": "code",
      "metadata": {
        "id": "GwxtxaCDL2vz",
        "colab_type": "code",
        "colab": {}
      },
      "source": [
        "employment_numeric = [\"emp\"]\n",
        "fico_features = [\"fico\"]\n",
        "\n",
        "feature_sets = {\n",
        "    \"employment_numeric + fico\": employment_numeric + fico_features\n",
        "}"
      ],
      "execution_count": null,
      "outputs": []
    },
    {
      "cell_type": "code",
      "metadata": {
        "id": "jJzrXl4jL7c3",
        "colab_type": "code",
        "colab": {
          "base_uri": "https://localhost:8080/",
          "height": 119
        },
        "outputId": "30dc344b-98a5-464a-885b-1c87fea2b0f2"
      },
      "source": [
        "# Compare feature sets after training each feature set\n",
        "best = 0\n",
        "best_name = None\n",
        "best_actual = None\n",
        "best_predictions = None\n",
        "\n",
        "precisions = []\n",
        "kappas = []\n",
        "accuracies = []\n",
        "\n",
        "predictions = {}\n",
        "actual = None\n",
        "\n",
        "# For each feature set, we evaluate our model on both the train and the test set\n",
        "for set_name, feature_set in feature_sets.items():\n",
        "\n",
        "    # Create a dummyset with only the features in our feature set\n",
        "    X = lendingclub.loc[:, feature_set]\n",
        "    X = pd.get_dummies(X)\n",
        "\n",
        "    y = lendingclub[\"outcome\"]\n",
        "\n",
        "    # Train model\n",
        "    classifier = LogisticRegression(penalty=\"l2\", solver=\"lbfgs\", max_iter=10000, random_state=123)\n",
        "    model = classifier.fit(X, y)\n",
        "\n",
        "    # Get Predictions\n",
        "    preds = model.predict(X)\n",
        "    \n",
        "    # Compute and print metrics\n",
        "    accuracy = 100*accuracy_score(y, preds)\n",
        "    kappa = cohen_kappa_score(y, preds)\n",
        "    precision = precision_score(y, preds, pos_label= \"accept\")\n",
        "    recall = recall_score(y, preds, pos_label= \"accept\")\n",
        "    print(f\"Accuracy: {accuracy:.1f} Kappa: {kappa:.3f} Precision: {precision:.3f} Recall: {recall:.3f}\")  \n",
        "\n",
        "    # The printed result includes performance of the feature set and the confusion matrix\n",
        "    print(f\"Results for {set_name}:\")\n",
        "    print(confusion_matrix(y_test, y_pred))\n",
        "    print(f\"Accuracy: {accuracy:.1f} Kappa: {kappa:.3f} Precision: {precision:.3f}\")\n",
        "    precisions.append(precision)\n",
        "    kappas.append(kappa)\n",
        "    accuracies.append(accuracy)\n",
        "    print(\"------------------------\")"
      ],
      "execution_count": null,
      "outputs": [
        {
          "output_type": "stream",
          "text": [
            "Accuracy: 88.5 Kappa: 0.252 Precision: 0.491 Recall: 0.221\n",
            "Results for employment_numeric + fico:\n",
            "[[ 1868     4]\n",
            " [ 1164 13185]]\n",
            "Accuracy: 88.5 Kappa: 0.252 Precision: 0.491\n",
            "------------------------\n"
          ],
          "name": "stdout"
        }
      ]
    },
    {
      "cell_type": "markdown",
      "metadata": {
        "id": "DogOY9Y1PSA4",
        "colab_type": "text"
      },
      "source": [
        "Comparisons Between Decision Tree and Logistic Regression:\n",
        "\n",
        "The performance of the current model was not improving by switching from Decision Tree to Logistic Regression. The accuracy decline from 95% to 88.5%, Kappa dropped from 0.76 to 0.25, precision dropped from 0.78 to 0.49."
      ]
    },
    {
      "cell_type": "markdown",
      "metadata": {
        "id": "T0SaJg2cIOL0",
        "colab_type": "text"
      },
      "source": [
        "**Ranking**\n",
        "\n",
        "1. Logistic Regression Model\n",
        "2. Feature sets\n",
        "3. Training set size\n",
        "\n",
        "The following table provided comparision of the three adjustments. We are able to tell that switching to Logistic Regression model has the most impact on the performance of the model, though the effect is negative. Chaning feature set has slightly more significant effect than changing training set size.\n",
        "\n",
        "![alt text](https://drive.google.com/uc?id=1LTxLyC2fGy0EZAJeV5JXUhOB6ekjuN4W)\n"
      ]
    },
    {
      "cell_type": "markdown",
      "metadata": {
        "id": "yOOkWEaIdEWu",
        "colab_type": "text"
      },
      "source": [
        "# Question 3\n",
        "\n",
        "Report the best-performing model and the total set of choices that you made in the options above to get to that level of performance. Compare that model performance to the result you reported in Homework 1. \n",
        "\n",
        "   - Describe one hypothetical business context for LendingClub where the amount of improvement reported in Question 3 would be worth the extra time and effort needed for optimization.\n",
        "   - Describe one hypothetical business context where the improvement would **not** have been worth the extra time and effort."
      ]
    },
    {
      "cell_type": "markdown",
      "metadata": {
        "id": "f_mII26edISl",
        "colab_type": "text"
      },
      "source": [
        "Untill now, the best performing model is the Decision Tree model using \"numeric employment length\" and \"fico\" as features set. In the model, the training set contains 80% of total amount of data.\n",
        "Table 2 contains information of the model comparison.\n",
        "\n",
        "![alt text](https://drive.google.com/uc?id=1KZQajBiaXAEbhvH7H8k8r1dpcsPub3I9)\n",
        "\n",
        "\n",
        "\n",
        "   - Since the optimized model performed better overall, the marginal improved accuracy would lead to less loan inefficiency, which is beneficial to LendingClub. Also, the new model requires less information of borrowers, it is more efficient to adopt the new model.\n",
        "   - However, we noticed that although the second model performed better, the two models are rather similar, with only slight improvement has been made. If the amount of loan is generally small, in other words, the company would not experience huge fund loss caused by the 1% accuracy difference, then it is not worthy to revise the model in changed of slightly higher accuracy.\n",
        "\n"
      ]
    },
    {
      "cell_type": "markdown",
      "metadata": {
        "id": "K-nzeiXvm05T",
        "colab_type": "text"
      },
      "source": [
        "# Extra Credit\n",
        "\n",
        "For up to 2 points of extra credit, complete all three of the analyses in Question 1.\n",
        "\n",
        "For up to 4 points of extra credit, complete all five of the analyses in Question 2."
      ]
    },
    {
      "cell_type": "markdown",
      "metadata": {
        "id": "_2upx-ygRKE-",
        "colab_type": "text"
      },
      "source": [
        "# Scoring Rubric\n",
        "![](https://drive.google.com/uc?export=view&id=1dLF4RcciHT_giZEXWio1D0hwK73tKYjK)\n",
        "\n",
        "![](https://drive.google.com/uc?export=view&id=1nYN7X847FeHtE-0LVpqhQk8iq2YEWx2d)"
      ]
    }
  ]
}