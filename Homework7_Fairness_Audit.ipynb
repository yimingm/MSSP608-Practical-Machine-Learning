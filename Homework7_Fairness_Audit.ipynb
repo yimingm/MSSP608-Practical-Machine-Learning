{
  "nbformat": 4,
  "nbformat_minor": 0,
  "metadata": {
    "colab": {
      "name": "Homework_7_Fairness Audit",
      "provenance": [],
      "include_colab_link": true
    },
    "kernelspec": {
      "name": "python3",
      "display_name": "Python 3"
    }
  },
  "cells": [
    {
      "cell_type": "markdown",
      "metadata": {
        "id": "view-in-github",
        "colab_type": "text"
      },
      "source": [
        "<a href=\"https://colab.research.google.com/github/yimingm/MSSP608-Practical-Machine-Learning/blob/master/Homework7_Fairness_Audit.ipynb\" target=\"_parent\"><img src=\"https://colab.research.google.com/assets/colab-badge.svg\" alt=\"Open In Colab\"/></a>"
      ]
    },
    {
      "cell_type": "markdown",
      "metadata": {
        "id": "76xKL_j7FCRn",
        "colab_type": "text"
      },
      "source": [
        "# Homework 7\n",
        "\n",
        "For this assignment we will be working with a dataset of 1,267 patient records at a Korean hospital’s emergency department. The dataset you’ll receive contains 18 variables. You will use five of them:\n",
        "\n",
        "\n",
        "Two protected attributes: \n",
        "   - `Age`\n",
        "   - `Sex`\n",
        "\n",
        "Two measures of the patient’s triage level, from 1 (highest emergency) to 5 (non-urgent).\n",
        "   - `Nurse Triage` was reported by a nurse in real time at the hospital.\n",
        "   - `Expert Triage` was evaluated by a team of two experts looking at the case history retrospectively.\n",
        "\n",
        "One final measure of the patient’s final outcome\n",
        "   - `Discharge` patients were sent home after their visit.\n",
        "   - The other options all involve more serious outcomes of some kind: `Admission` to the hospital, `Transfer` to a different facility, `Surgery` or `Death`.\n"
      ]
    },
    {
      "cell_type": "code",
      "metadata": {
        "id": "ogwUajZPwmAn",
        "colab_type": "code",
        "colab": {
          "base_uri": "https://localhost:8080/",
          "height": 326
        },
        "outputId": "f11dc3aa-7ee8-47d5-8a8d-eced053400cc"
      },
      "source": [
        "!wget --no-check-certificate 'https://docs.google.com/uc?export=download&id=13r36hDGjphjiKHVb6kpkAiqmmFeg6TAM' -O triage.csv"
      ],
      "execution_count": null,
      "outputs": [
        {
          "output_type": "stream",
          "text": [
            "--2020-05-07 20:47:21--  https://docs.google.com/uc?export=download&id=13r36hDGjphjiKHVb6kpkAiqmmFeg6TAM\n",
            "Resolving docs.google.com (docs.google.com)... 172.217.204.102, 172.217.204.101, 172.217.204.139, ...\n",
            "Connecting to docs.google.com (docs.google.com)|172.217.204.102|:443... connected.\n",
            "HTTP request sent, awaiting response... 302 Moved Temporarily\n",
            "Location: https://doc-14-b0-docs.googleusercontent.com/docs/securesc/ha0ro937gcuc7l7deffksulhg5h7mbp1/ctjbfhoiiluclnnel3eg7d1ucfa8nr5c/1588884375000/09640029349513786515/*/13r36hDGjphjiKHVb6kpkAiqmmFeg6TAM?e=download [following]\n",
            "Warning: wildcards not supported in HTTP.\n",
            "--2020-05-07 20:47:22--  https://doc-14-b0-docs.googleusercontent.com/docs/securesc/ha0ro937gcuc7l7deffksulhg5h7mbp1/ctjbfhoiiluclnnel3eg7d1ucfa8nr5c/1588884375000/09640029349513786515/*/13r36hDGjphjiKHVb6kpkAiqmmFeg6TAM?e=download\n",
            "Resolving doc-14-b0-docs.googleusercontent.com (doc-14-b0-docs.googleusercontent.com)... 172.217.204.132, 2607:f8b0:400c:c15::84\n",
            "Connecting to doc-14-b0-docs.googleusercontent.com (doc-14-b0-docs.googleusercontent.com)|172.217.204.132|:443... connected.\n",
            "HTTP request sent, awaiting response... 200 OK\n",
            "Length: 144966 (142K) [text/csv]\n",
            "Saving to: ‘triage.csv’\n",
            "\n",
            "triage.csv          100%[===================>] 141.57K  --.-KB/s    in 0.001s  \n",
            "\n",
            "2020-05-07 20:47:22 (123 MB/s) - ‘triage.csv’ saved [144966/144966]\n",
            "\n"
          ],
          "name": "stdout"
        }
      ]
    },
    {
      "cell_type": "code",
      "metadata": {
        "id": "iae6_FU4EzXW",
        "colab_type": "code",
        "colab": {}
      },
      "source": [
        "import pandas as pd\n",
        "df = pd.read_csv(\"triage.csv\")\n"
      ],
      "execution_count": null,
      "outputs": []
    },
    {
      "cell_type": "markdown",
      "metadata": {
        "id": "po-_sBNhFqPw",
        "colab_type": "text"
      },
      "source": [
        "## Task 1 *(4 points)*\n",
        "\n",
        "Define four new binary variables `Nurse High-Risk`, `Expert High-Risk`, `Age Group`, and `Discharged`\n",
        "   - A patient is defined as `High-Risk` if their triage score is 1-3.\n",
        "   - `Age Group` should be a binary variable. Choose the cutoff threshold based on your inspection of the data.\n",
        "   - `Discharged` should have a value of True if the patient was immediately discharged, and False otherwise.\n"
      ]
    },
    {
      "cell_type": "code",
      "metadata": {
        "id": "mlNHCUjyF6-Q",
        "colab_type": "code",
        "colab": {}
      },
      "source": [
        "# Transform traige features to binary\n",
        "# Delete space in feature name for convenience\n",
        "\n",
        "df[\"Nurse_High_Risk\"] = df[\"Nurse Triage\"] < 4\n",
        "df[\"Expert_High_Risk\"] = df[\"Expert Triage\"] < 4\n",
        "df[\"Nurse_Triage\"] = df[\"Nurse Triage\"]\n",
        "df[\"Expert_Triage\"] = df[\"Expert Triage\"]"
      ],
      "execution_count": null,
      "outputs": []
    },
    {
      "cell_type": "code",
      "metadata": {
        "id": "S4XKJ1hyp4U_",
        "colab_type": "code",
        "colab": {
          "base_uri": "https://localhost:8080/",
          "height": 221
        },
        "outputId": "a8a8f29e-945c-4706-b954-cb76be6c1844"
      },
      "source": [
        "# Transform Age Group to binary\n",
        "# First, find the mean of age as the divide threshold\n",
        "print(df[\"Age\"].describe())\n",
        "\n",
        "# Create a new column for Age group\n",
        "def Age_Group(x):\n",
        "    if x > 54:\n",
        "        return \"Old\"\n",
        "    else:\n",
        "        return \"Young\"\n",
        "    \n",
        "df[\"Age_Group\"] = df[\"Age\"].apply(Age_Group)\n",
        "print(df[\"Age_Group\"].value_counts())"
      ],
      "execution_count": null,
      "outputs": [
        {
          "output_type": "stream",
          "text": [
            "count    1267.000000\n",
            "mean       54.423836\n",
            "std        19.725033\n",
            "min        16.000000\n",
            "25%        37.000000\n",
            "50%        57.000000\n",
            "75%        71.000000\n",
            "max        96.000000\n",
            "Name: Age, dtype: float64\n",
            "Old      678\n",
            "Young    589\n",
            "Name: Age_Group, dtype: int64\n"
          ],
          "name": "stdout"
        }
      ]
    },
    {
      "cell_type": "code",
      "metadata": {
        "id": "7on32iRpp8ux",
        "colab_type": "code",
        "colab": {
          "base_uri": "https://localhost:8080/",
          "height": 513
        },
        "outputId": "21a00b8f-eae3-44a8-8d54-8f7f9adf7d8a"
      },
      "source": [
        "# Transform Discharged to binary\n",
        "# Create a new column for Discharged\n",
        "def discharged(x):\n",
        "    if x == \"Discharge\":\n",
        "        return \"True\"\n",
        "    else:\n",
        "        return \"False\"\n",
        "    \n",
        "df[\"Discharged\"] = df[\"Disposition\"].apply(discharged)\n",
        "\n",
        "# Check the distribution of the weather data and preview the dataframe\n",
        "print(df[\"Discharged\"].value_counts())\n",
        "df.head()"
      ],
      "execution_count": null,
      "outputs": [
        {
          "output_type": "stream",
          "text": [
            "True     823\n",
            "False    444\n",
            "Name: Discharged, dtype: int64\n"
          ],
          "name": "stdout"
        },
        {
          "output_type": "execute_result",
          "data": {
            "text/html": [
              "<div>\n",
              "<style scoped>\n",
              "    .dataframe tbody tr th:only-of-type {\n",
              "        vertical-align: middle;\n",
              "    }\n",
              "\n",
              "    .dataframe tbody tr th {\n",
              "        vertical-align: top;\n",
              "    }\n",
              "\n",
              "    .dataframe thead th {\n",
              "        text-align: right;\n",
              "    }\n",
              "</style>\n",
              "<table border=\"1\" class=\"dataframe\">\n",
              "  <thead>\n",
              "    <tr style=\"text-align: right;\">\n",
              "      <th></th>\n",
              "      <th>Age</th>\n",
              "      <th>Sex</th>\n",
              "      <th>Arrival mode</th>\n",
              "      <th>Complaint</th>\n",
              "      <th>Diagnosis</th>\n",
              "      <th>Injury</th>\n",
              "      <th>Alertness</th>\n",
              "      <th>Pain</th>\n",
              "      <th>Pain Scale</th>\n",
              "      <th>Systolic BP</th>\n",
              "      <th>Diastolic BP</th>\n",
              "      <th>Heart Rate</th>\n",
              "      <th>Respiratory Rate</th>\n",
              "      <th>Temperature</th>\n",
              "      <th>Oxygen Saturation</th>\n",
              "      <th>Nurse Triage</th>\n",
              "      <th>Expert Triage</th>\n",
              "      <th>Disposition</th>\n",
              "      <th>Nurse_High_Risk</th>\n",
              "      <th>Expert_High_Risk</th>\n",
              "      <th>Nurse_Triage</th>\n",
              "      <th>Expert_Triage</th>\n",
              "      <th>Age_Group</th>\n",
              "      <th>Discharged</th>\n",
              "    </tr>\n",
              "  </thead>\n",
              "  <tbody>\n",
              "    <tr>\n",
              "      <th>0</th>\n",
              "      <td>71</td>\n",
              "      <td>Male</td>\n",
              "      <td>Car</td>\n",
              "      <td>right ocular pain</td>\n",
              "      <td>Corneal abrasion</td>\n",
              "      <td>Injury</td>\n",
              "      <td>Awake</td>\n",
              "      <td>Pain</td>\n",
              "      <td>2.0</td>\n",
              "      <td>160</td>\n",
              "      <td>100</td>\n",
              "      <td>84</td>\n",
              "      <td>18</td>\n",
              "      <td>36.6</td>\n",
              "      <td>100</td>\n",
              "      <td>2</td>\n",
              "      <td>4</td>\n",
              "      <td>Discharge</td>\n",
              "      <td>True</td>\n",
              "      <td>False</td>\n",
              "      <td>2</td>\n",
              "      <td>4</td>\n",
              "      <td>Old</td>\n",
              "      <td>True</td>\n",
              "    </tr>\n",
              "    <tr>\n",
              "      <th>1</th>\n",
              "      <td>56</td>\n",
              "      <td>Female</td>\n",
              "      <td>Car</td>\n",
              "      <td>right forearm burn</td>\n",
              "      <td>Burn of hand, firts degree dorsum</td>\n",
              "      <td>Injury</td>\n",
              "      <td>Awake</td>\n",
              "      <td>Pain</td>\n",
              "      <td>2.0</td>\n",
              "      <td>137</td>\n",
              "      <td>75</td>\n",
              "      <td>60</td>\n",
              "      <td>20</td>\n",
              "      <td>36.5</td>\n",
              "      <td>NaN</td>\n",
              "      <td>4</td>\n",
              "      <td>5</td>\n",
              "      <td>Discharge</td>\n",
              "      <td>False</td>\n",
              "      <td>False</td>\n",
              "      <td>4</td>\n",
              "      <td>5</td>\n",
              "      <td>Old</td>\n",
              "      <td>True</td>\n",
              "    </tr>\n",
              "    <tr>\n",
              "      <th>2</th>\n",
              "      <td>68</td>\n",
              "      <td>Female</td>\n",
              "      <td>Ambulance</td>\n",
              "      <td>arm pain, Lt</td>\n",
              "      <td>Fracture of surgical neck of humerus, closed</td>\n",
              "      <td>Injury</td>\n",
              "      <td>Awake</td>\n",
              "      <td>Pain</td>\n",
              "      <td>2.0</td>\n",
              "      <td>130</td>\n",
              "      <td>80</td>\n",
              "      <td>102</td>\n",
              "      <td>20</td>\n",
              "      <td>36.6</td>\n",
              "      <td>98</td>\n",
              "      <td>4</td>\n",
              "      <td>5</td>\n",
              "      <td>Admission</td>\n",
              "      <td>False</td>\n",
              "      <td>False</td>\n",
              "      <td>4</td>\n",
              "      <td>5</td>\n",
              "      <td>Old</td>\n",
              "      <td>False</td>\n",
              "    </tr>\n",
              "    <tr>\n",
              "      <th>3</th>\n",
              "      <td>71</td>\n",
              "      <td>Male</td>\n",
              "      <td>Walking</td>\n",
              "      <td>ascites tapping</td>\n",
              "      <td>Alcoholic liver cirrhosis with ascites</td>\n",
              "      <td>Non-Injury</td>\n",
              "      <td>Awake</td>\n",
              "      <td>Pain</td>\n",
              "      <td>3.0</td>\n",
              "      <td>139</td>\n",
              "      <td>94</td>\n",
              "      <td>88</td>\n",
              "      <td>20</td>\n",
              "      <td>36.5</td>\n",
              "      <td>NaN</td>\n",
              "      <td>4</td>\n",
              "      <td>5</td>\n",
              "      <td>Discharge</td>\n",
              "      <td>False</td>\n",
              "      <td>False</td>\n",
              "      <td>4</td>\n",
              "      <td>5</td>\n",
              "      <td>Old</td>\n",
              "      <td>True</td>\n",
              "    </tr>\n",
              "    <tr>\n",
              "      <th>4</th>\n",
              "      <td>58</td>\n",
              "      <td>Male</td>\n",
              "      <td>Car</td>\n",
              "      <td>distension, abd</td>\n",
              "      <td>Ascites</td>\n",
              "      <td>Non-Injury</td>\n",
              "      <td>Awake</td>\n",
              "      <td>Pain</td>\n",
              "      <td>3.0</td>\n",
              "      <td>91</td>\n",
              "      <td>67</td>\n",
              "      <td>93</td>\n",
              "      <td>18</td>\n",
              "      <td>36.5</td>\n",
              "      <td>NaN</td>\n",
              "      <td>4</td>\n",
              "      <td>5</td>\n",
              "      <td>Discharge</td>\n",
              "      <td>False</td>\n",
              "      <td>False</td>\n",
              "      <td>4</td>\n",
              "      <td>5</td>\n",
              "      <td>Old</td>\n",
              "      <td>True</td>\n",
              "    </tr>\n",
              "  </tbody>\n",
              "</table>\n",
              "</div>"
            ],
            "text/plain": [
              "   Age     Sex Arrival mode  ... Expert_Triage Age_Group Discharged\n",
              "0   71    Male          Car  ...             4       Old       True\n",
              "1   56  Female          Car  ...             5       Old       True\n",
              "2   68  Female    Ambulance  ...             5       Old      False\n",
              "3   71    Male      Walking  ...             5       Old       True\n",
              "4   58    Male          Car  ...             5       Old       True\n",
              "\n",
              "[5 rows x 24 columns]"
            ]
          },
          "metadata": {
            "tags": []
          },
          "execution_count": 6
        }
      ]
    },
    {
      "cell_type": "markdown",
      "metadata": {
        "id": "2FeAJp1HF6eR",
        "colab_type": "text"
      },
      "source": [
        "## Task 2 *(4 points)*\n",
        "\n",
        "Using nurse triage scores, calculate baseline distributions of triage scores in this dataset. Also calculate baseline distributions of discharge rates. Then, calculate those distributions divided by age group and sex. \n",
        "\n",
        "Do triage scores and discharge rates differ in the population based on age and sex?\n",
        "\n",
        "1. From the charts we can see that nurse triage scores do not show much different between sex groups. The proportions of male and female are generally the same in score 1-5.\n",
        "\n",
        "2. As for the relationship between nurse triage score and age, old people have higher proportion of high risk scores (1-3).\n",
        "\n",
        "3. As for the relationship between discharge rate and sex, at score 1, which means the patient was diagnosed of very dangerous situation, the discharge rate of male is higher that female (0%). There is no significant different between discharge rates of male and female at other scores.\n",
        "\n",
        "4. As for the relationship between discharge rate and age, the discharge rates of young people are higher than those of old people at all scores.\n",
        "\n"
      ]
    },
    {
      "cell_type": "code",
      "metadata": {
        "id": "wdGv4aJKUkxw",
        "colab_type": "code",
        "colab": {
          "base_uri": "https://localhost:8080/",
          "height": 255
        },
        "outputId": "981077e9-c85e-4b98-e96b-130fc176e9a7"
      },
      "source": [
        "# Calculate baseline distributions of nurse triage scores\n",
        "\n",
        "print(\"Distribution of nurse triage scores\")\n",
        "print(df[\"Nurse Triage\"].value_counts() / len(df))\n",
        "print(df[\"Nurse Triage\"].value_counts())\n",
        "print()"
      ],
      "execution_count": null,
      "outputs": [
        {
          "output_type": "stream",
          "text": [
            "Distribution of nurse triage scores\n",
            "4    0.395422\n",
            "3    0.352802\n",
            "2    0.168903\n",
            "5    0.068666\n",
            "1    0.014207\n",
            "Name: Nurse Triage, dtype: float64\n",
            "4    501\n",
            "3    447\n",
            "2    214\n",
            "5     87\n",
            "1     18\n",
            "Name: Nurse Triage, dtype: int64\n",
            "\n"
          ],
          "name": "stdout"
        }
      ]
    },
    {
      "cell_type": "code",
      "metadata": {
        "id": "KiF5Z75gGLpw",
        "colab_type": "code",
        "colab": {
          "base_uri": "https://localhost:8080/",
          "height": 626
        },
        "outputId": "b9b55f81-c513-443b-c9b2-4d57da89831a"
      },
      "source": [
        "# Calculate nurse triage scores distribution divided by gender\n",
        "import matplotlib.pyplot as plt\n",
        "\n",
        "# Prevalence of nurse triage scores\n",
        "print(\"Distribution of Nurse Triage Score by Gender\")\n",
        "print(df.Sex.value_counts())\n",
        "print()\n",
        "\n",
        "Male = df.loc[df.Sex == \"Male\"]\n",
        "Female = df.loc[df.Sex == \"Female\"]\n",
        "\n",
        "plt.bar(range(1,6), Male.Nurse_Triage.value_counts(sort=False))\n",
        "plt.bar(range(1,6), Female.Nurse_Triage.value_counts(sort=False), bottom=Male.Nurse_Triage.value_counts(sort=False))\n",
        "plt.legend([\"Male\", \"Female\"])\n",
        "plt.xlabel(\"Nurse Triage Score\")\n",
        "plt.ylabel(\"Count in Training Data\")\n",
        "plt.show()\n",
        "\n",
        "male_pcts = Male.Nurse_Triage.value_counts(sort=False) / (Male.Nurse_Triage.value_counts(sort=False) + Female.Nurse_Triage.value_counts(sort=False))\n",
        "female_pcts = Female.Nurse_Triage.value_counts(sort=False) / (Male.Nurse_Triage.value_counts(sort=False) + Female.Nurse_Triage.value_counts(sort=False))\n",
        "\n",
        "plt.bar(range(1,6), male_pcts)\n",
        "plt.bar(range(1,6), female_pcts, bottom=male_pcts)\n",
        "plt.legend([\"Male\", \"Female\"])\n",
        "plt.xlabel(\"Nurse Triage Score\")\n",
        "plt.ylabel(\"Percent in Training Data\")\n",
        "plt.show()"
      ],
      "execution_count": null,
      "outputs": [
        {
          "output_type": "stream",
          "text": [
            "Distribution of Nurse Triage Score by Gender\n",
            "Male      661\n",
            "Female    606\n",
            "Name: Sex, dtype: int64\n",
            "\n"
          ],
          "name": "stdout"
        },
        {
          "output_type": "display_data",
          "data": {
            "image/png": "[encoded data removed]",
            "text/plain": [
              "<Figure size 432x288 with 1 Axes>"
            ]
          },
          "metadata": {
            "tags": [],
            "needs_background": "light"
          }
        },
        {
          "output_type": "display_data",
          "data": {
            "image/png": "[encoded data removed]",
            "text/plain": [
              "<Figure size 432x288 with 1 Axes>"
            ]
          },
          "metadata": {
            "tags": [],
            "needs_background": "light"
          }
        }
      ]
    },
    {
      "cell_type": "code",
      "metadata": {
        "id": "Vv27GzkpijKU",
        "colab_type": "code",
        "colab": {
          "base_uri": "https://localhost:8080/",
          "height": 541
        },
        "outputId": "2d6f0cac-4cf2-480a-e624-2a3c48055d50"
      },
      "source": [
        "# Calculate nurse triage scores distribution divided by age groups\n",
        "Old = df.loc[df.Age_Group == \"Old\"]\n",
        "Young = df.loc[df.Age_Group == \"Young\"]\n",
        "\n",
        "plt.bar(range(1,6), Old.Nurse_Triage.value_counts(sort=False))\n",
        "plt.bar(range(1,6), Young.Nurse_Triage.value_counts(sort=False), bottom=Old.Nurse_Triage.value_counts(sort=False))\n",
        "plt.legend([\"Old\", \"Young\"])\n",
        "plt.xlabel(\"Nurse Triage Score\")\n",
        "plt.ylabel(\"Count in Training Data\")\n",
        "plt.show()\n",
        "\n",
        "old_pcts = Old.Nurse_Triage.value_counts(sort=False) / (Old.Nurse_Triage.value_counts(sort=False) + Young.Nurse_Triage.value_counts(sort=False))\n",
        "young_pcts = Young.Nurse_Triage.value_counts(sort=False) / (Old.Nurse_Triage.value_counts(sort=False) + Young.Nurse_Triage.value_counts(sort=False))\n",
        "\n",
        "plt.bar(range(1,6), old_pcts)\n",
        "plt.bar(range(1,6), young_pcts, bottom=old_pcts)\n",
        "plt.legend([\"Old\", \"Young\"])\n",
        "plt.xlabel(\"Nurse Triage Score\")\n",
        "plt.ylabel(\"Percent in Training Data\")\n",
        "plt.show()"
      ],
      "execution_count": null,
      "outputs": [
        {
          "output_type": "display_data",
          "data": {
            "image/png": "[encoded data removed]",
            "text/plain": [
              "<Figure size 432x288 with 1 Axes>"
            ]
          },
          "metadata": {
            "tags": [],
            "needs_background": "light"
          }
        },
        {
          "output_type": "display_data",
          "data": {
            "image/png": "[encoded data removed]",
            "text/plain": [
              "<Figure size 432x288 with 1 Axes>"
            ]
          },
          "metadata": {
            "tags": [],
            "needs_background": "light"
          }
        }
      ]
    },
    {
      "cell_type": "code",
      "metadata": {
        "id": "xXgX-zMujynE",
        "colab_type": "code",
        "colab": {
          "base_uri": "https://localhost:8080/",
          "height": 402
        },
        "outputId": "1babb154-c923-40f3-b076-2b1213bbd267"
      },
      "source": [
        "# Calculate Discharge rates divided by gender\n",
        "print(\"Distribution of Discharge Rate\")\n",
        "print(df.Discharged.value_counts() / len(df))\n",
        "\n",
        "# calculate discharge rate by score\n",
        "df.groupby([\"Nurse_Triage\"])[\"Discharged\"].value_counts()\n",
        "\n",
        "sex_probs = []\n",
        "for sex in [Male, Female]:\n",
        "    probs = []\n",
        "    for score in range(1,6):\n",
        "        subset = sex.loc[sex.Nurse_Triage == score]\n",
        "        dis_rate = subset.loc[subset.Discharged==\"True\"]\n",
        "        prob_dis = len(dis_rate) / len(subset)\n",
        "        probs.append(prob_dis)\n",
        "    sex_probs.append(probs)\n",
        "\n",
        "fig = plt.gcf()\n",
        "fig.set_size_inches(10,5)\n",
        "plt.bar(range(1,6), sex_probs[0], align='edge', width=-.4)\n",
        "plt.bar(range(1,6), sex_probs[1], align='edge', width=.4)\n",
        "plt.xlabel(\"Nurse Traige Score\")\n",
        "plt.xticks(ticks=range(1,6), labels=range(1,6))\n",
        "plt.ylabel(\"% Discharge\")\n",
        "plt.legend([\"Male\", \"Female\"])\n",
        "plt.show()\n"
      ],
      "execution_count": null,
      "outputs": [
        {
          "output_type": "stream",
          "text": [
            "Distribution of Discharge Rate\n",
            "True     0.649566\n",
            "False    0.350434\n",
            "Name: Discharged, dtype: float64\n"
          ],
          "name": "stdout"
        },
        {
          "output_type": "display_data",
          "data": {
            "image/png": "[encoded data removed]",
            "text/plain": [
              "<Figure size 720x360 with 1 Axes>"
            ]
          },
          "metadata": {
            "tags": [],
            "needs_background": "light"
          }
        }
      ]
    },
    {
      "cell_type": "code",
      "metadata": {
        "id": "ZYGOI5k7sPBQ",
        "colab_type": "code",
        "colab": {
          "base_uri": "https://localhost:8080/",
          "height": 334
        },
        "outputId": "c2477d6d-d6b8-4690-e97a-feec5913a594"
      },
      "source": [
        "# Calculate Discharge rates divided by age\n",
        "\n",
        "age_probs = []\n",
        "for age in [Old, Young]:\n",
        "    probs = []\n",
        "    for score in range(1,6):\n",
        "        subset = age.loc[age.Nurse_Triage == score]\n",
        "        dis_rate = subset.loc[subset.Discharged==\"True\"]\n",
        "        prob_dis = len(dis_rate) / len(subset)\n",
        "        probs.append(prob_dis)\n",
        "    age_probs.append(probs)\n",
        "\n",
        "fig = plt.gcf()\n",
        "fig.set_size_inches(10,5)\n",
        "plt.bar(range(1,6), age_probs[0], align='edge', width=-.4)\n",
        "plt.bar(range(1,6), age_probs[1], align='edge', width=.4)\n",
        "plt.xlabel(\"Nurse Traige Score\")\n",
        "plt.xticks(ticks=range(1,6), labels=range(1,6))\n",
        "plt.ylabel(\"% Discharge\")\n",
        "plt.legend([\"Old\", \"Young\"])\n",
        "plt.show()\n"
      ],
      "execution_count": null,
      "outputs": [
        {
          "output_type": "display_data",
          "data": {
            "image/png": "[encoded data removed]",
            "text/plain": [
              "<Figure size 720x360 with 1 Axes>"
            ]
          },
          "metadata": {
            "tags": [],
            "needs_background": "light"
          }
        }
      ]
    },
    {
      "cell_type": "markdown",
      "metadata": {
        "id": "hDKW_Ob6GL3x",
        "colab_type": "text"
      },
      "source": [
        "## Task 3 *(8 points)*\n",
        "\n",
        "Let's define a “predicted positive” case as any patient with a high-risk triage rating, and a “true positive” case as any patient that was **NOT** immediately discharged. \n",
        "\n",
        "Using nurse triage scores: \n",
        "   - Calculate the false positive rate and false negative rate for the population as a whole\n",
        "   - Then calculate FPR and FNR for subgroups divided by age group and sex. \n",
        "\n",
        "How do false positive and false negative rates differ for subgroups? Are there any group fairness concerns that you see? It is okay if you do or do not see any concerns; either way, you should give specific quantitative evidence for your answer.\n",
        "1. FPR is higher in old population than young population. FNR is higher in young population than old population.\n",
        "\n",
        "2. Both FPR and FNR are slightly higher in female than male.\n",
        "\n",
        "3. The difference between age groups are resonable. The diagnosis should be more careful for elder people, which means higher FPR is actually not a good sign for elder people. \n",
        "\n",
        "4. I don't see a good reason to explain the difference between sex groups. Indeed, the difference is not significant.\n",
        "\n",
        "\n"
      ]
    },
    {
      "cell_type": "markdown",
      "metadata": {
        "id": "gNfn-43AOYK5",
        "colab_type": "text"
      },
      "source": [
        "Definitions:\n",
        "\n",
        "   - False Positive: The patient was diagnosed of high risk, given score 1-3 by nurse, but actually was discharged. (`Nurse High-Risk`True, `Discharged` True)\n",
        "\n",
        "   - False Negative: The patient was diagnosed low risk by the nurse, given score 4-5, but in fact was not discharged.  (`Nurse High-Risk`False, `Discharged` False)\n",
        "\n",
        "   - True Negative: The patient was dianosed low risk and was discharged.(`Nurse High-Risk`False, `Discharged` True)\n",
        "\n",
        "   - True Positive: The patient was dianosed high risk and was not discharged.(`Nurse High-Risk`True, `Discharged` False)"
      ]
    },
    {
      "cell_type": "code",
      "metadata": {
        "id": "4q4yH9M3GmNi",
        "colab_type": "code",
        "colab": {
          "base_uri": "https://localhost:8080/",
          "height": 139
        },
        "outputId": "a5451cdb-a17f-4229-f3c6-765cb488de49"
      },
      "source": [
        "# Generating confusion matrix with scikit-learn\n",
        "import numpy as np\n",
        "import seaborn as sn\n",
        "from sklearn.metrics import confusion_matrix, ConfusionMatrixDisplay\n",
        "\n",
        "confusion_matrix = pd.crosstab(df['Discharged'], df['Nurse_High_Risk'], rownames=['Actual'], colnames=['Predicted'])\n",
        "print (confusion_matrix)"
      ],
      "execution_count": null,
      "outputs": [
        {
          "output_type": "stream",
          "text": [
            "Predicted  False  True \n",
            "Actual                 \n",
            "False        105    339\n",
            "True         483    340\n"
          ],
          "name": "stdout"
        },
        {
          "output_type": "stream",
          "text": [
            "/usr/local/lib/python3.6/dist-packages/statsmodels/tools/_testing.py:19: FutureWarning: pandas.util.testing is deprecated. Use the functions in the public API at pandas.testing instead.\n",
            "  import pandas.util.testing as tm\n"
          ],
          "name": "stderr"
        }
      ]
    },
    {
      "cell_type": "markdown",
      "metadata": {
        "id": "SoXSrJ-Skwak",
        "colab_type": "text"
      },
      "source": [
        "    In Total population:\n",
        "\n",
        "    False Positive Rate = FP/FP+TN = 340/(340+483) = 41.31%\n",
        "\n",
        "    False Negative Rate = FN/FN+TP = 105/(105+339) = 23.65%"
      ]
    },
    {
      "cell_type": "code",
      "metadata": {
        "id": "yd2A7TT6eULV",
        "colab_type": "code",
        "colab": {
          "base_uri": "https://localhost:8080/",
          "height": 204
        },
        "outputId": "28396e81-e054-4ed2-b21e-2a4020bce8a8"
      },
      "source": [
        "# confusion matrix of two age groups\n",
        "confusion_matrix = pd.crosstab(Young['Discharged'], Young['Nurse_High_Risk'], rownames=['Actual'], colnames=['Predicted'])\n",
        "print(\"Confusion matrix of Young:\")\n",
        "print (confusion_matrix)\n",
        "print()\n",
        "\n",
        "confusion_matrix = pd.crosstab(Old['Discharged'], Old['Nurse_High_Risk'], rownames=['Actual'], colnames=['Predicted'])\n",
        "print(\"Confusion matrix of Old:\")\n",
        "print (confusion_matrix)"
      ],
      "execution_count": null,
      "outputs": [
        {
          "output_type": "stream",
          "text": [
            "Confusion matrix of Young:\n",
            "Predicted  False  True \n",
            "Actual                 \n",
            "False         41    105\n",
            "True         279    164\n",
            "\n",
            "Confusion matrix of Old:\n",
            "Predicted  False  True \n",
            "Actual                 \n",
            "False         64    234\n",
            "True         204    176\n"
          ],
          "name": "stdout"
        }
      ]
    },
    {
      "cell_type": "markdown",
      "metadata": {
        "id": "jLdzsqHHng70",
        "colab_type": "text"
      },
      "source": [
        "    In Young population:\n",
        "\n",
        "    False Positive Rate = FP/FP+TN = 164/(164+279) = 37.02%\n",
        "\n",
        "    False Negative Rate = FN/FN+TP = 41/(41+105) = 28.08%\n",
        "\n",
        "    In Old population:\n",
        "\n",
        "    False Positive Rate = FP/FP+TN = 176/(176+204) = 46.32%\n",
        "\n",
        "    False Negative Rate = FN/FN+TP = 64/(64+234) = 21.48%"
      ]
    },
    {
      "cell_type": "code",
      "metadata": {
        "id": "Xy53TQlujRql",
        "colab_type": "code",
        "colab": {
          "base_uri": "https://localhost:8080/",
          "height": 204
        },
        "outputId": "56c6474a-1aac-4935-e118-92ed8e34f126"
      },
      "source": [
        "# confusion matrix by sex\n",
        "confusion_matrix = pd.crosstab(Male['Discharged'], Male['Nurse_High_Risk'], rownames=['Actual'], colnames=['Predicted'])\n",
        "print(\"Confusion matrix of Male:\")\n",
        "print (confusion_matrix)\n",
        "print()\n",
        "\n",
        "confusion_matrix = pd.crosstab(Female['Discharged'], Female['Nurse_High_Risk'], rownames=['Actual'], colnames=['Predicted'])\n",
        "print(\"Confusion matrix of Female:\")\n",
        "print (confusion_matrix)"
      ],
      "execution_count": null,
      "outputs": [
        {
          "output_type": "stream",
          "text": [
            "Confusion matrix of Male:\n",
            "Predicted  False  True \n",
            "Actual                 \n",
            "False         49    192\n",
            "True         255    165\n",
            "\n",
            "Confusion matrix of Female:\n",
            "Predicted  False  True \n",
            "Actual                 \n",
            "False         56    147\n",
            "True         228    175\n"
          ],
          "name": "stdout"
        }
      ]
    },
    {
      "cell_type": "markdown",
      "metadata": {
        "id": "yOkXXayOoxCh",
        "colab_type": "text"
      },
      "source": [
        "    In Male:\n",
        "\n",
        "    False Positive Rate = FP/FP+TN = 165/(165+255) = 39.29%\n",
        "\n",
        "    False Negative Rate = FN/FN+TP = 49/(49+192) = 20.33%\n",
        "\n",
        "    In Female:\n",
        "\n",
        "    False Positive Rate = FP/FP+TN = 175/(175+228) = 43.42%\n",
        "\n",
        "    False Negative Rate = FN/FN+TP = 56/(56+147) = 27.59%"
      ]
    },
    {
      "cell_type": "markdown",
      "metadata": {
        "id": "HAJdBrDyGmnf",
        "colab_type": "text"
      },
      "source": [
        "## Task 4. *(8 points)*\n",
        "\n",
        "Repeat tasks 2 and 3 using expert triage ratings instead of nurse triage ratings. \n",
        "   - Are retrospective expert ratings more or less accurate than nurse scores? \n",
        "   \n",
        "   Based on the FPR and FNR of total population, age groups and sex groups, experts have higher FPR but lower FNR, which means that experts tend to overrate patients' situations. For example, by the diagnosis of experts, more patients with mild situation are considered dangerous, less high risk patients are considered safe. Although this extra carefulness is not harmful for patients, experts are not overall more accurate than nurses.\n",
        "   - Are experts more or less fair than nurses, or about the same, by age and sex?\n",
        "\n",
        "   Experts and nurses share similar fairness towards diagnosis of each population groups. They both show no bias toward sex groups and extra carefulness for old people indicating by overall lower discharge rates.\n",
        "\n",
        "\n"
      ]
    },
    {
      "cell_type": "code",
      "metadata": {
        "colab_type": "code",
        "id": "hXqFBlbgw_jJ",
        "colab": {
          "base_uri": "https://localhost:8080/",
          "height": 255
        },
        "outputId": "6f18272b-443d-4f41-c146-f229cea55191"
      },
      "source": [
        "# Calculate baseline distributions of expert triage scores\n",
        "\n",
        "print(\"Distribution of expert triage scores\")\n",
        "print(df[\"Expert_Triage\"].value_counts() / len(df))\n",
        "print(df[\"Expert_Triage\"].value_counts())\n",
        "print()"
      ],
      "execution_count": null,
      "outputs": [
        {
          "output_type": "stream",
          "text": [
            "Distribution of expert triage scores\n",
            "3    0.384373\n",
            "4    0.362273\n",
            "2    0.173639\n",
            "5    0.059195\n",
            "1    0.020521\n",
            "Name: Expert_Triage, dtype: float64\n",
            "3    487\n",
            "4    459\n",
            "2    220\n",
            "5     75\n",
            "1     26\n",
            "Name: Expert_Triage, dtype: int64\n",
            "\n"
          ],
          "name": "stdout"
        }
      ]
    },
    {
      "cell_type": "code",
      "metadata": {
        "colab_type": "code",
        "id": "xT7qUVM3xRJR",
        "colab": {
          "base_uri": "https://localhost:8080/",
          "height": 626
        },
        "outputId": "dc4af724-f8e3-4460-9668-f817c2565aaf"
      },
      "source": [
        "# Calculate expert triage scores distribution divided by gender\n",
        "import matplotlib.pyplot as plt\n",
        "\n",
        "# Prevalence of expert triage scores\n",
        "print(\"Distribution of Expert Triage Score by Gender\")\n",
        "print(df.Sex.value_counts())\n",
        "print()\n",
        "\n",
        "Male = df.loc[df.Sex == \"Male\"]\n",
        "Female = df.loc[df.Sex == \"Female\"]\n",
        "\n",
        "plt.bar(range(1,6), Male.Expert_Triage.value_counts(sort=False))\n",
        "plt.bar(range(1,6), Female.Expert_Triage.value_counts(sort=False), bottom=Male.Expert_Triage.value_counts(sort=False))\n",
        "plt.legend([\"Male\", \"Female\"])\n",
        "plt.xlabel(\"Expert Triage Score\")\n",
        "plt.ylabel(\"Count in Training Data\")\n",
        "plt.show()\n",
        "\n",
        "male_pcts = Male.Expert_Triage.value_counts(sort=False) / (Male.Expert_Triage.value_counts(sort=False) + Female.Expert_Triage.value_counts(sort=False))\n",
        "female_pcts = Female.Expert_Triage.value_counts(sort=False) / (Male.Expert_Triage.value_counts(sort=False) + Female.Expert_Triage.value_counts(sort=False))\n",
        "\n",
        "plt.bar(range(1,6), male_pcts)\n",
        "plt.bar(range(1,6), female_pcts, bottom=male_pcts)\n",
        "plt.legend([\"Male\", \"Female\"])\n",
        "plt.xlabel(\"Expert Triage Score\")\n",
        "plt.ylabel(\"Percent in Training Data\")\n",
        "plt.show()"
      ],
      "execution_count": null,
      "outputs": [
        {
          "output_type": "stream",
          "text": [
            "Distribution of Expert Triage Score by Gender\n",
            "Male      661\n",
            "Female    606\n",
            "Name: Sex, dtype: int64\n",
            "\n"
          ],
          "name": "stdout"
        },
        {
          "output_type": "display_data",
          "data": {
            "image/png": "[encoded data removed]",
            "text/plain": [
              "<Figure size 432x288 with 1 Axes>"
            ]
          },
          "metadata": {
            "tags": [],
            "needs_background": "light"
          }
        },
        {
          "output_type": "display_data",
          "data": {
            "image/png": "[encoded data removed]",
            "text/plain": [
              "<Figure size 432x288 with 1 Axes>"
            ]
          },
          "metadata": {
            "tags": [],
            "needs_background": "light"
          }
        }
      ]
    },
    {
      "cell_type": "code",
      "metadata": {
        "colab_type": "code",
        "id": "qmu-UvARxxPv",
        "colab": {
          "base_uri": "https://localhost:8080/",
          "height": 541
        },
        "outputId": "ae62f7af-a2bd-4206-8656-904371a029ed"
      },
      "source": [
        "# Calculate expert triage scores distribution divided by age groups\n",
        "\n",
        "plt.bar(range(1,6), Old.Expert_Triage.value_counts(sort=False))\n",
        "plt.bar(range(1,6), Young.Expert_Triage.value_counts(sort=False), bottom=Old.Expert_Triage.value_counts(sort=False))\n",
        "plt.legend([\"Old\", \"Young\"])\n",
        "plt.xlabel(\"Expert Triage Score\")\n",
        "plt.ylabel(\"Count in Training Data\")\n",
        "plt.show()\n",
        "\n",
        "old_pcts = Old.Expert_Triage.value_counts(sort=False) / (Old.Expert_Triage.value_counts(sort=False) + Young.Expert_Triage.value_counts(sort=False))\n",
        "young_pcts = Young.Expert_Triage.value_counts(sort=False) / (Old.Expert_Triage.value_counts(sort=False) + Young.Expert_Triage.value_counts(sort=False))\n",
        "\n",
        "plt.bar(range(1,6), old_pcts)\n",
        "plt.bar(range(1,6), young_pcts, bottom=old_pcts)\n",
        "plt.legend([\"Old\", \"Young\"])\n",
        "plt.xlabel(\"Expert Triage Score\")\n",
        "plt.ylabel(\"Percent in Training Data\")\n",
        "plt.show()"
      ],
      "execution_count": null,
      "outputs": [
        {
          "output_type": "display_data",
          "data": {
            "image/png": "[encoded data removed]",
            "text/plain": [
              "<Figure size 432x288 with 1 Axes>"
            ]
          },
          "metadata": {
            "tags": [],
            "needs_background": "light"
          }
        },
        {
          "output_type": "display_data",
          "data": {
            "image/png": "[encoded data removed]",
            "text/plain": [
              "<Figure size 432x288 with 1 Axes>"
            ]
          },
          "metadata": {
            "tags": [],
            "needs_background": "light"
          }
        }
      ]
    },
    {
      "cell_type": "code",
      "metadata": {
        "colab_type": "code",
        "id": "YMNLpOoxyNHG",
        "colab": {
          "base_uri": "https://localhost:8080/",
          "height": 403
        },
        "outputId": "1d72d37a-1c8b-4919-e06d-3aa26bd896a8"
      },
      "source": [
        "# Calculate Discharge rates divided by gender\n",
        "print(\"Distribution of Discharge Rate\")\n",
        "print(df.Discharged.value_counts() / len(df))\n",
        "\n",
        "# calculate discharge rate by score\n",
        "df.groupby([\"Expert_Triage\"])[\"Discharged\"].value_counts()\n",
        "\n",
        "sex_probs = []\n",
        "for sex in [Male, Female]:\n",
        "    probs = []\n",
        "    for score in range(1,6):\n",
        "        subset = sex.loc[sex.Expert_Triage == score]\n",
        "        dis_rate = subset.loc[subset.Discharged==\"True\"]\n",
        "        prob_dis = len(dis_rate) / len(subset)\n",
        "        probs.append(prob_dis)\n",
        "    sex_probs.append(probs)\n",
        "\n",
        "fig = plt.gcf()\n",
        "fig.set_size_inches(10,5)\n",
        "plt.bar(range(1,6), sex_probs[0], align='edge', width=-.4)\n",
        "plt.bar(range(1,6), sex_probs[1], align='edge', width=.4)\n",
        "plt.xlabel(\"Expert Traige Score\")\n",
        "plt.xticks(ticks=range(1,6), labels=range(1,6))\n",
        "plt.ylabel(\"% Discharge\")\n",
        "plt.legend([\"Male\", \"Female\"])\n",
        "plt.show()"
      ],
      "execution_count": null,
      "outputs": [
        {
          "output_type": "stream",
          "text": [
            "Distribution of Discharge Rate\n",
            "True     0.649566\n",
            "False    0.350434\n",
            "Name: Discharged, dtype: float64\n"
          ],
          "name": "stdout"
        },
        {
          "output_type": "display_data",
          "data": {
            "image/png": "[encoded data removed]",
            "text/plain": [
              "<Figure size 720x360 with 1 Axes>"
            ]
          },
          "metadata": {
            "tags": [],
            "needs_background": "light"
          }
        }
      ]
    },
    {
      "cell_type": "code",
      "metadata": {
        "colab_type": "code",
        "id": "S0TOV8oxyePy",
        "colab": {
          "base_uri": "https://localhost:8080/",
          "height": 334
        },
        "outputId": "2ec3ad5b-5abe-4c1b-c17a-111cfaa23266"
      },
      "source": [
        "# Calculate Discharge rates divided by age\n",
        "\n",
        "age_probs = []\n",
        "for age in [Old, Young]:\n",
        "    probs = []\n",
        "    for score in range(1,6):\n",
        "        subset = age.loc[age.Expert_Triage == score]\n",
        "        dis_rate = subset.loc[subset.Discharged==\"True\"]\n",
        "        prob_dis = len(dis_rate) / len(subset)\n",
        "        probs.append(prob_dis)\n",
        "    age_probs.append(probs)\n",
        "\n",
        "fig = plt.gcf()\n",
        "fig.set_size_inches(10,5)\n",
        "plt.bar(range(1,6), age_probs[0], align='edge', width=-.4)\n",
        "plt.bar(range(1,6), age_probs[1], align='edge', width=.4)\n",
        "plt.xlabel(\"Expert Traige Score\")\n",
        "plt.xticks(ticks=range(1,6), labels=range(1,6))\n",
        "plt.ylabel(\"% Discharge\")\n",
        "plt.legend([\"Old\", \"Young\"])\n",
        "plt.show()\n"
      ],
      "execution_count": null,
      "outputs": [
        {
          "output_type": "display_data",
          "data": {
            "image/png": "[encoded data removed]",
            "text/plain": [
              "<Figure size 720x360 with 1 Axes>"
            ]
          },
          "metadata": {
            "tags": [],
            "needs_background": "light"
          }
        }
      ]
    },
    {
      "cell_type": "markdown",
      "metadata": {
        "colab_type": "text",
        "id": "pxQI-pbryxHA"
      },
      "source": [
        "Definitions:\n",
        "\n",
        "   - False Positive: The patient was diagnosed of high risk, given score 1-3 by expert, but actually was discharged. (`Expert High-Risk`True, `Discharged` True)\n",
        "\n",
        "   - False Negative: The patient was diagnosed low risk by the expert, given score 4-5, but in fact was not discharged.  (`Expert High-Risk`False, `Discharged` False)\n",
        "\n",
        "   - True Negative: The patient was dianosed low risk and was discharged.(`Expert High-Risk`False, `Discharged` True)\n",
        "\n",
        "   - True Positive: The patient was dianosed high risk and was not discharged.(`Expert High-Risk`True, `Discharged` False)"
      ]
    },
    {
      "cell_type": "code",
      "metadata": {
        "colab_type": "code",
        "id": "_q1QFDV9zIFb",
        "colab": {
          "base_uri": "https://localhost:8080/",
          "height": 85
        },
        "outputId": "005b80d5-fd89-482c-d7cf-afaefda02c10"
      },
      "source": [
        "# Generating confusion matrix with scikit-learn\n",
        "import numpy as np\n",
        "import seaborn as sn\n",
        "from sklearn.metrics import confusion_matrix, ConfusionMatrixDisplay\n",
        "\n",
        "confusion_matrix = pd.crosstab(df['Discharged'], df['Expert_High_Risk'], rownames=['Actual'], colnames=['Predicted'])\n",
        "print (confusion_matrix)"
      ],
      "execution_count": null,
      "outputs": [
        {
          "output_type": "stream",
          "text": [
            "Predicted  False  True \n",
            "Actual                 \n",
            "False         95    349\n",
            "True         439    384\n"
          ],
          "name": "stdout"
        }
      ]
    },
    {
      "cell_type": "markdown",
      "metadata": {
        "colab_type": "text",
        "id": "K8wtLzlDzbo7"
      },
      "source": [
        "    In Total population:\n",
        "\n",
        "    False Positive Rate = FP/FP+TN = 384/(384+439) = 46.66%\n",
        "\n",
        "    False Negative Rate = FN/FN+TP = 95/(95+349) = 21.40%"
      ]
    },
    {
      "cell_type": "code",
      "metadata": {
        "colab_type": "code",
        "id": "Qgu9erO2zxGt",
        "colab": {
          "base_uri": "https://localhost:8080/",
          "height": 204
        },
        "outputId": "06dd9055-d6cf-4a24-c65b-f72b25322c4f"
      },
      "source": [
        "# confusion matrix of two age groups\n",
        "confusion_matrix = pd.crosstab(Young['Discharged'], Young['Expert_High_Risk'], rownames=['Actual'], colnames=['Predicted'])\n",
        "print(\"Confusion matrix of Young:\")\n",
        "print (confusion_matrix)\n",
        "print()\n",
        "\n",
        "confusion_matrix = pd.crosstab(Old['Discharged'], Old['Expert_High_Risk'], rownames=['Actual'], colnames=['Predicted'])\n",
        "print(\"Confusion matrix of Old:\")\n",
        "print (confusion_matrix)"
      ],
      "execution_count": null,
      "outputs": [
        {
          "output_type": "stream",
          "text": [
            "Confusion matrix of Young:\n",
            "Predicted  False  True \n",
            "Actual                 \n",
            "False         37    109\n",
            "True         263    180\n",
            "\n",
            "Confusion matrix of Old:\n",
            "Predicted  False  True \n",
            "Actual                 \n",
            "False         58    240\n",
            "True         176    204\n"
          ],
          "name": "stdout"
        }
      ]
    },
    {
      "cell_type": "markdown",
      "metadata": {
        "colab_type": "text",
        "id": "LDEXML5c0qVU"
      },
      "source": [
        "    In Young population:\n",
        "\n",
        "    False Positive Rate = FP/FP+TN = 180/(180+263) = 40.63%\n",
        "\n",
        "    False Negative Rate = FN/FN+TP = 37/(37+109) = 25.34%\n",
        "\n",
        "    In Old population:\n",
        "\n",
        "    False Positive Rate = FP/FP+TN = 204/(204+176) = 53.68%\n",
        "\n",
        "    False Negative Rate = FN/FN+TP = 58/(58+240) = 19.46%"
      ]
    },
    {
      "cell_type": "code",
      "metadata": {
        "colab_type": "code",
        "id": "kOCZJklZ1PBZ",
        "colab": {
          "base_uri": "https://localhost:8080/",
          "height": 204
        },
        "outputId": "383225bd-77f4-4d40-aaca-69e6fa832cd9"
      },
      "source": [
        "# confusion matrix by sex\n",
        "confusion_matrix = pd.crosstab(Male['Discharged'], Male['Expert_High_Risk'], rownames=['Actual'], colnames=['Predicted'])\n",
        "print(\"Confusion matrix of Male:\")\n",
        "print (confusion_matrix)\n",
        "print()\n",
        "\n",
        "confusion_matrix = pd.crosstab(Female['Discharged'], Female['Expert_High_Risk'], rownames=['Actual'], colnames=['Predicted'])\n",
        "print(\"Confusion matrix of Female:\")\n",
        "print (confusion_matrix)"
      ],
      "execution_count": null,
      "outputs": [
        {
          "output_type": "stream",
          "text": [
            "Confusion matrix of Male:\n",
            "Predicted  False  True \n",
            "Actual                 \n",
            "False         42    199\n",
            "True         243    177\n",
            "\n",
            "Confusion matrix of Female:\n",
            "Predicted  False  True \n",
            "Actual                 \n",
            "False         53    150\n",
            "True         196    207\n"
          ],
          "name": "stdout"
        }
      ]
    },
    {
      "cell_type": "markdown",
      "metadata": {
        "colab_type": "text",
        "id": "3VJbDoEK1W-7"
      },
      "source": [
        "    In Male:\n",
        "\n",
        "    False Positive Rate = FP/FP+TN = 177/(177+243) = 42.14%\n",
        "\n",
        "    False Negative Rate = FN/FN+TP = 42/(42+199) = 17.43%\n",
        "\n",
        "    In Female:\n",
        "\n",
        "    False Positive Rate = FP/FP+TN = 207/(207+196) = 51.36%\n",
        "\n",
        "    False Negative Rate = FN/FN+TP = 53/(53+150) = 26.11%"
      ]
    }
  ]
}