{
  "nbformat": 4,
  "nbformat_minor": 0,
  "metadata": {
    "colab": {
      "name": "Homework1_DecisionTree.ipynb",
      "provenance": [],
      "include_colab_link": true
    },
    "kernelspec": {
      "name": "python3",
      "display_name": "Python 3"
    }
  },
  "cells": [
    {
      "cell_type": "markdown",
      "metadata": {
        "id": "view-in-github",
        "colab_type": "text"
      },
      "source": [
        "<a href=\"https://colab.research.google.com/github/yimingm/MSSP608-Practical-Machine-Learning/blob/master/Homework1_DecisionTree.ipynb\" target=\"_parent\"><img src=\"https://colab.research.google.com/assets/colab-badge.svg\" alt=\"Open In Colab\"/></a>"
      ]
    },
    {
      "cell_type": "markdown",
      "metadata": {
        "id": "b303czQnwtqs",
        "colab_type": "text"
      },
      "source": [
        "# Introduction to homework 1\n",
        "On Canvas (or in this notebook's files) you’ll find a new file, **lendingclub.csv**. Each row of this file represents a single user\n",
        "account on **LendingClub.com**. The site consists of two types of users, **borrowers** who are applying for a new loan, and **investors** who lend money for fixed periods of time. Each row in our dataset represents a single borrower at the time they apply for their first peer-to-peer loan, and each row contains nine columns:\n",
        "\n",
        "- Amount requested for their first loan\n",
        "- Year the loan was requested (this dataset covers only a five-year period, 2008-2012)\n",
        "- Title of the loan application (written by the borrower)\n",
        "- FICO score (credit rating) of the borrower\n",
        "- “Debt-to-Income”: A ratio of the borrower’s total monthly debt payments, excluding home\n",
        "mortgage and the requested loan, to the borrower’s self-reported monthly income.\n",
        "- ZIP code of the borrower (the last two digits of each ZIP are masked for anonymity)\n",
        "- U.S. state that the borrower resides in.\n",
        "- Length of time that the borrower has been employed at their current job, from 0 to 10+ years.\n",
        "- A binary outcome variable for whether the user’s loan application was accepted by investors.\n",
        "\n",
        "Our goal with this project will be to automatically predict whether a borrower will be approved for a loan from the investor members of the website, based only on the data provided above. For each of the following questions, add a series of code and markdown cells to develop an easily readable report responding to the question. "
      ]
    },
    {
      "cell_type": "code",
      "metadata": {
        "id": "MKnPmh417KxS",
        "colab_type": "code",
        "colab": {}
      },
      "source": [
        "import math\n",
        "import pandas as pd\n",
        "import numpy as np\n",
        "import statsmodels.formula.api as smf\n",
        "import matplotlib.pyplot as plt\n",
        "from scipy import stats\n",
        "from matplotlib import dates\n",
        "from datetime import datetime\n",
        "\n",
        "from sklearn.metrics import accuracy_score, precision_score, recall_score, cohen_kappa_score, confusion_matrix, mutual_info_score\n",
        "from sklearn.tree import DecisionTreeClassifier\n",
        "from sklearn import tree\n",
        "from sklearn.model_selection import train_test_split"
      ],
      "execution_count": null,
      "outputs": []
    },
    {
      "cell_type": "markdown",
      "metadata": {
        "id": "2o1yJ2iBxEF4",
        "colab_type": "text"
      },
      "source": [
        "# Download the Data \n",
        "Keep this if you are working in Google Colab. Delete this if you are working on your own computer and have the data downloaded already. "
      ]
    },
    {
      "cell_type": "code",
      "metadata": {
        "id": "UT2wAPLswcXw",
        "colab_type": "code",
        "colab": {
          "base_uri": "https://localhost:8080/",
          "height": 326
        },
        "outputId": "76976372-7624-491d-d25f-84672e15f547"
      },
      "source": [
        "!wget --no-check-certificate 'https://docs.google.com/uc?export=download&id=0B5qTk6DHjanhOV9LRE5DY3l1T2pGemVBNTVQVzVsMlFCcHF3' -O lendingclub.csv"
      ],
      "execution_count": null,
      "outputs": [
        {
          "output_type": "stream",
          "text": [
            "--2020-02-03 02:34:36--  https://docs.google.com/uc?export=download&id=0B5qTk6DHjanhOV9LRE5DY3l1T2pGemVBNTVQVzVsMlFCcHF3\n",
            "Resolving docs.google.com (docs.google.com)... 173.194.212.113, 173.194.212.138, 173.194.212.101, ...\n",
            "Connecting to docs.google.com (docs.google.com)|173.194.212.113|:443... connected.\n",
            "HTTP request sent, awaiting response... 302 Moved Temporarily\n",
            "Location: https://doc-10-5c-docs.googleusercontent.com/docs/securesc/ha0ro937gcuc7l7deffksulhg5h7mbp1/hq3u6n9nrm0du8j10i684rqq6mvm3bh2/1580695200000/09819396713149841370/*/0B5qTk6DHjanhOV9LRE5DY3l1T2pGemVBNTVQVzVsMlFCcHF3?e=download [following]\n",
            "Warning: wildcards not supported in HTTP.\n",
            "--2020-02-03 02:34:36--  https://doc-10-5c-docs.googleusercontent.com/docs/securesc/ha0ro937gcuc7l7deffksulhg5h7mbp1/hq3u6n9nrm0du8j10i684rqq6mvm3bh2/1580695200000/09819396713149841370/*/0B5qTk6DHjanhOV9LRE5DY3l1T2pGemVBNTVQVzVsMlFCcHF3?e=download\n",
            "Resolving doc-10-5c-docs.googleusercontent.com (doc-10-5c-docs.googleusercontent.com)... 173.194.216.132, 2607:f8b0:400c:c12::84\n",
            "Connecting to doc-10-5c-docs.googleusercontent.com (doc-10-5c-docs.googleusercontent.com)|173.194.216.132|:443... connected.\n",
            "HTTP request sent, awaiting response... 200 OK\n",
            "Length: unspecified [text/csv]\n",
            "Saving to: ‘lendingclub.csv’\n",
            "\n",
            "lendingclub.csv         [ <=>                ]   6.03M  --.-KB/s    in 0.06s   \n",
            "\n",
            "2020-02-03 02:34:36 (108 MB/s) - ‘lendingclub.csv’ saved [6325329]\n",
            "\n"
          ],
          "name": "stdout"
        }
      ]
    },
    {
      "cell_type": "markdown",
      "metadata": {
        "id": "783C7f61yxMT",
        "colab_type": "text"
      },
      "source": [
        "# Question 1:\n",
        "- Why is this data about users valuable to LendingClub?\n",
        "1. Firstly, this data about users is useful for target advertisement. For example, with the information of application date and location, LendingClub is able to adjust the amount of advertisement according to peak/off seasons and locations.\n",
        "2. Other than getting more LendingClub users, the dataset is also useful for LendingClub investors. The title of the loan informs investors where the money goes. Investors can maximize the payback from loan amount and period.\n"
      ]
    },
    {
      "cell_type": "markdown",
      "metadata": {
        "id": "QP4x1gJ4_o4o",
        "colab_type": "text"
      },
      "source": [
        "- Name at least two different ways this automated prediction could be used either for in-app product changes, or business decision-making.\n",
        "\n",
        "1. With the automated prediction, the loan application process can be speeded up and thus the money of the investors can be more effectively allocated and iterated. Less time is wasted on manual process.\n",
        "2. Since the automated prediction applies same rules to all applications, the application results are highly consistence, which is fair to borrowers. With the automated prediction, Human errors are also avoided.\n",
        "3. Along with the expand of business, the company needs to look for more investors. Loan purposes with high rates of acceptance may attract corresponding investors. \n",
        "\n"
      ]
    },
    {
      "cell_type": "markdown",
      "metadata": {
        "id": "8jV6x5r_y5CB",
        "colab_type": "text"
      },
      "source": [
        "# Question 2: \n"
      ]
    },
    {
      "cell_type": "markdown",
      "metadata": {
        "id": "x5lCMm_X_UDW",
        "colab_type": "text"
      },
      "source": [
        "- Class distribution of the outcome labels.\n",
        "\n",
        "  There are two labels of the outcome in the dataset: accept, reject. “accept” means the loan is approved, and “reject” means the loan was not approved, there is no other options. In the dataset, there are 71858 rejections and 9245 acceptances."
      ]
    },
    {
      "cell_type": "markdown",
      "metadata": {
        "id": "UbnAz8RFAkbA",
        "colab_type": "text"
      },
      "source": [
        "- List of features you used from the data, including their name and data type (numeric or\n",
        "nominal). For each feature, provide min, mean, and max values (if the feature is numeric) or\n",
        "list all possible labels (if the feature is nominal).\n",
        "![alt text](https://drive.google.com/uc?id=1AdFLvxXvOw-qugfv8ydusaHSa6K4PvJJ)"
      ]
    },
    {
      "cell_type": "markdown",
      "metadata": {
        "id": "l_eWeJiSB44h",
        "colab_type": "text"
      },
      "source": [
        "- List of hyperparameter settings for the decision tree.\n",
        "\n",
        "  Most of the parameters of the decision tree is by default, except for criterion, I used entropy instead of gini.\n",
        "\n",
        "  DecisionTreeClassifier (ccp_alpha=0.0, class_weight=None, criterion='entropy', max_depth=None, max_features=None, max_leaf_nodes=None, min_impurity_decrease=0.0, min_impurity_split=None, min_samples_leaf=1, min_samples_split=2 min_weight_fraction_leaf=0.0, presort='deprecated', random_state=123, splitter='best')\n"
      ]
    },
    {
      "cell_type": "markdown",
      "metadata": {
        "id": "NMn8FxEuCEFU",
        "colab_type": "text"
      },
      "source": [
        "- Performance of the trained classifier\n",
        "  \n",
        "  The 95% accuracy is quiet satisfying for this arbitrary single built decision tree. The 0.76 kappa is considered good. \n",
        "\n",
        "  Accuracy: 95.0 \n",
        "\n",
        "  Kappa: 0.760 \n",
        "\n",
        "  Precision: 0.779\n",
        "  \n",
        "  ![alt text](https://drive.google.com/uc?id=1irieTWWNGuACoV6_Q5UPK9Tj_KV2t6OO)\n"
      ]
    },
    {
      "cell_type": "markdown",
      "metadata": {
        "id": "YnbKY_Ys6mIO",
        "colab_type": "text"
      },
      "source": [
        "**Step 1: Open Dataset**"
      ]
    },
    {
      "cell_type": "code",
      "metadata": {
        "id": "pXlh5-t7UGOg",
        "colab_type": "code",
        "colab": {
          "base_uri": "https://localhost:8080/",
          "height": 204
        },
        "outputId": "7d2178ab-07d2-4bf2-aa3b-63e36b8b904f"
      },
      "source": [
        "lendingclub = pd.read_csv(\"lendingclub.csv\") \n",
        "lendingclub.head()"
      ],
      "execution_count": null,
      "outputs": [
        {
          "output_type": "execute_result",
          "data": {
            "text/html": [
              "<div>\n",
              "<style scoped>\n",
              "    .dataframe tbody tr th:only-of-type {\n",
              "        vertical-align: middle;\n",
              "    }\n",
              "\n",
              "    .dataframe tbody tr th {\n",
              "        vertical-align: top;\n",
              "    }\n",
              "\n",
              "    .dataframe thead th {\n",
              "        text-align: right;\n",
              "    }\n",
              "</style>\n",
              "<table border=\"1\" class=\"dataframe\">\n",
              "  <thead>\n",
              "    <tr style=\"text-align: right;\">\n",
              "      <th></th>\n",
              "      <th>amount</th>\n",
              "      <th>date</th>\n",
              "      <th>title</th>\n",
              "      <th>fico</th>\n",
              "      <th>dti</th>\n",
              "      <th>zip</th>\n",
              "      <th>state</th>\n",
              "      <th>emp_length</th>\n",
              "      <th>policy_code</th>\n",
              "      <th>year</th>\n",
              "      <th>outcome</th>\n",
              "    </tr>\n",
              "  </thead>\n",
              "  <tbody>\n",
              "    <tr>\n",
              "      <th>0</th>\n",
              "      <td>2500.0</td>\n",
              "      <td>Dec-2011</td>\n",
              "      <td>bike</td>\n",
              "      <td>740.0</td>\n",
              "      <td>1.00</td>\n",
              "      <td>309xx</td>\n",
              "      <td>GA</td>\n",
              "      <td>&lt; 1 year</td>\n",
              "      <td>1.0</td>\n",
              "      <td>2011</td>\n",
              "      <td>accept</td>\n",
              "    </tr>\n",
              "    <tr>\n",
              "      <th>1</th>\n",
              "      <td>12000.0</td>\n",
              "      <td>Dec-2011</td>\n",
              "      <td>Consolidation</td>\n",
              "      <td>675.0</td>\n",
              "      <td>10.78</td>\n",
              "      <td>913xx</td>\n",
              "      <td>CA</td>\n",
              "      <td>10+ years</td>\n",
              "      <td>1.0</td>\n",
              "      <td>2011</td>\n",
              "      <td>accept</td>\n",
              "    </tr>\n",
              "    <tr>\n",
              "      <th>2</th>\n",
              "      <td>21000.0</td>\n",
              "      <td>Dec-2011</td>\n",
              "      <td>Debt Cleanup</td>\n",
              "      <td>705.0</td>\n",
              "      <td>13.22</td>\n",
              "      <td>335xx</td>\n",
              "      <td>FL</td>\n",
              "      <td>10+ years</td>\n",
              "      <td>1.0</td>\n",
              "      <td>2011</td>\n",
              "      <td>accept</td>\n",
              "    </tr>\n",
              "    <tr>\n",
              "      <th>3</th>\n",
              "      <td>31825.0</td>\n",
              "      <td>Dec-2011</td>\n",
              "      <td>Debt Consolidation Loan</td>\n",
              "      <td>760.0</td>\n",
              "      <td>14.03</td>\n",
              "      <td>080xx</td>\n",
              "      <td>NJ</td>\n",
              "      <td>5 years</td>\n",
              "      <td>1.0</td>\n",
              "      <td>2011</td>\n",
              "      <td>accept</td>\n",
              "    </tr>\n",
              "    <tr>\n",
              "      <th>4</th>\n",
              "      <td>12000.0</td>\n",
              "      <td>Dec-2011</td>\n",
              "      <td>Debt Consolidation</td>\n",
              "      <td>725.0</td>\n",
              "      <td>16.70</td>\n",
              "      <td>088xx</td>\n",
              "      <td>NJ</td>\n",
              "      <td>10+ years</td>\n",
              "      <td>1.0</td>\n",
              "      <td>2011</td>\n",
              "      <td>accept</td>\n",
              "    </tr>\n",
              "  </tbody>\n",
              "</table>\n",
              "</div>"
            ],
            "text/plain": [
              "    amount      date                    title  ...  policy_code  year outcome\n",
              "0   2500.0  Dec-2011                     bike  ...          1.0  2011  accept\n",
              "1  12000.0  Dec-2011            Consolidation  ...          1.0  2011  accept\n",
              "2  21000.0  Dec-2011             Debt Cleanup  ...          1.0  2011  accept\n",
              "3  31825.0  Dec-2011  Debt Consolidation Loan  ...          1.0  2011  accept\n",
              "4  12000.0  Dec-2011       Debt Consolidation  ...          1.0  2011  accept\n",
              "\n",
              "[5 rows x 11 columns]"
            ]
          },
          "metadata": {
            "tags": []
          },
          "execution_count": 26
        }
      ]
    },
    {
      "cell_type": "markdown",
      "metadata": {
        "id": "L3XTcnC6MujL",
        "colab_type": "text"
      },
      "source": [
        "**Step 2: Descriptive Analysis - Nominal Features**\n",
        "\n",
        "I chose amount, fico and emp_length to be the features of the decision tree. The following code provide the labels of outcome and information of the features."
      ]
    },
    {
      "cell_type": "code",
      "metadata": {
        "id": "GKzaLPTDQHDa",
        "colab_type": "code",
        "colab": {
          "base_uri": "https://localhost:8080/",
          "height": 102
        },
        "outputId": "172925b3-7959-44e4-a305-bf6d30603f04"
      },
      "source": [
        "print(lendingclub[\"outcome\"].value_counts())\n",
        "print(lendingclub.emp_length.unique())"
      ],
      "execution_count": null,
      "outputs": [
        {
          "output_type": "stream",
          "text": [
            "reject    71858\n",
            "accept     9245\n",
            "Name: outcome, dtype: int64\n",
            "['< 1 year' '10+ years' '5 years' '9 years' '6 years' '2 years' '3 years'\n",
            " '7 years' '8 years' '4 years' '1 year']\n"
          ],
          "name": "stdout"
        }
      ]
    },
    {
      "cell_type": "markdown",
      "metadata": {
        "id": "gvWfCNb_Ocej",
        "colab_type": "text"
      },
      "source": [
        "Descriptive Analysis - Numeric Features"
      ]
    },
    {
      "cell_type": "code",
      "metadata": {
        "id": "5pehJ5PqOfXx",
        "colab_type": "code",
        "colab": {
          "base_uri": "https://localhost:8080/",
          "height": 323
        },
        "outputId": "904aee85-a5da-41e8-dd95-f504f327dc8a"
      },
      "source": [
        "print(lendingclub[\"fico\"].describe())\n",
        "print(lendingclub[\"amount\"].describe())"
      ],
      "execution_count": null,
      "outputs": [
        {
          "output_type": "stream",
          "text": [
            "count    81103.000000\n",
            "mean       603.010961\n",
            "std        173.772811\n",
            "min          0.000000\n",
            "25%        585.000000\n",
            "50%        653.000000\n",
            "75%        691.000000\n",
            "max        850.000000\n",
            "Name: fico, dtype: float64\n",
            "count     81103.000000\n",
            "mean      12959.437855\n",
            "std       10315.880464\n",
            "min         500.000000\n",
            "25%        5000.000000\n",
            "50%       10000.000000\n",
            "75%       20000.000000\n",
            "max      500000.000000\n",
            "Name: amount, dtype: float64\n"
          ],
          "name": "stdout"
        }
      ]
    },
    {
      "cell_type": "markdown",
      "metadata": {
        "id": "FFHTfaiw6BED",
        "colab_type": "text"
      },
      "source": [
        "**Step 3: Build Decision Tree**\n",
        "\n",
        "The following codes trained the decision tree and provided the performance (accuracy, kappa and precision) of the trained classifier using scikit-learn. \n",
        "Other than the performance of decision tree with all three features, decision trees with single feature are also available in the following code."
      ]
    },
    {
      "cell_type": "code",
      "metadata": {
        "id": "dgOrJJu-KbDA",
        "colab_type": "code",
        "colab": {}
      },
      "source": [
        "# Pack the training sets with single features and 3-feature-set\n",
        "employment_features = [\"emp_length\"]\n",
        "amount_features = [\"amount\"]\n",
        "fico_features = [\"fico\"]\n",
        "\n",
        "feature_sets = {\n",
        "    \"employment\": employment_features,\n",
        "    \"amount\": amount_features,\n",
        "    \"fico\": fico_features,\n",
        "    \"employment + amount + fico\": employment_features + amount_features + fico_features\n",
        "}"
      ],
      "execution_count": null,
      "outputs": []
    },
    {
      "cell_type": "code",
      "metadata": {
        "id": "932-CmDyKhVe",
        "colab_type": "code",
        "colab": {
          "base_uri": "https://localhost:8080/",
          "height": 853
        },
        "outputId": "ed93541a-0026-4346-e203-af7d4f3f1a1f"
      },
      "source": [
        "# Compare feature sets after training each feature set\n",
        "best = 0\n",
        "best_name = None\n",
        "best_actual = None\n",
        "best_predictions = None\n",
        "\n",
        "precisions = []\n",
        "kappas = []\n",
        "accuracies = []\n",
        "\n",
        "predictions = {}\n",
        "actual = None\n",
        "\n",
        "# For each feature set, we evaluate our model on both the train and the test set\n",
        "for set_name, feature_set in feature_sets.items():\n",
        "\n",
        "    # Create a dummyset with only the features in our feature set\n",
        "    X = lendingclub.loc[:, feature_set]\n",
        "    X = pd.get_dummies(X)\n",
        "\n",
        "    y = lendingclub[\"outcome\"]\n",
        "\n",
        "    # Use scikit-learn to create our train/test split and train our decision tree\n",
        "    X_train, X_test, y_train, y_test = train_test_split(X,y,test_size=0.20, random_state=123)\n",
        "    model = DecisionTreeClassifier(criterion=\"entropy\", random_state=123).fit(X_train, y_train)\n",
        "    \n",
        "    # List of hyperparameter settings\n",
        "    print(model)\n",
        "    # Calculate our accuracy, kappa and precision on the train and test sets\n",
        "    y_pred = model.predict(X_test)\n",
        "\n",
        "    accuracy = 100*accuracy_score(y_test, y_pred)\n",
        "    kappa = cohen_kappa_score(y_test, y_pred)\n",
        "    precision = precision_score(y_test, y_pred, pos_label= \"accept\")\n",
        "\n",
        "    metric_to_optimize = accuracy\n",
        "    \n",
        "    if metric_to_optimize > best:\n",
        "        best = metric_to_optimize\n",
        "        best_name = set_name\n",
        "        \n",
        "    predictions[set_name] = y_pred\n",
        "    actual = np.array(list(y_test))\n",
        "    \n",
        "    # The printed result includes performance of the feature set and the confusion matrix\n",
        "    print(f\"Results for {set_name}:\")\n",
        "    print(confusion_matrix(y_test, y_pred))\n",
        "    print(f\"Accuracy: {accuracy:.1f} Kappa: {kappa:.3f} Precision: {precision:.3f}\")\n",
        "    precisions.append(precision)\n",
        "    kappas.append(kappa)\n",
        "    accuracies.append(accuracy)\n",
        "    print(\"------------------------\")\n",
        "    \n",
        "print(f\"Best feature set is: {best_name} \\nWith: {best:.1f}% accuracy.\")    "
      ],
      "execution_count": null,
      "outputs": [
        {
          "output_type": "stream",
          "text": [
            "DecisionTreeClassifier(ccp_alpha=0.0, class_weight=None, criterion='entropy',\n",
            "                       max_depth=None, max_features=None, max_leaf_nodes=None,\n",
            "                       min_impurity_decrease=0.0, min_impurity_split=None,\n",
            "                       min_samples_leaf=1, min_samples_split=2,\n",
            "                       min_weight_fraction_leaf=0.0, presort='deprecated',\n",
            "                       random_state=123, splitter='best')\n"
          ],
          "name": "stdout"
        },
        {
          "output_type": "stream",
          "text": [
            "/usr/local/lib/python3.6/dist-packages/sklearn/metrics/_classification.py:1272: UndefinedMetricWarning: Precision is ill-defined and being set to 0.0 due to no predicted samples. Use `zero_division` parameter to control this behavior.\n",
            "  _warn_prf(average, modifier, msg_start, len(result))\n"
          ],
          "name": "stderr"
        },
        {
          "output_type": "stream",
          "text": [
            "Results for employment:\n",
            "[[    0  1872]\n",
            " [    0 14349]]\n",
            "Accuracy: 88.5 Kappa: 0.000 Precision: 0.000\n",
            "------------------------\n",
            "DecisionTreeClassifier(ccp_alpha=0.0, class_weight=None, criterion='entropy',\n",
            "                       max_depth=None, max_features=None, max_leaf_nodes=None,\n",
            "                       min_impurity_decrease=0.0, min_impurity_split=None,\n",
            "                       min_samples_leaf=1, min_samples_split=2,\n",
            "                       min_weight_fraction_leaf=0.0, presort='deprecated',\n",
            "                       random_state=123, splitter='best')\n",
            "Results for amount:\n",
            "[[  417  1455]\n",
            " [  223 14126]]\n",
            "Accuracy: 89.7 Kappa: 0.290 Precision: 0.652\n",
            "------------------------\n",
            "DecisionTreeClassifier(ccp_alpha=0.0, class_weight=None, criterion='entropy',\n",
            "                       max_depth=None, max_features=None, max_leaf_nodes=None,\n",
            "                       min_impurity_decrease=0.0, min_impurity_split=None,\n",
            "                       min_samples_leaf=1, min_samples_split=2,\n",
            "                       min_weight_fraction_leaf=0.0, presort='deprecated',\n",
            "                       random_state=123, splitter='best')\n",
            "Results for fico:\n",
            "[[ 1868     4]\n",
            " [ 1164 13185]]\n",
            "Accuracy: 92.8 Kappa: 0.722 Precision: 0.616\n",
            "------------------------\n",
            "DecisionTreeClassifier(ccp_alpha=0.0, class_weight=None, criterion='entropy',\n",
            "                       max_depth=None, max_features=None, max_leaf_nodes=None,\n",
            "                       min_impurity_decrease=0.0, min_impurity_split=None,\n",
            "                       min_samples_leaf=1, min_samples_split=2,\n",
            "                       min_weight_fraction_leaf=0.0, presort='deprecated',\n",
            "                       random_state=123, splitter='best')\n",
            "Results for employment + amount + fico:\n",
            "[[ 1493   379]\n",
            " [  424 13925]]\n",
            "Accuracy: 95.0 Kappa: 0.760 Precision: 0.779\n",
            "------------------------\n",
            "Best feature set is: employment + amount + fico \n",
            "With: 95.0% accuracy.\n"
          ],
          "name": "stdout"
        }
      ]
    },
    {
      "cell_type": "markdown",
      "metadata": {
        "id": "_xOhCWobzfhb",
        "colab_type": "text"
      },
      "source": [
        "# Question 3: \n",
        "\n",
        "Is the decision tree that you trained accurate enough to be used for each of the two business purposes you proposed in question 1? Why or why not?\n",
        "\n",
        "The current decision tree only contains three features: loan amount, fico score and employment length. It leaves out several relevant features such as geographic information and loan purpose. Although 95% accuracy and 77.9% precision seem accurate with low money loss, we still don’t how the false predictions look like. If the false predictions have similar characteristics, for example, if the false loans are of the same purpose, that would be unfair and irresponsible for corresponding investors.\n",
        "\n",
        "For the purpose of attracting more investors, feature “title” needs to be added. With the new decision tree, although false predictions still exist, we will be able to tell generally what loan purpose is worth to invest.\n"
      ]
    },
    {
      "cell_type": "markdown",
      "metadata": {
        "id": "soeXJaORzqzH",
        "colab_type": "text"
      },
      "source": [
        "# Scoring Rubric\n",
        "![alt text](https://docs.google.com/uc?export=view&id=1ELG4QWnPjWgiUJI0eL6YiVbMWKlSVdcP)\n"
      ]
    }
  ]
}