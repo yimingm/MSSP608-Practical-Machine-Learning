{
  "nbformat": 4,
  "nbformat_minor": 0,
  "metadata": {
    "colab": {
      "name": "Yiming Ma_Final Project.ipynb",
      "provenance": [],
      "toc_visible": true,
      "authorship_tag": "ABX9TyMfFKlEvnVIWKydd65rq9pt",
      "include_colab_link": true
    },
    "kernelspec": {
      "name": "python3",
      "display_name": "Python 3"
    }
  },
  "cells": [
    {
      "cell_type": "markdown",
      "metadata": {
        "id": "view-in-github",
        "colab_type": "text"
      },
      "source": [
        "<a href=\"https://colab.research.google.com/github/yimingm/MSSP608-Practical-Machine-Learning/blob/master/Yiming_Ma_Final_Project.ipynb\" target=\"_parent\"><img src=\"https://colab.research.google.com/assets/colab-badge.svg\" alt=\"Open In Colab\"/></a>"
      ]
    },
    {
      "cell_type": "markdown",
      "metadata": {
        "id": "Fi5q6XfPES1E",
        "colab_type": "text"
      },
      "source": [
        "# Codebook Introduction\n",
        "\n",
        "- The first section of the codebook contains packages that were used in this project and the upload of the data. The raw dataset can be acquired from this link https://www.ndacan.acf.hhs.gov/datasets/dataset-details.cfm?ID=98\n",
        "\n",
        "  In this codebook, the data can be automatically imported and read by '!wget' for convenience. After importing the data, each columns were renamed to a more understandable format and are ready to use.\n",
        "\n",
        "- The primary task contains five sections: descriptive analysis, initial model training, optimization, summary of final model, and error analysis.\n",
        "\n",
        "- The extension task conduct a fairness audit. The fairness of the dataset was examined by three methods and showed by statistics and graphs."
      ]
    },
    {
      "cell_type": "code",
      "metadata": {
        "id": "rgPFviuLVdqv",
        "colab_type": "code",
        "colab": {
          "base_uri": "https://localhost:8080/",
          "height": 105
        },
        "outputId": "496eaa2c-dc50-49fe-e2ec-1411e1f1d69e"
      },
      "source": [
        "import pandas as pd\n",
        "import numpy as np\n",
        "import matplotlib.pyplot as plt\n",
        "import datetime\n",
        "import itertools\n",
        "import seaborn as sn\n",
        "\n",
        "import calendar\n",
        "import statsmodels.formula.api as smf\n",
        "from scipy import stats\n",
        "from matplotlib import dates\n",
        "\n",
        "from datetime import datetime\n",
        "from datetime import timedelta\n",
        "from matplotlib.dates import DateFormatter\n",
        "from sklearn.metrics import accuracy_score, precision_score, recall_score, f1_score, cohen_kappa_score, confusion_matrix, ConfusionMatrixDisplay\n",
        "from sklearn.tree import DecisionTreeClassifier\n",
        "from sklearn.linear_model import LogisticRegression\n",
        "from sklearn import tree\n",
        "from sklearn.model_selection import train_test_split, KFold, StratifiedKFold, GroupKFold, GridSearchCV\n",
        "from sklearn.utils.testing import ignore_warnings\n",
        "from sklearn.exceptions import ConvergenceWarning, UndefinedMetricWarning\n",
        "from sklearn.metrics import confusion_matrix, ConfusionMatrixDisplay"
      ],
      "execution_count": null,
      "outputs": [
        {
          "output_type": "stream",
          "text": [
            "/usr/local/lib/python3.6/dist-packages/statsmodels/tools/_testing.py:19: FutureWarning: pandas.util.testing is deprecated. Use the functions in the public API at pandas.testing instead.\n",
            "  import pandas.util.testing as tm\n",
            "/usr/local/lib/python3.6/dist-packages/sklearn/utils/deprecation.py:144: FutureWarning: The sklearn.utils.testing module is  deprecated in version 0.22 and will be removed in version 0.24. The corresponding classes / functions should instead be imported from sklearn.utils. Anything that cannot be imported from sklearn.utils is now part of the private API.\n",
            "  warnings.warn(message, FutureWarning)\n"
          ],
          "name": "stderr"
        }
      ]
    },
    {
      "cell_type": "markdown",
      "metadata": {
        "id": "AI55zEqEUZAl",
        "colab_type": "text"
      },
      "source": [
        "# Upload and read the data"
      ]
    },
    {
      "cell_type": "code",
      "metadata": {
        "id": "ipV8BTm_T8vs",
        "colab_type": "code",
        "colab": {
          "base_uri": "https://localhost:8080/",
          "height": 411
        },
        "outputId": "00ee1bfe-9143-417c-c694-8e886f7004fd"
      },
      "source": [
        "!wget --no-check-certificate 'https://doc.google.com/uc?export=download&id=1UFxsd5QR4Cbgxr1vk2enNf4d4QmQwJw4' -O abuse.csv"
      ],
      "execution_count": null,
      "outputs": [
        {
          "output_type": "stream",
          "text": [
            "--2020-05-09 02:53:30--  https://doc.google.com/uc?export=download&id=1UFxsd5QR4Cbgxr1vk2enNf4d4QmQwJw4\n",
            "Resolving doc.google.com (doc.google.com)... 108.177.12.101, 108.177.12.113, 108.177.12.139, ...\n",
            "Connecting to doc.google.com (doc.google.com)|108.177.12.101|:443... connected.\n",
            "HTTP request sent, awaiting response... 301 Moved Permanently\n",
            "Location: https://docs.google.com/uc?export=download&id=1UFxsd5QR4Cbgxr1vk2enNf4d4QmQwJw4 [following]\n",
            "--2020-05-09 02:53:30--  https://docs.google.com/uc?export=download&id=1UFxsd5QR4Cbgxr1vk2enNf4d4QmQwJw4\n",
            "Resolving docs.google.com (docs.google.com)... 173.194.216.102, 173.194.216.113, 173.194.216.101, ...\n",
            "Connecting to docs.google.com (docs.google.com)|173.194.216.102|:443... connected.\n",
            "HTTP request sent, awaiting response... 302 Moved Temporarily\n",
            "Location: https://doc-00-6k-docs.googleusercontent.com/docs/securesc/ha0ro937gcuc7l7deffksulhg5h7mbp1/8o37r0hvd8t5goc6f60nm1dkqncsoj92/1588992750000/04766574434707070898/*/1UFxsd5QR4Cbgxr1vk2enNf4d4QmQwJw4?e=download [following]\n",
            "Warning: wildcards not supported in HTTP.\n",
            "--2020-05-09 02:53:31--  https://doc-00-6k-docs.googleusercontent.com/docs/securesc/ha0ro937gcuc7l7deffksulhg5h7mbp1/8o37r0hvd8t5goc6f60nm1dkqncsoj92/1588992750000/04766574434707070898/*/1UFxsd5QR4Cbgxr1vk2enNf4d4QmQwJw4?e=download\n",
            "Resolving doc-00-6k-docs.googleusercontent.com (doc-00-6k-docs.googleusercontent.com)... 74.125.31.132, 2607:f8b0:400c:c02::84\n",
            "Connecting to doc-00-6k-docs.googleusercontent.com (doc-00-6k-docs.googleusercontent.com)|74.125.31.132|:443... connected.\n",
            "HTTP request sent, awaiting response... 200 OK\n",
            "Length: 1833236 (1.7M) [text/csv]\n",
            "Saving to: ‘abuse.csv’\n",
            "\n",
            "abuse.csv           100%[===================>]   1.75M  --.-KB/s    in 0.009s  \n",
            "\n",
            "2020-05-09 02:53:31 (191 MB/s) - ‘abuse.csv’ saved [1833236/1833236]\n",
            "\n"
          ],
          "name": "stdout"
        }
      ]
    },
    {
      "cell_type": "code",
      "metadata": {
        "id": "EWj4oRqJW1Fz",
        "colab_type": "code",
        "colab": {
          "base_uri": "https://localhost:8080/",
          "height": 102
        },
        "outputId": "d7f4e511-2c4c-43ae-9fe9-d6e1c26b5056"
      },
      "source": [
        "# Import dataset\n",
        "abuse = pd.read_csv(\"abuse.csv\")\n",
        "abuse.columns"
      ],
      "execution_count": null,
      "outputs": [
        {
          "output_type": "execute_result",
          "data": {
            "text/plain": [
              "Index(['staterr', 'rptdt', 'rpdispdt', 'rptsrc', 'chage', 'chsex', 'chrace',\n",
              "       'chprior', 'famsup', 'fostercr', 'fl_cvphy', 'fl_cvneg', 'fl_cvsex',\n",
              "       'fl_cvpsy', 'cdalcdru', 'cdphysme', 'fcalcdru', 'fcphysme', 'fchouse',\n",
              "       'fcmoney', 'fcpublic'],\n",
              "      dtype='object')"
            ]
          },
          "metadata": {
            "tags": []
          },
          "execution_count": 3
        }
      ]
    },
    {
      "cell_type": "code",
      "metadata": {
        "id": "Ypn2S3k_XBRj",
        "colab_type": "code",
        "colab": {
          "base_uri": "https://localhost:8080/",
          "height": 136
        },
        "outputId": "0ce30223-c1c9-48d8-d174-b584d95d11af"
      },
      "source": [
        "# Rename columns\n",
        "abuse.rename(\n",
        "    columns={\n",
        "        \"staterr\": \"state\",\n",
        "        \"rptdt\": \"report_date\",\n",
        "        \"rpdispdt\": \"disposition_date\",\n",
        "        \"rptsrc\": \"report_source\",\n",
        "        \"chage\": \"age\",\n",
        "        \"chsex\": \"sex\",\n",
        "        \"chrace\": \"race\",\n",
        "        \"chprior\": \"prior_vic\",\n",
        "        \"famsup\": \"fam_support\",\n",
        "        \"fostercr\": \"foster_service\",\n",
        "        \"fl_cvphy\": \"physical_abuse\",\n",
        "        \"fl_cvneg\": \"neglect\",\n",
        "        \"fl_cvsex\": \"sexual_abuse\",\n",
        "        \"fl_cvpsy\": \"phycological_abuse\",\n",
        "        \"cdalcdru\": \"child_drug_alcohol\",\n",
        "        \"cdphysme\": \"child_mental_physical\",\n",
        "        \"fcalcdru\": \"care_drug_alcohol\",\n",
        "        \"fcphysme\": \"care_mental_physical\",\n",
        "        \"fchouse\": \"house_problem\",\n",
        "        \"fcmoney\": \"financial_problem\",\n",
        "        \"fcpublic\": \"pub_assistance\"\n",
        "    },\n",
        "    inplace=True\n",
        ")\n",
        "abuse.columns"
      ],
      "execution_count": null,
      "outputs": [
        {
          "output_type": "execute_result",
          "data": {
            "text/plain": [
              "Index(['state', 'report_date', 'disposition_date', 'report_source', 'age',\n",
              "       'sex', 'race', 'prior_vic', 'fam_support', 'foster_service',\n",
              "       'physical_abuse', 'neglect', 'sexual_abuse', 'phycological_abuse',\n",
              "       'child_drug_alcohol', 'child_mental_physical', 'care_drug_alcohol',\n",
              "       'care_mental_physical', 'house_problem', 'financial_problem',\n",
              "       'pub_assistance'],\n",
              "      dtype='object')"
            ]
          },
          "metadata": {
            "tags": []
          },
          "execution_count": 4
        }
      ]
    },
    {
      "cell_type": "markdown",
      "metadata": {
        "id": "CTNG1GLCUhEF",
        "colab_type": "text"
      },
      "source": [
        "# Primary task - Exploratory Data Analysis\n",
        "This part contains descriptive analysis of the following features:\n",
        "- Risk Level (outcome variable)\n",
        "- report/disposition date\n",
        "- report source\n",
        "- age\n",
        "- race\n",
        "- prior maltreatment\n",
        "- type of maltreatment\n",
        "- child's issue/family issue"
      ]
    },
    {
      "cell_type": "code",
      "metadata": {
        "id": "DacQ11VVU19o",
        "colab_type": "code",
        "colab": {
          "base_uri": "https://localhost:8080/",
          "height": 68
        },
        "outputId": "99dae093-1d31-49ed-85b7-e31e809b9c5a"
      },
      "source": [
        "# Generate outcome variable \"risk_level\"\n",
        "def risk_level(x, y):\n",
        "    if x == 1 :\n",
        "        return \"high\"\n",
        "    if x == 2 and y == 2:\n",
        "        return \"low\"\n",
        "    if x == 2 and y == 1:\n",
        "        return \"high\"\n",
        "    \n",
        "abuse[\"risk_level\"] = abuse.apply(lambda row: risk_level(row[\"foster_service\"], row[\"fam_support\"]), axis=1)\n",
        "print(abuse[\"risk_level\"].value_counts())\n",
        "# abuse.head()"
      ],
      "execution_count": null,
      "outputs": [
        {
          "output_type": "stream",
          "text": [
            "low     23274\n",
            "high     7141\n",
            "Name: risk_level, dtype: int64\n"
          ],
          "name": "stdout"
        }
      ]
    },
    {
      "cell_type": "code",
      "metadata": {
        "id": "77U53VjR9cc1",
        "colab_type": "code",
        "colab": {
          "base_uri": "https://localhost:8080/",
          "height": 264
        },
        "outputId": "cd21cfa4-6824-459c-a8ca-3cc6fb526772"
      },
      "source": [
        "# Use pie chart to present distribution of risk level\n",
        "\n",
        "labels = 'Low Risk', 'High Risk'\n",
        "sizes = [23274, 7141]\n",
        "\n",
        "fig1, ax1 = plt.subplots()\n",
        "ax1.pie(sizes, labels=labels, autopct='%1.1f%%',\n",
        "        shadow=True, startangle=90)\n",
        "ax1.axis('equal') \n",
        "plt.title('Chart 1. Risk Level Distribution') \n",
        "plt.show()"
      ],
      "execution_count": null,
      "outputs": [
        {
          "output_type": "display_data",
          "data": {
            "image/png": "[encoded data removed]",
            "text/plain": [
              "<Figure size 432x288 with 1 Axes>"
            ]
          },
          "metadata": {
            "tags": []
          }
        }
      ]
    },
    {
      "cell_type": "code",
      "metadata": {
        "id": "8tQqJHXC4Vv0",
        "colab_type": "code",
        "colab": {
          "base_uri": "https://localhost:8080/",
          "height": 408
        },
        "outputId": "dea70e89-f9fb-4708-c6db-8e42276d10ef"
      },
      "source": [
        "# Distribution of age\n",
        "print(abuse[\"age\"].value_counts())"
      ],
      "execution_count": null,
      "outputs": [
        {
          "output_type": "stream",
          "text": [
            "0     3056\n",
            "5     2127\n",
            "7     2101\n",
            "6     2079\n",
            "2     2019\n",
            "3     1968\n",
            "4     1952\n",
            "8     1949\n",
            "1     1827\n",
            "9     1757\n",
            "10    1643\n",
            "11    1463\n",
            "12    1391\n",
            "13    1350\n",
            "14    1315\n",
            "15    1117\n",
            "16     870\n",
            "17     408\n",
            "18      19\n",
            "19       2\n",
            "21       1\n",
            "20       1\n",
            "Name: age, dtype: int64\n"
          ],
          "name": "stdout"
        }
      ]
    },
    {
      "cell_type": "code",
      "metadata": {
        "id": "JN8QKyq742kA",
        "colab_type": "code",
        "colab": {
          "base_uri": "https://localhost:8080/",
          "height": 295
        },
        "outputId": "72fd9008-f115-469d-fea4-65d422ddda0d"
      },
      "source": [
        "# Use bar chart to present distribution of age\n",
        "\n",
        "left = [1, 2, 3,4,5,6,7,8,9,10,11,12,13,14,15,16,17,18,19,20,21,22] \n",
        "# heights of bars \n",
        "height = [3056, 1827, 2019, 1968, 1952, 2127, 2079, 2101, 1949, 1757, 1643, 1463, 1391, 1350, 1315, 1117, 870, 408, 19, 2, 1,1]\n",
        "# labels for bars \n",
        "tick_label = [0,1, 2, 3,4,5,6,7,8,9,10,11,12,13,14,15,16,17,18,19,20,21]\n",
        "# plotting a bar chart \n",
        "plt.bar(left, height, tick_label = tick_label, \n",
        "        width = 0.4) \n",
        " \n",
        "plt.xlabel(\"Child's Age\") \n",
        "plt.ylabel('Count') \n",
        "plt.title(\"Chart 2. Distribution of Abused Child's Age\") \n",
        "plt.show() "
      ],
      "execution_count": null,
      "outputs": [
        {
          "output_type": "display_data",
          "data": {
            "image/png": "[encoded data removed]",
            "text/plain": [
              "<Figure size 432x288 with 1 Axes>"
            ]
          },
          "metadata": {
            "tags": [],
            "needs_background": "light"
          }
        }
      ]
    },
    {
      "cell_type": "code",
      "metadata": {
        "id": "PcVOYhv146eP",
        "colab_type": "code",
        "colab": {
          "base_uri": "https://localhost:8080/",
          "height": 102
        },
        "outputId": "aaa83cc0-cfad-4794-99e8-4a87125ec042"
      },
      "source": [
        "# Distribution of race\n",
        "# 1 - White\n",
        "# 2 - Black\n",
        "# 3 - Native\n",
        "# 4 - Asian\n",
        "print(abuse[\"race\"].value_counts())"
      ],
      "execution_count": null,
      "outputs": [
        {
          "output_type": "stream",
          "text": [
            "1    20701\n",
            "2     9363\n",
            "4      203\n",
            "3      148\n",
            "Name: race, dtype: int64\n"
          ],
          "name": "stdout"
        }
      ]
    },
    {
      "cell_type": "code",
      "metadata": {
        "id": "RsxfLodH8wtH",
        "colab_type": "code",
        "colab": {
          "base_uri": "https://localhost:8080/",
          "height": 264
        },
        "outputId": "6673d2b0-28fc-471b-e128-30b5687a9d9a"
      },
      "source": [
        "# Distribution of Race ('Other' represents 'native' and 'asian')\n",
        "labels = 'White', 'Black', 'Other'\n",
        "sizes = [20701, 9363, 351]\n",
        "\n",
        "fig1, ax1 = plt.subplots()\n",
        "ax1.pie(sizes, labels=labels, autopct='%1.1f%%',\n",
        "        shadow=True, startangle=90)\n",
        "ax1.axis('equal') \n",
        "plt.title(\"Chart 3. Distribution of Abused Child's Race\") \n",
        "plt.show()"
      ],
      "execution_count": null,
      "outputs": [
        {
          "output_type": "display_data",
          "data": {
            "image/png": "[encoded data removed]",
            "text/plain": [
              "<Figure size 432x288 with 1 Axes>"
            ]
          },
          "metadata": {
            "tags": []
          }
        }
      ]
    },
    {
      "cell_type": "code",
      "metadata": {
        "id": "7y7craEE61um",
        "colab_type": "code",
        "colab": {
          "base_uri": "https://localhost:8080/",
          "height": 221
        },
        "outputId": "6423d901-ffe1-41f3-b22e-aa67cc482dbc"
      },
      "source": [
        "# Distribution of maltreatment\n",
        "# 0 - no maltreatment\n",
        "# 1 - this maltreatment happened\n",
        "print(abuse[\"physical_abuse\"].value_counts())\n",
        "print(abuse[\"neglect\"].value_counts())\n",
        "print(abuse[\"sexual_abuse\"].value_counts())\n",
        "print(abuse[\"phycological_abuse\"].value_counts())"
      ],
      "execution_count": null,
      "outputs": [
        {
          "output_type": "stream",
          "text": [
            "0    21324\n",
            "1     9091\n",
            "Name: physical_abuse, dtype: int64\n",
            "1    18185\n",
            "0    12230\n",
            "Name: neglect, dtype: int64\n",
            "0    26708\n",
            "1     3707\n",
            "Name: sexual_abuse, dtype: int64\n",
            "0    29267\n",
            "1     1148\n",
            "Name: phycological_abuse, dtype: int64\n"
          ],
          "name": "stdout"
        }
      ]
    },
    {
      "cell_type": "code",
      "metadata": {
        "id": "eNHzLxq47K0k",
        "colab_type": "code",
        "colab": {
          "base_uri": "https://localhost:8080/",
          "height": 281
        },
        "outputId": "c36d5d34-6c43-4820-9fb1-8215ff05a043"
      },
      "source": [
        "# Use bar chart to present the distribution of maltreatment\n",
        "\n",
        "left = [1, 2, 3, 4] \n",
        "# heights of bars \n",
        "height = [9091, 18185, 3707, 1148]  \n",
        "# labels for bars \n",
        "tick_label = ['Physical Abuse', 'Neglect', 'Sexual Abuse', 'Phycological Abuse'] \n",
        "# plotting a bar chart \n",
        "plt.bar(left, height, tick_label = tick_label, \n",
        "        width = 0.4) \n",
        "\n",
        "# naming the graph \n",
        "plt.ylabel('Count') \n",
        "plt.title('Chart 4-1. Distribution of Maltreatments') \n",
        "plt.show() "
      ],
      "execution_count": null,
      "outputs": [
        {
          "output_type": "display_data",
          "data": {
            "image/png": "[encoded data removed]",
            "text/plain": [
              "<Figure size 432x288 with 1 Axes>"
            ]
          },
          "metadata": {
            "tags": [],
            "needs_background": "light"
          }
        }
      ]
    },
    {
      "cell_type": "code",
      "metadata": {
        "id": "EKmu-fbcLvPH",
        "colab_type": "code",
        "colab": {
          "base_uri": "https://localhost:8080/",
          "height": 221
        },
        "outputId": "91ff50c2-ae2a-4c41-91de-018b6c816a85"
      },
      "source": [
        "# Distribution of report source\n",
        "# 1 Social Services/Mental Health \n",
        "# 2 Medical Personnel \n",
        "# 3 Legal Personnel \n",
        "# 4 Educational Personnel \n",
        "# 5 Care Provider/Foster Parent \n",
        "# 6 Alleged Victim\n",
        "# 7 Parent \n",
        "# 8 Other Relative \n",
        "# 9 Friends Neighbor \n",
        "# 10 Alleged Perpetrator \n",
        "# 11 Anonymous Reporter \n",
        "print(abuse[\"report_source\"].value_counts())"
      ],
      "execution_count": null,
      "outputs": [
        {
          "output_type": "stream",
          "text": [
            "3     6242\n",
            "4     4411\n",
            "9     4248\n",
            "8     3677\n",
            "2     3455\n",
            "7     3007\n",
            "1     2337\n",
            "11    2190\n",
            "6      420\n",
            "5      346\n",
            "10      82\n",
            "Name: report_source, dtype: int64\n"
          ],
          "name": "stdout"
        }
      ]
    },
    {
      "cell_type": "code",
      "metadata": {
        "id": "kywpHPWzJVbp",
        "colab_type": "code",
        "colab": {
          "base_uri": "https://localhost:8080/",
          "height": 540
        },
        "outputId": "cef37cac-b40a-4ca9-bd08-84e63c0eb6ce"
      },
      "source": [
        "# Use pie chart to present the distribution of report source\n",
        "\n",
        "fig, ax = plt.subplots(figsize=(10, 9), subplot_kw=dict(aspect=\"equal\"))\n",
        "\n",
        "# Assign labels and size of each slices\n",
        "labels = 'Social Services', 'Medical Personnel', 'Legal Personnel', 'Educational Personnel', 'Parent', 'Other Relative', 'Friends Neighbor', 'Anonymous Reporter','Other'\n",
        "sizes = [2337, 3455, 6242, 4411, 3007, 3677, 4248, 2190, 848]\n",
        "\n",
        "def func(pct, allvals):\n",
        "    absolute = int(pct/100.*np.sum(allvals))\n",
        "    return \"{:.1f}%\\n({:d})\".format(pct, absolute)\n",
        "\n",
        "wedges, texts, autotexts = ax.pie(sizes, autopct=lambda pct: func(pct, sizes),\n",
        "                                  textprops=dict(color=\"w\"))\n",
        "# Add legend to the side\n",
        "ax.legend(wedges, labels,\n",
        "          title=\"Report Source\",\n",
        "          loc=\"center left\",\n",
        "          bbox_to_anchor=(0.9, 0.05, 0.5, 0.5))\n",
        "\n",
        "plt.setp(autotexts, size=13, weight=\"bold\")\n",
        "\n",
        "ax.set_title(\"Chart 5. Distribution of Report Source\",size = 17)\n",
        "\n",
        "plt.show()"
      ],
      "execution_count": null,
      "outputs": [
        {
          "output_type": "display_data",
          "data": {
            "image/png": "[encoded data removed]",
            "text/plain": [
              "<Figure size 720x648 with 1 Axes>"
            ]
          },
          "metadata": {
            "tags": []
          }
        }
      ]
    },
    {
      "cell_type": "code",
      "metadata": {
        "id": "lgN54WEKcJyi",
        "colab_type": "code",
        "colab": {}
      },
      "source": [
        "# Distribution of report date/disposition date\n",
        "# Generate report month/disposition month\n",
        "# Use month to represent date for convenience\n",
        "abuse['report_date'] = pd.to_datetime(abuse['report_date'])\n",
        "abuse['report_month'] = abuse['report_date'].dt.month\n",
        "abuse['report_month_str'] = abuse['report_date'].dt.strftime('%b')"
      ],
      "execution_count": null,
      "outputs": []
    },
    {
      "cell_type": "code",
      "metadata": {
        "id": "qhSUPUu4gqyM",
        "colab_type": "code",
        "colab": {
          "base_uri": "https://localhost:8080/",
          "height": 255
        },
        "outputId": "56101ad2-f12f-445e-fc80-adea6061b881"
      },
      "source": [
        "print(abuse[\"report_month_str\"].value_counts())\n",
        "print(abuse[\"report_month_str\"].unique())"
      ],
      "execution_count": null,
      "outputs": [
        {
          "output_type": "stream",
          "text": [
            "Aug    2871\n",
            "Oct    2645\n",
            "Sep    2639\n",
            "Mar    2630\n",
            "Apr    2626\n",
            "May    2618\n",
            "Jan    2594\n",
            "Jul    2550\n",
            "Feb    2486\n",
            "Jun    2400\n",
            "Nov    2230\n",
            "Dec    2126\n",
            "Name: report_month_str, dtype: int64\n",
            "['Mar' 'Sep' 'May' 'Jan' 'Aug' 'Apr' 'Jun' 'Jul' 'Dec' 'Feb' 'Oct' 'Nov']\n"
          ],
          "name": "stdout"
        }
      ]
    },
    {
      "cell_type": "code",
      "metadata": {
        "id": "QANOSgQIhPiU",
        "colab_type": "code",
        "colab": {
          "base_uri": "https://localhost:8080/",
          "height": 281
        },
        "outputId": "e371aa27-b7b9-4f4d-814b-6d8927bae8d7"
      },
      "source": [
        "# The distribution of report month\n",
        "\n",
        "left = [1, 2, 3, 4,5,6,7,8,9,10,11,12] \n",
        "# heights of bars \n",
        "height = [2594, 2486, 2630, 2626, 2618, 2400, 2550, 2871, 2639, 2645, 2230, 2126]  \n",
        "# labels for bars \n",
        "tick_label = ['Jan', 'Feb', 'Mar', 'Apr', 'May', 'Jun', 'Jul', 'Aug', 'Sep', 'Oct', 'Nov', 'Dec'] \n",
        "# plotting a bar chart \n",
        "plt.bar(left, height, tick_label = tick_label, \n",
        "        width = 0.4) \n",
        "\n",
        "plt.ylabel('Count') \n",
        "plt.title('Chart 6-1. Distribution of Report Month') \n",
        "plt.show() "
      ],
      "execution_count": null,
      "outputs": [
        {
          "output_type": "display_data",
          "data": {
            "image/png": "[encoded data removed]",
            "text/plain": [
              "<Figure size 432x288 with 1 Axes>"
            ]
          },
          "metadata": {
            "tags": [],
            "needs_background": "light"
          }
        }
      ]
    },
    {
      "cell_type": "markdown",
      "metadata": {
        "id": "RsdMCMTqU3G9",
        "colab_type": "text"
      },
      "source": [
        "# Primary task - Model Training\n",
        "**Dataset set up**\n",
        "\n",
        "Before training any model, the dataset was divided into three subsets:\n",
        "\n",
        "Training 80%/ Development 10%/ Test Sets 10%\n",
        "\n",
        "The 10% test set was not used until the final model.\n",
        "\n",
        "**Build Decision Tree**\n",
        "\n",
        "The initial model adopt decision tree to be the classifier. The following codes trained the decision tree and provided the performance (accuracy, kappa, precision, and recall) of the trained classifier using scikit-learn. "
      ]
    },
    {
      "cell_type": "code",
      "metadata": {
        "id": "H_7d8g1encWL",
        "colab_type": "code",
        "colab": {}
      },
      "source": [
        "# The initial model includes all selected features\n",
        "# Build up feature set\n",
        "state = [\"state\"]\n",
        "report_month = [\"report_month\"]\n",
        "report_source = ['report_source']\n",
        "age = ['age']\n",
        "sex = ['sex']\n",
        "race = ['race']\n",
        "prior = ['prior_vic']\n",
        "physical_abuse = ['physical_abuse']\n",
        "neglect = ['neglect']\n",
        "sexual_abuse = ['sexual_abuse']\n",
        "phycological_abuse = ['phycological_abuse']\n",
        "child_drug_alcohol = ['child_drug_alcohol']\n",
        "child_mental_physical = ['child_mental_physical'] \n",
        "care_drug_alcohol = ['care_drug_alcohol']\n",
        "care_mental_physical = ['care_mental_physical']\n",
        "house_problem = ['house_problem']\n",
        "financial_problem = ['financial_problem']\n",
        "pub_assistance = ['pub_assistance']\n",
        "\n",
        "all_feature = state + report_month + report_source + age + sex + race + prior + physical_abuse + neglect + sexual_abuse + phycological_abuse + child_drug_alcohol + child_mental_physical + care_drug_alcohol + care_mental_physical + house_problem + financial_problem + pub_assistance\n"
      ],
      "execution_count": null,
      "outputs": []
    },
    {
      "cell_type": "code",
      "metadata": {
        "id": "oHFTgt3-ZLL4",
        "colab_type": "code",
        "colab": {}
      },
      "source": [
        "# Use train_test_split twice to split the dataset into three sets\n",
        "# 80% train/10% dev/10% test\n",
        "X = abuse.loc[:, all_feature]\n",
        "X = pd.get_dummies(X)\n",
        "y = abuse[\"risk_level\"]\n",
        "\n",
        "# Separate 10% test set\n",
        "X_train_dev, X_test, y_train_dev, y_test = train_test_split(X, y, test_size=0.1, random_state=123)\n",
        "\n",
        "# From the rest 90% train+dev set, separate 1/9 dev set\n",
        "X_train, X_dev, y_train, y_dev = train_test_split(X_train_dev, y_train_dev, test_size=1/9, random_state=123) "
      ],
      "execution_count": null,
      "outputs": []
    },
    {
      "cell_type": "code",
      "metadata": {
        "colab_type": "code",
        "id": "k8VeaXhNiaNF",
        "colab": {
          "base_uri": "https://localhost:8080/",
          "height": 204
        },
        "outputId": "5314cccd-6cef-4cb5-aeba-0cb5339fa8e0"
      },
      "source": [
        "# The first model train on train_set and test on dev_set\n",
        "model = DecisionTreeClassifier(criterion=\"entropy\", random_state=123).fit(X_train, y_train)\n",
        "    \n",
        "# List of initial hyperparameter settings\n",
        "print(model)\n",
        "    \n",
        "# Calculate our accuracy, kappa and precision on the train and dev sets\n",
        "y_pred = model.predict(X_dev)\n",
        "\n",
        "accuracy = 100*accuracy_score(y_dev, y_pred)\n",
        "kappa = cohen_kappa_score(y_dev, y_pred)\n",
        "precision = precision_score(y_dev, y_pred, pos_label= \"high\")\n",
        "recall = recall_score(y_dev, y_pred, pos_label= \"high\")\n",
        "\n",
        "# The printed result includes performance of the feature set and the confusion matrix\n",
        "print(f\"Results for the first model:\")\n",
        "print(confusion_matrix(y_dev, y_pred))\n",
        "print(f\"Accuracy: {accuracy:.1f} Kappa: {kappa:.3f} Precision: {precision:.3f} Recall: {recall:.3f}\")\n",
        "print(\"------------------------\")\n"
      ],
      "execution_count": null,
      "outputs": [
        {
          "output_type": "stream",
          "text": [
            "DecisionTreeClassifier(ccp_alpha=0.0, class_weight=None, criterion='entropy',\n",
            "                       max_depth=None, max_features=None, max_leaf_nodes=None,\n",
            "                       min_impurity_decrease=0.0, min_impurity_split=None,\n",
            "                       min_samples_leaf=1, min_samples_split=2,\n",
            "                       min_weight_fraction_leaf=0.0, presort='deprecated',\n",
            "                       random_state=123, splitter='best')\n",
            "Results for the first model:\n",
            "[[ 320  415]\n",
            " [ 442 1865]]\n",
            "Accuracy: 71.8 Kappa: 0.241 Precision: 0.420 Recall: 0.435\n",
            "------------------------\n"
          ],
          "name": "stdout"
        }
      ]
    },
    {
      "cell_type": "markdown",
      "metadata": {
        "id": "O4HehRO_U7-O",
        "colab_type": "text"
      },
      "source": [
        "# Primary task - Optimization"
      ]
    },
    {
      "cell_type": "markdown",
      "metadata": {
        "id": "tAX7Y8L4qx1K",
        "colab_type": "text"
      },
      "source": [
        "## **Optimization 1: Adjust features in the model**\n",
        "\n",
        "**Step 1**: Use report_date and disposition_date to generate a new variable: **process_time**, it represents how many days did it take to process a case.\n",
        "\n",
        "**Step 2**: Combine 4 binary features from case result (physical abuse, neglect, sexual abuse, phycological abuse) into one. The new case result feature has four labels: singel abuse, double abuse, triple abuse, quad abuse.\n",
        "\n",
        "**Step 3**: Transform age (0-21) to age group (infant, 1-7, 8-16, 16-21).\n",
        "\n",
        "**Step 4**: Remove some features too see if the performance get better. By removing **sex** , **age** and **prior**, the model get higher performance.\n",
        "\n",
        "\n",
        "To conlcude, the following changes improved the performance:\n",
        " - adding **process_time**\n",
        " - delete **sex** , **age** and **prior**\n",
        " - adopt **case_result** instead of four seperate binary features (physical_abuse, neglect, sexual abuse, phycological abuse)\n",
        "\n",
        "The performance of the model was improved in opt1:\n",
        " - accuracy: 73.3 to 82.9\n",
        " - Kappa: 0.268 to 0.533\n",
        " - precision: 0.435 to 0.628\n",
        " - recall: 0.452 to 0.666"
      ]
    },
    {
      "cell_type": "markdown",
      "metadata": {
        "id": "AtRmedthVpdw",
        "colab_type": "text"
      },
      "source": [
        "### Step 1: process time"
      ]
    },
    {
      "cell_type": "code",
      "metadata": {
        "id": "7bC0PCUQKlxa",
        "colab_type": "code",
        "colab": {}
      },
      "source": [
        "# Step 1\n",
        "# Generate processing time (from report date to disposition date)\n",
        "date = pd.DataFrame(columns=[\"report_date\", \"disposition_date\"])\n",
        "\n",
        "date.report_date = abuse['report_date']\n",
        "date.report_date = pd.to_datetime(date.report_date)\n",
        "\n",
        "date.disposition_date = abuse['disposition_date']\n",
        "date.disposition_date = pd.to_datetime(date.disposition_date)\n",
        "\n",
        "difference = (date.disposition_date - date.report_date)\n",
        "\n",
        "abuse['process_time'] = difference / timedelta (days=1)\n",
        "# print(abuse)"
      ],
      "execution_count": null,
      "outputs": []
    },
    {
      "cell_type": "code",
      "metadata": {
        "id": "_lx1GStxeQnW",
        "colab_type": "code",
        "colab": {
          "base_uri": "https://localhost:8080/",
          "height": 119
        },
        "outputId": "e2c32176-d2ad-485e-b6f3-986c1ec92147"
      },
      "source": [
        "# transform process time to group\n",
        "def process_time_group(x):\n",
        "    if x <= 30:\n",
        "        return \"<1 month\"\n",
        "    if x > 30 and x <= 90:\n",
        "        return \"1-3 month\"\n",
        "    if x > 90 and x <= 180:\n",
        "        return \"3-6 month\"\n",
        "    if x > 180 and x <= 365:\n",
        "        return \"6-12 month\"\n",
        "    if x > 365:\n",
        "        return \">1 year\"\n",
        "    \n",
        "abuse[\"process_time_group\"] = abuse[\"process_time\"].apply(process_time_group)\n",
        "abuse[\"process_time_group\"].value_counts()"
      ],
      "execution_count": null,
      "outputs": [
        {
          "output_type": "execute_result",
          "data": {
            "text/plain": [
              "<1 month      14223\n",
              "1-3 month     11628\n",
              "3-6 month      3258\n",
              "6-12 month     1026\n",
              ">1 year         280\n",
              "Name: process_time_group, dtype: int64"
            ]
          },
          "metadata": {
            "tags": []
          },
          "execution_count": 22
        }
      ]
    },
    {
      "cell_type": "code",
      "metadata": {
        "id": "q_rTd1CcfeGK",
        "colab_type": "code",
        "colab": {
          "base_uri": "https://localhost:8080/",
          "height": 281
        },
        "outputId": "70cf1527-5aff-4039-805c-d6cbeca80320"
      },
      "source": [
        "# Distribution of Risk Level\n",
        "left = [1, 2, 3, 4, 5] \n",
        "# heights of bars \n",
        "height = [14223, 11628, 3258, 1026, 280]  \n",
        "# labels for bars \n",
        "tick_label = ['<1 month', '1-3 month', '3-6 month', '6-12 month', '>1 year'] \n",
        "# plotting a bar chart \n",
        "plt.bar(left, height, tick_label = tick_label, \n",
        "        width = 0.2) \n",
        "\n",
        "plt.ylabel('Count') \n",
        "plt.title(\"Chart 6-2. Distribution of Process Time\") \n",
        "plt.show() "
      ],
      "execution_count": null,
      "outputs": [
        {
          "output_type": "display_data",
          "data": {
            "image/png": "[encoded data removed]",
            "text/plain": [
              "<Figure size 432x288 with 1 Axes>"
            ]
          },
          "metadata": {
            "tags": [],
            "needs_background": "light"
          }
        }
      ]
    },
    {
      "cell_type": "code",
      "metadata": {
        "id": "O-xTVHp47Gu4",
        "colab_type": "code",
        "colab": {}
      },
      "source": [
        "# Add process_time to the feature set\n",
        "process_time = ['process_time']\n",
        "all_feature_with_process_time = state + report_month + process_time + report_source + age + sex + race + prior + physical_abuse + neglect + sexual_abuse + phycological_abuse + child_drug_alcohol + child_mental_physical + care_drug_alcohol + care_mental_physical + house_problem + financial_problem + pub_assistance"
      ],
      "execution_count": null,
      "outputs": []
    },
    {
      "cell_type": "code",
      "metadata": {
        "colab_type": "code",
        "id": "YCloMe5Z-S06",
        "colab": {
          "base_uri": "https://localhost:8080/",
          "height": 187
        },
        "outputId": "24b85270-2cce-4b26-c890-38b0177e548f"
      },
      "source": [
        "# With the new feature, train the model again to see how performace change\n",
        "\n",
        "# Create a dummyset with only the features in our feature set\n",
        "X = abuse.loc[:, all_feature_with_process_time]\n",
        "X = pd.get_dummies(X)\n",
        "\n",
        "y = abuse[\"risk_level\"]\n",
        "\n",
        "# This model still train on train_set and test on dev_set\n",
        "# Separate 10% test set\n",
        "X_train_dev, X_test, y_train_dev, y_test = train_test_split(X, y, test_size=0.1, random_state=123)\n",
        "\n",
        "# From the rest 90% train+dev set, separate 1/9 dev set\n",
        "X_train, X_dev, y_train, y_dev = train_test_split(X_train_dev, y_train_dev, test_size=1/9, random_state=123) \n",
        "model = DecisionTreeClassifier(criterion=\"entropy\", random_state=123).fit(X_train, y_train)\n",
        "    \n",
        "# List of hyperparameter settings\n",
        "print(model)\n",
        "    \n",
        "# Calculate our accuracy, kappa and precision on the train and dev sets\n",
        "y_pred = model.predict(X_dev)\n",
        "\n",
        "accuracy = 100*accuracy_score(y_dev, y_pred)\n",
        "kappa = cohen_kappa_score(y_dev, y_pred)\n",
        "precision = precision_score(y_dev, y_pred, pos_label= \"high\")\n",
        "recall = recall_score(y_dev, y_pred, pos_label= \"high\")\n",
        "    \n",
        "# The printed result includes performance of the feature set and the confusion matrix\n",
        "print(f\"Results for model with process_time:\")\n",
        "print(confusion_matrix(y_dev, y_pred))\n",
        "print(f\"Accuracy: {accuracy:.1f} Kappa: {kappa:.3f} Precision: {precision:.3f} Recall: {recall:.3f}\")"
      ],
      "execution_count": null,
      "outputs": [
        {
          "output_type": "stream",
          "text": [
            "DecisionTreeClassifier(ccp_alpha=0.0, class_weight=None, criterion='entropy',\n",
            "                       max_depth=None, max_features=None, max_leaf_nodes=None,\n",
            "                       min_impurity_decrease=0.0, min_impurity_split=None,\n",
            "                       min_samples_leaf=1, min_samples_split=2,\n",
            "                       min_weight_fraction_leaf=0.0, presort='deprecated',\n",
            "                       random_state=123, splitter='best')\n",
            "Results for model with process_time:\n",
            "[[ 396  339]\n",
            " [ 354 1953]]\n",
            "Accuracy: 77.2 Kappa: 0.383 Precision: 0.528 Recall: 0.539\n"
          ],
          "name": "stdout"
        }
      ]
    },
    {
      "cell_type": "markdown",
      "metadata": {
        "id": "_mJB7x2WVxoh",
        "colab_type": "text"
      },
      "source": [
        "### Step 2: case result"
      ]
    },
    {
      "cell_type": "code",
      "metadata": {
        "colab_type": "code",
        "id": "pVCwGNlB0_MV",
        "colab": {
          "base_uri": "https://localhost:8080/",
          "height": 102
        },
        "outputId": "74323ea6-cbe5-4bb0-b36b-1aac484914ed"
      },
      "source": [
        "# Step 2\n",
        "# Transform case result features\n",
        "# Generate \"case_result\" and present the distribution\n",
        "def case_result(a, b, c, d):\n",
        "    if a == 1 and b == 0 and c == 0 and d == 0:\n",
        "        return \"single_abuse\"\n",
        "    if a == 0 and b == 1 and c == 0 and d == 0:\n",
        "        return \"single_abuse\"\n",
        "    if a == 0 and b == 0 and c == 1 and d == 0:\n",
        "        return \"single_abuse\"\n",
        "    if a == 0 and b == 0 and c == 0 and d == 1:\n",
        "        return \"single_abuse\"\n",
        "    if a == 1 and b == 1 and c == 1 and d == 1:\n",
        "        return \"quad_abuse\"\n",
        "    if a == 0 and b == 1 and c == 1 and d == 1:\n",
        "        return \"triple_abuse\"\n",
        "    if a == 1 and b == 0 and c == 1 and d == 1:\n",
        "        return \"triple_abuse\"\n",
        "    if a == 1 and b == 1 and c == 0 and d == 1:\n",
        "        return \"triple_abuse\"\n",
        "    if a == 1 and b == 1 and c == 1 and d == 0:\n",
        "        return \"triple_abuse\"\n",
        "    else:\n",
        "        return \"double_abuse\"\n",
        "    \n",
        "abuse[\"case_result\"] = abuse.apply(lambda row: case_result(row[\"physical_abuse\"], row[\"sexual_abuse\"], row[\"phycological_abuse\"], row[\"neglect\"]), axis=1)\n",
        "print(abuse[\"case_result\"].value_counts())"
      ],
      "execution_count": null,
      "outputs": [
        {
          "output_type": "stream",
          "text": [
            "single_abuse    27403\n",
            "double_abuse     2868\n",
            "triple_abuse      140\n",
            "quad_abuse          4\n",
            "Name: case_result, dtype: int64\n"
          ],
          "name": "stdout"
        }
      ]
    },
    {
      "cell_type": "code",
      "metadata": {
        "id": "9tS5bHvrtaH5",
        "colab_type": "code",
        "colab": {
          "base_uri": "https://localhost:8080/",
          "height": 281
        },
        "outputId": "46cfc91d-60c7-462b-b8ee-73946a150402"
      },
      "source": [
        "# Use bar chart to present the distribution of case_result\n",
        "left = [1, 2, 3, 4] \n",
        "height = [27403, 2868, 140, 4]  \n",
        "# labels for bars \n",
        "tick_label = ['singe abuse', 'double abuse', 'triple abuse', 'quadruple abuse'] \n",
        "# plotting a bar chart \n",
        "plt.bar(left, height, tick_label = tick_label, \n",
        "        width = 0.2) \n",
        "\n",
        "plt.ylabel('Count') \n",
        "plt.title(\"Chart 4-2. Distribution of Maltreatment Number\") \n",
        "plt.show() "
      ],
      "execution_count": null,
      "outputs": [
        {
          "output_type": "display_data",
          "data": {
            "image/png": "[encoded data removed]",
            "text/plain": [
              "<Figure size 432x288 with 1 Axes>"
            ]
          },
          "metadata": {
            "tags": [],
            "needs_background": "light"
          }
        }
      ]
    },
    {
      "cell_type": "code",
      "metadata": {
        "colab_type": "code",
        "id": "SY9TzWJA1NiY",
        "colab": {}
      },
      "source": [
        "# Add case result to the feature set\n",
        "case_result = ['case_result']\n",
        "all_feature_time_case = state + report_month + process_time + report_source + age + sex + race + prior + case_result + child_drug_alcohol + child_mental_physical + care_drug_alcohol + care_mental_physical + house_problem + financial_problem + pub_assistance"
      ],
      "execution_count": null,
      "outputs": []
    },
    {
      "cell_type": "code",
      "metadata": {
        "colab_type": "code",
        "id": "ow8OueYY1peY",
        "colab": {
          "base_uri": "https://localhost:8080/",
          "height": 187
        },
        "outputId": "d3c76616-5d9c-4f2b-9c51-18e4c2ddc8b8"
      },
      "source": [
        "# With the new feature, train the model again to see how performance change\n",
        "\n",
        "# Create a dummyset with only the features in our feature set\n",
        "X = abuse.loc[:, all_feature_time_case]\n",
        "X = pd.get_dummies(X)\n",
        "\n",
        "y = abuse[\"risk_level\"]\n",
        "\n",
        "# This model still train on train_set and test on dev_set\n",
        "# Separate 10% test set\n",
        "X_train_dev, X_test, y_train_dev, y_test = train_test_split(X, y, test_size=0.1, random_state=123)\n",
        "\n",
        "# From the rest 90% train+dev set, separate 1/9 dev set\n",
        "X_train, X_dev, y_train, y_dev = train_test_split(X_train_dev, y_train_dev, test_size=1/9, random_state=123) \n",
        "model = DecisionTreeClassifier(criterion=\"entropy\", random_state=123).fit(X_train, y_train)\n",
        "    \n",
        "# List of hyperparameter settings\n",
        "print(model)\n",
        "    \n",
        "# Calculate our accuracy, kappa and precision on the train and dev sets\n",
        "y_pred = model.predict(X_dev)\n",
        "\n",
        "accuracy = 100*accuracy_score(y_dev, y_pred)\n",
        "kappa = cohen_kappa_score(y_dev, y_pred)\n",
        "precision = precision_score(y_dev, y_pred, pos_label= \"high\")\n",
        "recall = recall_score(y_dev, y_pred, pos_label= \"high\")\n",
        "    \n",
        "# The printed result includes performance of the feature set and the confusion matrix\n",
        "print(f\"Results for model with process_time and case_result:\")\n",
        "print(confusion_matrix(y_dev, y_pred))\n",
        "print(f\"Accuracy: {accuracy:.1f} Kappa: {kappa:.3f} Precision: {precision:.3f} Recall: {recall:.3f}\")"
      ],
      "execution_count": null,
      "outputs": [
        {
          "output_type": "stream",
          "text": [
            "DecisionTreeClassifier(ccp_alpha=0.0, class_weight=None, criterion='entropy',\n",
            "                       max_depth=None, max_features=None, max_leaf_nodes=None,\n",
            "                       min_impurity_decrease=0.0, min_impurity_split=None,\n",
            "                       min_samples_leaf=1, min_samples_split=2,\n",
            "                       min_weight_fraction_leaf=0.0, presort='deprecated',\n",
            "                       random_state=123, splitter='best')\n",
            "Results for model with process_time and case_result:\n",
            "[[ 392  343]\n",
            " [ 369 1938]]\n",
            "Accuracy: 76.6 Kappa: 0.369 Precision: 0.515 Recall: 0.533\n"
          ],
          "name": "stdout"
        }
      ]
    },
    {
      "cell_type": "markdown",
      "metadata": {
        "id": "uaykcxCdV3Bv",
        "colab_type": "text"
      },
      "source": [
        "### Step 3: age"
      ]
    },
    {
      "cell_type": "code",
      "metadata": {
        "id": "o9_65SPpAkNZ",
        "colab_type": "code",
        "colab": {
          "base_uri": "https://localhost:8080/",
          "height": 102
        },
        "outputId": "d0db9b39-004e-45e4-805d-6f942cb15ef5"
      },
      "source": [
        "# Step 3\n",
        "# transform age to age group\n",
        "def age_group(x):\n",
        "    if x == 0:\n",
        "        return \"infant\"\n",
        "    if x > 0 and x < 8:\n",
        "        return \"1-7\"\n",
        "    if x > 7 and x < 17:\n",
        "        return \"8-16\"\n",
        "    if x > 16:\n",
        "        return \">16\"\n",
        "    \n",
        "abuse[\"age_group\"] = abuse[\"age\"].apply(age_group)\n",
        "abuse[\"age_group\"].value_counts()"
      ],
      "execution_count": null,
      "outputs": [
        {
          "output_type": "execute_result",
          "data": {
            "text/plain": [
              "1-7       14073\n",
              "8-16      12855\n",
              "infant     3056\n",
              ">16         431\n",
              "Name: age_group, dtype: int64"
            ]
          },
          "metadata": {
            "tags": []
          },
          "execution_count": 30
        }
      ]
    },
    {
      "cell_type": "code",
      "metadata": {
        "id": "BxXSrJ4jE12l",
        "colab_type": "code",
        "colab": {}
      },
      "source": [
        "# Replace age by age_group\n",
        "age_group = ['age_group']\n",
        "all_feature_time_case_age = state + report_month + process_time + report_source + age_group + sex + race + prior + case_result + child_drug_alcohol + child_mental_physical + care_drug_alcohol + care_mental_physical + house_problem + financial_problem + pub_assistance"
      ],
      "execution_count": null,
      "outputs": []
    },
    {
      "cell_type": "code",
      "metadata": {
        "colab_type": "code",
        "id": "9FF4XFaG2j-o",
        "colab": {
          "base_uri": "https://localhost:8080/",
          "height": 187
        },
        "outputId": "f869fae7-f40c-48a2-cf00-f47c1f8cd794"
      },
      "source": [
        "# With the new feature, train the model again to see how performance change\n",
        "\n",
        "# Create a dummyset with only the features in our feature set\n",
        "X = abuse.loc[:, all_feature_time_case_age]\n",
        "X = pd.get_dummies(X)\n",
        "\n",
        "y = abuse[\"risk_level\"]\n",
        "\n",
        "# This model still train on train_set and test on dev_set\n",
        "# Separate 10% test set\n",
        "X_train_dev, X_test, y_train_dev, y_test = train_test_split(X, y, test_size=0.1, random_state=123)\n",
        "\n",
        "# From the rest 90% train+dev set, separate 1/9 dev set\n",
        "X_train, X_dev, y_train, y_dev = train_test_split(X_train_dev, y_train_dev, test_size=1/9, random_state=123) \n",
        "model = DecisionTreeClassifier(criterion=\"entropy\", random_state=123).fit(X_train, y_train)\n",
        "    \n",
        "# List of hyperparameter settings\n",
        "print(model)\n",
        "    \n",
        "# Calculate our accuracy, kappa and precision on the train and dev sets\n",
        "y_pred = model.predict(X_dev)\n",
        "\n",
        "accuracy = 100*accuracy_score(y_dev, y_pred)\n",
        "kappa = cohen_kappa_score(y_dev, y_pred)\n",
        "precision = precision_score(y_dev, y_pred, pos_label= \"high\")\n",
        "recall = recall_score(y_dev, y_pred, pos_label= \"high\")\n",
        "    \n",
        "# The printed result includes performance of the feature set and the confusion matrix\n",
        "print(f\"Results for model with process_time, case_result and age_group:\")\n",
        "print(confusion_matrix(y_dev, y_pred))\n",
        "print(f\"Accuracy: {accuracy:.1f} Kappa: {kappa:.3f} Precision: {precision:.3f} Recall: {recall:.3f}\")"
      ],
      "execution_count": null,
      "outputs": [
        {
          "output_type": "stream",
          "text": [
            "DecisionTreeClassifier(ccp_alpha=0.0, class_weight=None, criterion='entropy',\n",
            "                       max_depth=None, max_features=None, max_leaf_nodes=None,\n",
            "                       min_impurity_decrease=0.0, min_impurity_split=None,\n",
            "                       min_samples_leaf=1, min_samples_split=2,\n",
            "                       min_weight_fraction_leaf=0.0, presort='deprecated',\n",
            "                       random_state=123, splitter='best')\n",
            "Results for model with process_time, case_result and age_group:\n",
            "[[ 426  309]\n",
            " [ 324 1983]]\n",
            "Accuracy: 79.2 Kappa: 0.436 Precision: 0.568 Recall: 0.580\n"
          ],
          "name": "stdout"
        }
      ]
    },
    {
      "cell_type": "markdown",
      "metadata": {
        "id": "fwSLXC0xV68q",
        "colab_type": "text"
      },
      "source": [
        "### Step 4: subset experiments"
      ]
    },
    {
      "cell_type": "code",
      "metadata": {
        "id": "L5QIQVDRqy_X",
        "colab_type": "code",
        "colab": {}
      },
      "source": [
        "# Step 4\n",
        "# Try different subsets\n",
        "feature_sets = {\n",
        "    \"remove child demographic/case result\":state + report_month + process_time + report_source + child_drug_alcohol + child_mental_physical + care_drug_alcohol + care_mental_physical + house_problem + financial_problem + pub_assistance,\n",
        "    \"remove case result\" : state + report_month + process_time + report_source + age_group + sex + race + prior + child_drug_alcohol + child_mental_physical + care_drug_alcohol + care_mental_physical + house_problem + financial_problem + pub_assistance,\n",
        "    \"remove child demographic\": state + report_month + process_time + report_source + case_result + child_drug_alcohol + child_mental_physical + care_drug_alcohol + care_mental_physical + house_problem + financial_problem + pub_assistance,\n",
        "    \"remove family problem\": state + report_month + process_time + report_source + age_group + sex + race + prior + case_result + child_drug_alcohol + child_mental_physical,\n",
        "    \"remove child problem\": state + report_month + process_time + report_source + age_group + sex + race + prior + case_result + care_drug_alcohol + care_mental_physical + house_problem + financial_problem + pub_assistance,\n",
        "    \"remove prior\": state + report_month + process_time + report_source + age_group + sex + race + case_result + child_drug_alcohol + child_mental_physical + care_drug_alcohol + care_mental_physical + house_problem + financial_problem + pub_assistance,\n",
        "    \"remove sex/prior\": state + report_month + process_time + report_source + age_group + race + case_result + child_drug_alcohol + child_mental_physical + care_drug_alcohol + care_mental_physical + house_problem + financial_problem + pub_assistance,\n",
        "    \"remove sex/race\": state + report_month + process_time + report_source + age_group + prior + case_result + child_drug_alcohol + child_mental_physical + care_drug_alcohol + care_mental_physical + house_problem + financial_problem + pub_assistance,\n",
        "    \"remove sex/age/prior\": state + report_month + process_time + report_source + race + case_result + child_drug_alcohol + child_mental_physical + care_drug_alcohol + care_mental_physical + house_problem + financial_problem + pub_assistance,\n",
        "    \"remove sex/age/race\": state + report_month + process_time + report_source + prior + case_result + child_drug_alcohol + child_mental_physical + care_drug_alcohol + care_mental_physical + house_problem + financial_problem + pub_assistance,\n",
        "    \"remove sex/age\": state + report_month + process_time + report_source + race + prior + case_result + child_drug_alcohol + child_mental_physical + care_drug_alcohol + care_mental_physical + house_problem + financial_problem + pub_assistance,\n",
        "    \"remove sex\": state + report_month + process_time + report_source + age_group + race + prior + case_result + child_drug_alcohol + child_mental_physical + care_drug_alcohol + care_mental_physical + house_problem + financial_problem + pub_assistance,\n",
        "    \"all\": state + report_month + process_time + report_source + age_group + sex + race + prior + case_result + child_drug_alcohol + child_mental_physical + care_drug_alcohol + care_mental_physical + house_problem + financial_problem + pub_assistance\n",
        "}"
      ],
      "execution_count": null,
      "outputs": []
    },
    {
      "cell_type": "code",
      "metadata": {
        "id": "PB-zWeHeCReS",
        "colab_type": "code",
        "colab": {
          "base_uri": "https://localhost:8080/",
          "height": 1000
        },
        "outputId": "28ea263b-5624-47c7-86c8-adb65026441d"
      },
      "source": [
        "# Compare feature sets after training each feature set\n",
        "best = 0\n",
        "best_name = None\n",
        "best_actual = None\n",
        "best_predictions = None\n",
        "\n",
        "precisions = []\n",
        "kappas = []\n",
        "accuracies = []\n",
        "\n",
        "predictions = {}\n",
        "actual = None\n",
        "\n",
        "# For each feature set, we evaluate our model on both the train and the test set\n",
        "for set_name, feature_set in feature_sets.items():\n",
        "\n",
        "    # Create a dummyset with only the features in our feature set\n",
        "    X = abuse.loc[:, feature_set]\n",
        "    X = pd.get_dummies(X)\n",
        "\n",
        "    y = abuse[\"risk_level\"]\n",
        "\n",
        "    # Separate 10% test set\n",
        "    X_train_dev, X_test, y_train_dev, y_test = train_test_split(X, y, test_size=0.1, random_state=123)\n",
        "\n",
        "    # From the rest 90% train+dev set, separate 1/9 dev set\n",
        "    X_train, X_dev, y_train, y_dev = train_test_split(X_train_dev, y_train_dev, test_size=1/9, random_state=123) \n",
        "    model = DecisionTreeClassifier(criterion=\"entropy\", random_state=123).fit(X_train, y_train)\n",
        "    \n",
        "    # Calculate our accuracy, kappa and precision on the train and test sets\n",
        "    y_pred = model.predict(X_dev)\n",
        "\n",
        "    accuracy = 100*accuracy_score(y_dev, y_pred)\n",
        "    kappa = cohen_kappa_score(y_dev, y_pred)\n",
        "    precision = precision_score(y_dev, y_pred, pos_label= \"high\")\n",
        "    recall = recall_score(y_dev, y_pred, pos_label= \"high\")\n",
        "\n",
        "    metric_to_optimize = accuracy\n",
        "    \n",
        "    if metric_to_optimize > best:\n",
        "        best = metric_to_optimize\n",
        "        best_name = set_name\n",
        "        \n",
        "    predictions[set_name] = y_pred\n",
        "    actual = np.array(list(y_dev))\n",
        "    \n",
        "    # The printed result includes performance of the feature set and the confusion matrix\n",
        "    print(f\"Results for {set_name}:\")\n",
        "    print(confusion_matrix(y_dev, y_pred))\n",
        "    print(f\"Accuracy: {accuracy:.1f} Kappa: {kappa:.3f} Precision: {precision:.3f} Recall: {recall:.3f}\")\n",
        "    precisions.append(precision)\n",
        "    kappas.append(kappa)\n",
        "    accuracies.append(accuracy)\n",
        "    print(\"------------------------\")\n",
        "    \n",
        "print(f\"Best feature subset is: {best_name} \\nWith: {best:.1f}% accuracy.\")   "
      ],
      "execution_count": null,
      "outputs": [
        {
          "output_type": "stream",
          "text": [
            "Results for remove child demographic/case result:\n",
            "[[ 453  282]\n",
            " [ 271 2036]]\n",
            "Accuracy: 81.8 Kappa: 0.501 Precision: 0.626 Recall: 0.616\n",
            "------------------------\n",
            "Results for remove case result:\n",
            "[[ 431  304]\n",
            " [ 338 1969]]\n",
            "Accuracy: 78.9 Kappa: 0.433 Precision: 0.560 Recall: 0.586\n",
            "------------------------\n",
            "Results for remove child demographic:\n",
            "[[ 445  290]\n",
            " [ 264 2043]]\n",
            "Accuracy: 81.8 Kappa: 0.497 Precision: 0.628 Recall: 0.605\n",
            "------------------------\n",
            "Results for remove family problem:\n",
            "[[ 368  367]\n",
            " [ 390 1917]]\n",
            "Accuracy: 75.1 Kappa: 0.328 Precision: 0.485 Recall: 0.501\n",
            "------------------------\n",
            "Results for remove child problem:\n",
            "[[ 408  327]\n",
            " [ 320 1987]]\n",
            "Accuracy: 78.7 Kappa: 0.418 Precision: 0.560 Recall: 0.555\n",
            "------------------------\n",
            "Results for remove prior:\n",
            "[[ 443  292]\n",
            " [ 317 1990]]\n",
            "Accuracy: 80.0 Kappa: 0.460 Precision: 0.583 Recall: 0.603\n",
            "------------------------\n",
            "Results for remove sex/prior:\n",
            "[[ 447  288]\n",
            " [ 315 1992]]\n",
            "Accuracy: 80.2 Kappa: 0.466 Precision: 0.587 Recall: 0.608\n",
            "------------------------\n",
            "Results for remove sex/race:\n",
            "[[ 448  287]\n",
            " [ 297 2010]]\n",
            "Accuracy: 80.8 Kappa: 0.479 Precision: 0.601 Recall: 0.610\n",
            "------------------------\n",
            "Results for remove sex/age/prior:\n",
            "[[ 461  274]\n",
            " [ 258 2049]]\n",
            "Accuracy: 82.5 Kappa: 0.519 Precision: 0.641 Recall: 0.627\n",
            "------------------------\n",
            "Results for remove sex/age/race:\n",
            "[[ 449  286]\n",
            " [ 261 2046]]\n",
            "Accuracy: 82.0 Kappa: 0.504 Precision: 0.632 Recall: 0.611\n",
            "------------------------\n",
            "Results for remove sex/age:\n",
            "[[ 451  284]\n",
            " [ 260 2047]]\n",
            "Accuracy: 82.1 Kappa: 0.507 Precision: 0.634 Recall: 0.614\n",
            "------------------------\n",
            "Results for remove sex:\n",
            "[[ 447  288]\n",
            " [ 315 1992]]\n",
            "Accuracy: 80.2 Kappa: 0.466 Precision: 0.587 Recall: 0.608\n",
            "------------------------\n",
            "Results for all:\n",
            "[[ 426  309]\n",
            " [ 324 1983]]\n",
            "Accuracy: 79.2 Kappa: 0.436 Precision: 0.568 Recall: 0.580\n",
            "------------------------\n",
            "Best feature subset is: remove sex/age/prior \n",
            "With: 82.5% accuracy.\n"
          ],
          "name": "stdout"
        }
      ]
    },
    {
      "cell_type": "markdown",
      "metadata": {
        "id": "uquaMmB5pTC4",
        "colab_type": "text"
      },
      "source": [
        "## **Optimization 2: Decision tree vs. Logistic Regression Classification**\n",
        "\n",
        "For opt2, the best feature set from opt1 was applied to Logistic Regression model. \n",
        "\n",
        "The result shows that adopting logistic is not a better option. So the settings and performance of the model remains the same after opt2."
      ]
    },
    {
      "cell_type": "code",
      "metadata": {
        "id": "dyOCqj95pkXK",
        "colab_type": "code",
        "colab": {}
      },
      "source": [
        "# From opt 1, choose the feature set with the highest accuracy and kappa\n",
        "logistic_feature_set = state + report_month + process_time + report_source + race + case_result + child_drug_alcohol + child_mental_physical + care_drug_alcohol + care_mental_physical + house_problem + financial_problem + pub_assistance"
      ],
      "execution_count": null,
      "outputs": []
    },
    {
      "cell_type": "code",
      "metadata": {
        "scrolled": true,
        "id": "OEmhwY_AP1Vz",
        "colab_type": "code",
        "colab": {
          "base_uri": "https://localhost:8080/",
          "height": 119
        },
        "outputId": "8ca29c13-3471-40d6-fa59-95935e925778"
      },
      "source": [
        "# Prepare data\n",
        "X = abuse.loc[:, logistic_feature_set]\n",
        "X = pd.get_dummies(X)\n",
        "y = abuse[\"risk_level\"]\n",
        "\n",
        "# Separate 10% test set\n",
        "X_train_dev, X_test, y_train_dev, y_test = train_test_split(X, y, test_size=0.1, random_state=123)\n",
        "\n",
        "# From the rest 90% train+dev set, separate 1/9 dev set\n",
        "X_train, X_dev, y_train, y_dev = train_test_split(X_train_dev, y_train_dev, test_size=1/9, random_state=123) \n",
        "\n",
        "# Train model with logistic regression model\n",
        "classifier = LogisticRegression(penalty=\"l2\", solver=\"lbfgs\", max_iter=10000, random_state=123)\n",
        "model = classifier.fit(X_train, y_train)\n",
        "print(model)\n",
        "# Get Predictions\n",
        "preds = model.predict(X_dev)\n",
        "\n",
        "# Compute and print metrics\n",
        "accuracy = 100*accuracy_score(y_dev, preds)\n",
        "kappa = cohen_kappa_score(y_dev, preds)\n",
        "precision = precision_score(y_dev, y_pred, pos_label= \"high\")\n",
        "recall = recall_score(y_dev, y_pred, pos_label= \"high\")\n",
        "print(f\"Accuracy: {accuracy:.1f} Kappa: {kappa:.3f} Precision: {precision:.3f} Recall: {recall:.3f}\")"
      ],
      "execution_count": null,
      "outputs": [
        {
          "output_type": "stream",
          "text": [
            "LogisticRegression(C=1.0, class_weight=None, dual=False, fit_intercept=True,\n",
            "                   intercept_scaling=1, l1_ratio=None, max_iter=10000,\n",
            "                   multi_class='auto', n_jobs=None, penalty='l2',\n",
            "                   random_state=123, solver='lbfgs', tol=0.0001, verbose=0,\n",
            "                   warm_start=False)\n",
            "Accuracy: 76.4 Kappa: 0.145 Precision: 0.568 Recall: 0.580\n"
          ],
          "name": "stdout"
        }
      ]
    },
    {
      "cell_type": "markdown",
      "metadata": {
        "id": "VE83uYtY8GR4",
        "colab_type": "text"
      },
      "source": [
        "## **Optimization 3: Hyperparameter Tuning**\n",
        "\n",
        "Use Scikit-learn to tune some of the parameters in decision tree model. \n",
        "\n",
        "The result shows that the default settings have best performance. So the settings and performance remains the same after opt3."
      ]
    },
    {
      "cell_type": "code",
      "metadata": {
        "id": "9jYnAKpxmodP",
        "colab_type": "code",
        "colab": {
          "base_uri": "https://localhost:8080/",
          "height": 173
        },
        "outputId": "3be656dc-8119-4c6c-d54f-af2d5b464a1b"
      },
      "source": [
        "# Hyperparameter tuning with Scikit-learn\n",
        "# Use the highest performance feature set from opt 1.\n",
        "\n",
        "sk_feature_set = state + report_month + process_time + report_source + race + case_result + child_drug_alcohol + child_mental_physical + care_drug_alcohol + care_mental_physical + house_problem + financial_problem + pub_assistance\n",
        "\n",
        "# Prepare our dataset\n",
        "X = abuse.loc[:, sk_feature_set]\n",
        "X = pd.get_dummies(X)\n",
        "y = abuse[\"risk_level\"]\n",
        "# Separate 10% test set\n",
        "X_train_dev, X_test, y_train_dev, y_test = train_test_split(X, y, test_size=0.1, random_state=123)\n",
        "# From the rest 90% train+dev set, separate 1/9 dev set\n",
        "X_train, X_dev, y_train, y_dev = train_test_split(X_train_dev, y_train_dev, test_size=1/9, random_state=123) \n",
        "\n",
        "# Decide on the hyperparameters we would like to compare\n",
        "hyperparameters = {\n",
        "    \"criterion\":[\"gini\", \"entropy\"],\n",
        "    \"min_impurity_decrease\":[0, 0.0001, 0.001],\n",
        "    \"min_samples_split\":range(2, 20, 2)\n",
        "}\n",
        "\n",
        "# Decide on our number of folds for cross validation in the hyerparameter search\n",
        "kfolds = 10\n",
        "\n",
        "# Initialize a search using cross validation in sklearn\n",
        "search = GridSearchCV(estimator=DecisionTreeClassifier(random_state=123),\n",
        "                            param_grid=hyperparameters, cv=kfolds, scoring=\"accuracy\")\n",
        "\n",
        "# Train a classifier with each combination of hyperparameters and take the best one\n",
        "# and print out the results\n",
        "classifier = search.fit(X_train, y_train)\n",
        "accuracy = classifier.best_score_\n",
        "best_fit = classifier.best_estimator_\n",
        "print(f\"Best fit when training was {best_fit}\\nWith {100*accuracy:.1f}% accuracy.\")\n",
        "\n",
        "# Evaluate our best model's performance on the dev set and print the results\n",
        "y_pred = classifier.predict(X_dev)\n",
        "accuracy = 100*accuracy_score(y_dev, y_pred)\n",
        "print(f\"Accuracy on held-out dev set: {accuracy:.1f}%\")"
      ],
      "execution_count": null,
      "outputs": [
        {
          "output_type": "stream",
          "text": [
            "Best fit when training was DecisionTreeClassifier(ccp_alpha=0.0, class_weight=None, criterion='entropy',\n",
            "                       max_depth=None, max_features=None, max_leaf_nodes=None,\n",
            "                       min_impurity_decrease=0, min_impurity_split=None,\n",
            "                       min_samples_leaf=1, min_samples_split=2,\n",
            "                       min_weight_fraction_leaf=0.0, presort='deprecated',\n",
            "                       random_state=123, splitter='best')\n",
            "With 81.5% accuracy.\n",
            "Accuracy on held-out dev set: 82.5%\n"
          ],
          "name": "stdout"
        }
      ]
    },
    {
      "cell_type": "markdown",
      "metadata": {
        "id": "Ak7vFdOPChQG",
        "colab_type": "text"
      },
      "source": [
        "# Primary task - Present the final model"
      ]
    },
    {
      "cell_type": "code",
      "metadata": {
        "id": "SujNfbCsMZQM",
        "colab_type": "code",
        "colab": {}
      },
      "source": [
        "# This the best settings from opt 1, 2 & 3.\n",
        "\n",
        "best_classifier = DecisionTreeClassifier(ccp_alpha=0.0, class_weight=None, criterion='entropy',\n",
        "                       max_depth=None, max_features=None, max_leaf_nodes=None,\n",
        "                       min_impurity_decrease=0, min_impurity_split=None,\n",
        "                       min_samples_leaf=1, min_samples_split=2,\n",
        "                       min_weight_fraction_leaf=0.0, presort='deprecated',\n",
        "                       random_state=123, splitter='best')\n",
        "\n",
        "best_feature_set = state + report_month + process_time + report_source + race + case_result + child_drug_alcohol + child_mental_physical + care_drug_alcohol + care_mental_physical + house_problem + financial_problem + pub_assistance"
      ],
      "execution_count": null,
      "outputs": []
    },
    {
      "cell_type": "code",
      "metadata": {
        "colab_type": "code",
        "id": "duFVDdV5WbIW",
        "colab": {
          "base_uri": "https://localhost:8080/",
          "height": 204
        },
        "outputId": "4fd43239-d9d8-40a0-b674-be0d1efc0e49"
      },
      "source": [
        "# This the performance of the best model \n",
        "# (train on 90% train_dev set and test on 10% test set).\n",
        "\n",
        "X = abuse.loc[:, best_feature_set]\n",
        "X = pd.get_dummies(X)\n",
        "\n",
        "y = abuse[\"risk_level\"]\n",
        "\n",
        "# Separate 10% test set\n",
        "X_train_dev, X_test, y_train_dev, y_test = train_test_split(X, y, test_size=0.1, random_state=123)\n",
        "\n",
        "model = best_classifier.fit(X_train_dev, y_train_dev)\n",
        "\n",
        "# List of hyperparameter settings\n",
        "print(model)\n",
        "    \n",
        "# Calculate accuracy, kappa, precision and recall on the train and test sets\n",
        "y_pred_f = model.predict(X_test)\n",
        "\n",
        "accuracy = 100*accuracy_score(y_test, y_pred_f)\n",
        "kappa = cohen_kappa_score(y_test, y_pred_f)\n",
        "precision = precision_score(y_test, y_pred_f, pos_label= \"high\")\n",
        "recall = recall_score(y_test, y_pred_f, pos_label= \"high\")\n",
        "\n",
        "# The printed result includes performance of the feature set and the confusion matrix\n",
        "print(f\"Results for the final model:\")\n",
        "print(confusion_matrix(y_test, y_pred_f))\n",
        "print(f\"Accuracy: {accuracy:.1f} Kappa: {kappa:.3f} Precision: {precision:.3f} Recall: {recall:.3f}\")\n",
        "print(\"------------------------\")\n"
      ],
      "execution_count": null,
      "outputs": [
        {
          "output_type": "stream",
          "text": [
            "DecisionTreeClassifier(ccp_alpha=0.0, class_weight=None, criterion='entropy',\n",
            "                       max_depth=None, max_features=None, max_leaf_nodes=None,\n",
            "                       min_impurity_decrease=0, min_impurity_split=None,\n",
            "                       min_samples_leaf=1, min_samples_split=2,\n",
            "                       min_weight_fraction_leaf=0.0, presort='deprecated',\n",
            "                       random_state=123, splitter='best')\n",
            "Results for the final model:\n",
            "[[ 500  215]\n",
            " [ 269 2058]]\n",
            "Accuracy: 84.1 Kappa: 0.569 Precision: 0.650 Recall: 0.699\n",
            "------------------------\n"
          ],
          "name": "stdout"
        }
      ]
    },
    {
      "cell_type": "markdown",
      "metadata": {
        "id": "LKCKmde6F4r2",
        "colab_type": "text"
      },
      "source": [
        "# Primary task - Error Analysis\n",
        "The following codes extract cases that original risk level and predicted risk level don't match and find the general pattern of error cases.\n"
      ]
    },
    {
      "cell_type": "markdown",
      "metadata": {
        "id": "yasGLSV5WH2c",
        "colab_type": "text"
      },
      "source": [
        "## Error Set"
      ]
    },
    {
      "cell_type": "code",
      "metadata": {
        "id": "dYO15eVM9BYz",
        "colab_type": "code",
        "colab": {
          "base_uri": "https://localhost:8080/",
          "height": 153
        },
        "outputId": "ad0115f6-71de-4021-c49e-9fff9977eb27"
      },
      "source": [
        "# y_test is the original risk level, y_pred_f is from the prediction of the model\n",
        "# Add them to the dataset\n",
        "abuse_test = pd.DataFrame(data= X_test)\n",
        "abuse_test['risk_level'] = y_test\n",
        "abuse_test['risk_pred'] = y_pred_f\n",
        "abuse_test.columns"
      ],
      "execution_count": null,
      "outputs": [
        {
          "output_type": "execute_result",
          "data": {
            "text/plain": [
              "Index(['report_month', 'process_time', 'report_source', 'race',\n",
              "       'child_drug_alcohol', 'child_mental_physical', 'care_drug_alcohol',\n",
              "       'care_mental_physical', 'house_problem', 'financial_problem',\n",
              "       'pub_assistance', 'state_KY', 'state_TX', 'state_WY',\n",
              "       'case_result_double_abuse', 'case_result_quad_abuse',\n",
              "       'case_result_single_abuse', 'case_result_triple_abuse', 'risk_level',\n",
              "       'risk_pred'],\n",
              "      dtype='object')"
            ]
          },
          "metadata": {
            "tags": []
          },
          "execution_count": 40
        }
      ]
    },
    {
      "cell_type": "code",
      "metadata": {
        "id": "RHGBIDIExq20",
        "colab_type": "code",
        "colab": {
          "base_uri": "https://localhost:8080/",
          "height": 439
        },
        "outputId": "a26b2e63-2870-44be-d7ce-7993ba471bb6"
      },
      "source": [
        "# Assign whether the prediction is correct\n",
        "# Extract the wrong ones to be the error set\n",
        "\n",
        "abuse_test['correct']= (abuse_test['risk_level'] == abuse_test['risk_pred'])\n",
        "error = abuse_test[abuse_test['correct'] != True]\n",
        "error"
      ],
      "execution_count": null,
      "outputs": [
        {
          "output_type": "execute_result",
          "data": {
            "text/html": [
              "<div>\n",
              "<style scoped>\n",
              "    .dataframe tbody tr th:only-of-type {\n",
              "        vertical-align: middle;\n",
              "    }\n",
              "\n",
              "    .dataframe tbody tr th {\n",
              "        vertical-align: top;\n",
              "    }\n",
              "\n",
              "    .dataframe thead th {\n",
              "        text-align: right;\n",
              "    }\n",
              "</style>\n",
              "<table border=\"1\" class=\"dataframe\">\n",
              "  <thead>\n",
              "    <tr style=\"text-align: right;\">\n",
              "      <th></th>\n",
              "      <th>report_month</th>\n",
              "      <th>process_time</th>\n",
              "      <th>report_source</th>\n",
              "      <th>race</th>\n",
              "      <th>child_drug_alcohol</th>\n",
              "      <th>child_mental_physical</th>\n",
              "      <th>care_drug_alcohol</th>\n",
              "      <th>care_mental_physical</th>\n",
              "      <th>house_problem</th>\n",
              "      <th>financial_problem</th>\n",
              "      <th>pub_assistance</th>\n",
              "      <th>state_KY</th>\n",
              "      <th>state_TX</th>\n",
              "      <th>state_WY</th>\n",
              "      <th>case_result_double_abuse</th>\n",
              "      <th>case_result_quad_abuse</th>\n",
              "      <th>case_result_single_abuse</th>\n",
              "      <th>case_result_triple_abuse</th>\n",
              "      <th>risk_level</th>\n",
              "      <th>risk_pred</th>\n",
              "      <th>correct</th>\n",
              "    </tr>\n",
              "  </thead>\n",
              "  <tbody>\n",
              "    <tr>\n",
              "      <th>692</th>\n",
              "      <td>6</td>\n",
              "      <td>496.0</td>\n",
              "      <td>11</td>\n",
              "      <td>2</td>\n",
              "      <td>2</td>\n",
              "      <td>2</td>\n",
              "      <td>2</td>\n",
              "      <td>2</td>\n",
              "      <td>2</td>\n",
              "      <td>2</td>\n",
              "      <td>2</td>\n",
              "      <td>1</td>\n",
              "      <td>0</td>\n",
              "      <td>0</td>\n",
              "      <td>0</td>\n",
              "      <td>0</td>\n",
              "      <td>1</td>\n",
              "      <td>0</td>\n",
              "      <td>low</td>\n",
              "      <td>high</td>\n",
              "      <td>False</td>\n",
              "    </tr>\n",
              "    <tr>\n",
              "      <th>19578</th>\n",
              "      <td>5</td>\n",
              "      <td>14.0</td>\n",
              "      <td>11</td>\n",
              "      <td>1</td>\n",
              "      <td>2</td>\n",
              "      <td>2</td>\n",
              "      <td>2</td>\n",
              "      <td>1</td>\n",
              "      <td>2</td>\n",
              "      <td>1</td>\n",
              "      <td>1</td>\n",
              "      <td>0</td>\n",
              "      <td>1</td>\n",
              "      <td>0</td>\n",
              "      <td>0</td>\n",
              "      <td>0</td>\n",
              "      <td>1</td>\n",
              "      <td>0</td>\n",
              "      <td>low</td>\n",
              "      <td>high</td>\n",
              "      <td>False</td>\n",
              "    </tr>\n",
              "    <tr>\n",
              "      <th>14516</th>\n",
              "      <td>12</td>\n",
              "      <td>28.0</td>\n",
              "      <td>11</td>\n",
              "      <td>1</td>\n",
              "      <td>2</td>\n",
              "      <td>2</td>\n",
              "      <td>1</td>\n",
              "      <td>2</td>\n",
              "      <td>2</td>\n",
              "      <td>2</td>\n",
              "      <td>2</td>\n",
              "      <td>0</td>\n",
              "      <td>1</td>\n",
              "      <td>0</td>\n",
              "      <td>0</td>\n",
              "      <td>0</td>\n",
              "      <td>1</td>\n",
              "      <td>0</td>\n",
              "      <td>low</td>\n",
              "      <td>high</td>\n",
              "      <td>False</td>\n",
              "    </tr>\n",
              "    <tr>\n",
              "      <th>2394</th>\n",
              "      <td>7</td>\n",
              "      <td>498.0</td>\n",
              "      <td>11</td>\n",
              "      <td>1</td>\n",
              "      <td>2</td>\n",
              "      <td>2</td>\n",
              "      <td>2</td>\n",
              "      <td>2</td>\n",
              "      <td>2</td>\n",
              "      <td>2</td>\n",
              "      <td>2</td>\n",
              "      <td>1</td>\n",
              "      <td>0</td>\n",
              "      <td>0</td>\n",
              "      <td>0</td>\n",
              "      <td>0</td>\n",
              "      <td>1</td>\n",
              "      <td>0</td>\n",
              "      <td>low</td>\n",
              "      <td>high</td>\n",
              "      <td>False</td>\n",
              "    </tr>\n",
              "    <tr>\n",
              "      <th>20787</th>\n",
              "      <td>9</td>\n",
              "      <td>22.0</td>\n",
              "      <td>3</td>\n",
              "      <td>1</td>\n",
              "      <td>2</td>\n",
              "      <td>2</td>\n",
              "      <td>1</td>\n",
              "      <td>2</td>\n",
              "      <td>2</td>\n",
              "      <td>1</td>\n",
              "      <td>2</td>\n",
              "      <td>0</td>\n",
              "      <td>1</td>\n",
              "      <td>0</td>\n",
              "      <td>0</td>\n",
              "      <td>0</td>\n",
              "      <td>1</td>\n",
              "      <td>0</td>\n",
              "      <td>high</td>\n",
              "      <td>low</td>\n",
              "      <td>False</td>\n",
              "    </tr>\n",
              "    <tr>\n",
              "      <th>...</th>\n",
              "      <td>...</td>\n",
              "      <td>...</td>\n",
              "      <td>...</td>\n",
              "      <td>...</td>\n",
              "      <td>...</td>\n",
              "      <td>...</td>\n",
              "      <td>...</td>\n",
              "      <td>...</td>\n",
              "      <td>...</td>\n",
              "      <td>...</td>\n",
              "      <td>...</td>\n",
              "      <td>...</td>\n",
              "      <td>...</td>\n",
              "      <td>...</td>\n",
              "      <td>...</td>\n",
              "      <td>...</td>\n",
              "      <td>...</td>\n",
              "      <td>...</td>\n",
              "      <td>...</td>\n",
              "      <td>...</td>\n",
              "      <td>...</td>\n",
              "    </tr>\n",
              "    <tr>\n",
              "      <th>26057</th>\n",
              "      <td>12</td>\n",
              "      <td>15.0</td>\n",
              "      <td>7</td>\n",
              "      <td>2</td>\n",
              "      <td>1</td>\n",
              "      <td>1</td>\n",
              "      <td>2</td>\n",
              "      <td>2</td>\n",
              "      <td>2</td>\n",
              "      <td>2</td>\n",
              "      <td>2</td>\n",
              "      <td>0</td>\n",
              "      <td>1</td>\n",
              "      <td>0</td>\n",
              "      <td>0</td>\n",
              "      <td>0</td>\n",
              "      <td>1</td>\n",
              "      <td>0</td>\n",
              "      <td>high</td>\n",
              "      <td>low</td>\n",
              "      <td>False</td>\n",
              "    </tr>\n",
              "    <tr>\n",
              "      <th>23999</th>\n",
              "      <td>1</td>\n",
              "      <td>71.0</td>\n",
              "      <td>2</td>\n",
              "      <td>2</td>\n",
              "      <td>2</td>\n",
              "      <td>2</td>\n",
              "      <td>2</td>\n",
              "      <td>2</td>\n",
              "      <td>2</td>\n",
              "      <td>2</td>\n",
              "      <td>2</td>\n",
              "      <td>0</td>\n",
              "      <td>1</td>\n",
              "      <td>0</td>\n",
              "      <td>0</td>\n",
              "      <td>0</td>\n",
              "      <td>1</td>\n",
              "      <td>0</td>\n",
              "      <td>low</td>\n",
              "      <td>high</td>\n",
              "      <td>False</td>\n",
              "    </tr>\n",
              "    <tr>\n",
              "      <th>16331</th>\n",
              "      <td>10</td>\n",
              "      <td>131.0</td>\n",
              "      <td>8</td>\n",
              "      <td>1</td>\n",
              "      <td>2</td>\n",
              "      <td>2</td>\n",
              "      <td>2</td>\n",
              "      <td>2</td>\n",
              "      <td>2</td>\n",
              "      <td>2</td>\n",
              "      <td>2</td>\n",
              "      <td>0</td>\n",
              "      <td>1</td>\n",
              "      <td>0</td>\n",
              "      <td>0</td>\n",
              "      <td>0</td>\n",
              "      <td>1</td>\n",
              "      <td>0</td>\n",
              "      <td>low</td>\n",
              "      <td>high</td>\n",
              "      <td>False</td>\n",
              "    </tr>\n",
              "    <tr>\n",
              "      <th>3155</th>\n",
              "      <td>8</td>\n",
              "      <td>105.0</td>\n",
              "      <td>11</td>\n",
              "      <td>1</td>\n",
              "      <td>2</td>\n",
              "      <td>2</td>\n",
              "      <td>2</td>\n",
              "      <td>2</td>\n",
              "      <td>1</td>\n",
              "      <td>2</td>\n",
              "      <td>2</td>\n",
              "      <td>1</td>\n",
              "      <td>0</td>\n",
              "      <td>0</td>\n",
              "      <td>0</td>\n",
              "      <td>0</td>\n",
              "      <td>1</td>\n",
              "      <td>0</td>\n",
              "      <td>high</td>\n",
              "      <td>low</td>\n",
              "      <td>False</td>\n",
              "    </tr>\n",
              "    <tr>\n",
              "      <th>9569</th>\n",
              "      <td>7</td>\n",
              "      <td>1.0</td>\n",
              "      <td>3</td>\n",
              "      <td>2</td>\n",
              "      <td>2</td>\n",
              "      <td>1</td>\n",
              "      <td>2</td>\n",
              "      <td>2</td>\n",
              "      <td>2</td>\n",
              "      <td>2</td>\n",
              "      <td>2</td>\n",
              "      <td>0</td>\n",
              "      <td>1</td>\n",
              "      <td>0</td>\n",
              "      <td>0</td>\n",
              "      <td>0</td>\n",
              "      <td>1</td>\n",
              "      <td>0</td>\n",
              "      <td>high</td>\n",
              "      <td>low</td>\n",
              "      <td>False</td>\n",
              "    </tr>\n",
              "  </tbody>\n",
              "</table>\n",
              "<p>484 rows × 21 columns</p>\n",
              "</div>"
            ],
            "text/plain": [
              "       report_month  process_time  report_source  ...  risk_level  risk_pred  correct\n",
              "692               6         496.0             11  ...         low       high    False\n",
              "19578             5          14.0             11  ...         low       high    False\n",
              "14516            12          28.0             11  ...         low       high    False\n",
              "2394              7         498.0             11  ...         low       high    False\n",
              "20787             9          22.0              3  ...        high        low    False\n",
              "...             ...           ...            ...  ...         ...        ...      ...\n",
              "26057            12          15.0              7  ...        high        low    False\n",
              "23999             1          71.0              2  ...         low       high    False\n",
              "16331            10         131.0              8  ...         low       high    False\n",
              "3155              8         105.0             11  ...        high        low    False\n",
              "9569              7           1.0              3  ...        high        low    False\n",
              "\n",
              "[484 rows x 21 columns]"
            ]
          },
          "metadata": {
            "tags": []
          },
          "execution_count": 41
        }
      ]
    },
    {
      "cell_type": "markdown",
      "metadata": {
        "id": "T5-7kfogWRTv",
        "colab_type": "text"
      },
      "source": [
        "## Error Pattern"
      ]
    },
    {
      "cell_type": "code",
      "metadata": {
        "id": "u8SDf0_f6LA4",
        "colab_type": "code",
        "colab": {
          "base_uri": "https://localhost:8080/",
          "height": 459
        },
        "outputId": "85e549c7-8101-42a7-ed9b-128e1875ae7d"
      },
      "source": [
        "# Descriptive analysis on error dataset\n",
        "# 1. Compare Distribution of report_month\n",
        "# Error rate is especially high in July\n",
        "print(abuse_test[\"report_month\"].value_counts()/len(abuse_test)*100)\n",
        "print(error[\"report_month\"].value_counts()/len(error)*100)"
      ],
      "execution_count": null,
      "outputs": [
        {
          "output_type": "stream",
          "text": [
            "10    9.204471\n",
            "8     9.105851\n",
            "4     8.875740\n",
            "7     8.612755\n",
            "5     8.612755\n",
            "9     8.448389\n",
            "2     8.349770\n",
            "3     8.152531\n",
            "1     8.021039\n",
            "12    7.889546\n",
            "6     7.626561\n",
            "11    7.100592\n",
            "Name: report_month, dtype: float64\n",
            "7     12.396694\n",
            "8      9.917355\n",
            "4      9.917355\n",
            "12     8.471074\n",
            "10     8.471074\n",
            "9      8.057851\n",
            "6      7.851240\n",
            "11     7.644628\n",
            "1      7.644628\n",
            "5      7.438017\n",
            "2      6.818182\n",
            "3      5.371901\n",
            "Name: report_month, dtype: float64\n"
          ],
          "name": "stdout"
        }
      ]
    },
    {
      "cell_type": "code",
      "metadata": {
        "id": "-X8fvXEyIXsH",
        "colab_type": "code",
        "colab": {
          "base_uri": "https://localhost:8080/",
          "height": 297
        },
        "outputId": "7bf8601a-3edc-46ae-e981-53f21843aa17"
      },
      "source": [
        "# Use bar chart to compare distribution of report month\n",
        "labels = ['Jan', 'Feb', 'Mar', 'Apr', 'May', 'Jun', 'Jul', 'Aug', 'Sep', 'Oct', 'Nov', 'Dec']\n",
        "test_mon = [8.0, 8.3, 8.2, 8.9, 8.6, 7.6, 8.6, 9.1, 8.4, 9.2, 7.1, 7.9]\n",
        "error_mon = [7.6, 6.8, 5.4, 9.9, 7.4, 7.8, 12.4, 9.9, 8.1, 8.5, 7.6, 8.5]\n",
        "\n",
        "x = np.arange(len(labels))  # the label locations\n",
        "width = 0.33  # the width of the bars\n",
        "\n",
        "fig, ax = plt.subplots()\n",
        "rects1 = ax.bar(x - width/2, test_mon, width, label='test set')\n",
        "rects2 = ax.bar(x + width/2, error_mon, width, label='error set')\n",
        "\n",
        "# Add some text for labels, title and custom x-axis tick labels, etc.\n",
        "ax.set_ylabel('Percentage')\n",
        "ax.set_title('Chart 9. Distribution of Report Month')\n",
        "ax.set_xticks(x)\n",
        "ax.set_xticklabels(labels)\n",
        "ax.legend()\n",
        "\n",
        "def autolabel(rects):\n",
        "    \"\"\"Attach a text label above each bar in *rects*, displaying its height.\"\"\"\n",
        "    for rect in rects:\n",
        "        height = rect.get_height()\n",
        "        ax.annotate('{}'.format(height),\n",
        "                    xy=(rect.get_x() + rect.get_width() / 2, height),\n",
        "                    xytext=(0, 1),  # 3 points vertical offset\n",
        "                    textcoords=\"offset points\",\n",
        "                    ha='center', va='bottom')\n",
        "\n",
        "autolabel(rects1)\n",
        "autolabel(rects2)\n",
        "\n",
        "fig.tight_layout()\n",
        "\n",
        "plt.show()"
      ],
      "execution_count": null,
      "outputs": [
        {
          "output_type": "display_data",
          "data": {
            "image/png": "[encoded data removed]",
            "text/plain": [
              "<Figure size 432x288 with 1 Axes>"
            ]
          },
          "metadata": {
            "tags": [],
            "needs_background": "light"
          }
        }
      ]
    },
    {
      "cell_type": "code",
      "metadata": {
        "id": "J7uGBaZ0TA9x",
        "colab_type": "code",
        "colab": {
          "base_uri": "https://localhost:8080/",
          "height": 119
        },
        "outputId": "faf811cf-55a3-46b8-ec7a-f6a320235e47"
      },
      "source": [
        "# Descriptive analysis on error dataset\n",
        "# 2. Compare Distribution of child's physical/mental issue\n",
        "# Error rate is slightly higher for disabled children\n",
        "print(abuse_test[\"child_mental_physical\"].value_counts()/len(abuse_test)*100)\n",
        "print(error[\"child_mental_physical\"].value_counts()/len(error)*100)"
      ],
      "execution_count": null,
      "outputs": [
        {
          "output_type": "stream",
          "text": [
            "2    89.940828\n",
            "1    10.059172\n",
            "Name: child_mental_physical, dtype: float64\n",
            "2    81.61157\n",
            "1    18.38843\n",
            "Name: child_mental_physical, dtype: float64\n"
          ],
          "name": "stdout"
        }
      ]
    },
    {
      "cell_type": "code",
      "metadata": {
        "id": "oJnv58aHD48i",
        "colab_type": "code",
        "colab": {
          "base_uri": "https://localhost:8080/",
          "height": 297
        },
        "outputId": "4d263fd2-917e-4f7d-f72e-e92b0e9cafaa"
      },
      "source": [
        "# Use bar chart to compare distribution of child's physical/mental issue\n",
        "labels = ['test set', 'error set']\n",
        "true = [10, 18]\n",
        "false = [90, 82]\n",
        "\n",
        "x = np.arange(len(labels))  # the label locations\n",
        "width = 0.30  # the width of the bars\n",
        "\n",
        "fig, ax = plt.subplots()\n",
        "rects1 = ax.bar(x - width/2, true, width, label='true')\n",
        "rects2 = ax.bar(x + width/2, false, width, label='false')\n",
        "\n",
        "# Add some text for labels, title and custom x-axis tick labels, etc.\n",
        "ax.set_ylabel('Percentage')\n",
        "ax.set_title('Chart 7. Distribution of Child Mental/Physical Issue')\n",
        "ax.set_xticks(x)\n",
        "ax.set_xticklabels(labels)\n",
        "ax.legend()\n",
        "\n",
        "def autolabel(rects):\n",
        "    \"\"\"Attach a text label above each bar in *rects*, displaying its height.\"\"\"\n",
        "    for rect in rects:\n",
        "        height = rect.get_height()\n",
        "        ax.annotate('{}'.format(height),\n",
        "                    xy=(rect.get_x() + rect.get_width() / 2, height),\n",
        "                    xytext=(0, 1),  # 3 points vertical offset\n",
        "                    textcoords=\"offset points\",\n",
        "                    ha='center', va='bottom')\n",
        "\n",
        "autolabel(rects1)\n",
        "autolabel(rects2)\n",
        "\n",
        "fig.tight_layout()\n",
        "\n",
        "plt.show()"
      ],
      "execution_count": null,
      "outputs": [
        {
          "output_type": "display_data",
          "data": {
            "image/png": "[encoded data removed]",
            "text/plain": [
              "<Figure size 432x288 with 1 Axes>"
            ]
          },
          "metadata": {
            "tags": [],
            "needs_background": "light"
          }
        }
      ]
    },
    {
      "cell_type": "code",
      "metadata": {
        "id": "LZJQ85JeA8Bh",
        "colab_type": "code",
        "colab": {
          "base_uri": "https://localhost:8080/",
          "height": 425
        },
        "outputId": "4e1cce70-7478-4b11-a7e5-88d89ac74fcd"
      },
      "source": [
        "# Descriptive analysis on error dataset\n",
        "# 3. Compare Distribution of case_result_double_abuse\n",
        "# Error rate of single and double_abuse is high\n",
        "print(abuse_test[\"case_result_single_abuse\"].value_counts()/len(abuse_test)*100)\n",
        "print(abuse_test[\"case_result_double_abuse\"].value_counts()/len(abuse_test)*100)\n",
        "print(abuse_test[\"case_result_triple_abuse\"].value_counts()/len(abuse_test)*100)\n",
        "print(abuse_test[\"case_result_quad_abuse\"].value_counts()/len(abuse_test)*100)\n",
        "print(error[\"case_result_single_abuse\"].value_counts()/len(error)*100)\n",
        "print(error[\"case_result_double_abuse\"].value_counts()/len(error)*100)\n",
        "print(error[\"case_result_triple_abuse\"].value_counts()/len(error)*100)\n",
        "print(error[\"case_result_quad_abuse\"].value_counts()/len(error)*100)"
      ],
      "execution_count": null,
      "outputs": [
        {
          "output_type": "stream",
          "text": [
            "1    90.203813\n",
            "0     9.796187\n",
            "Name: case_result_single_abuse, dtype: float64\n",
            "0    90.598291\n",
            "1     9.401709\n",
            "Name: case_result_double_abuse, dtype: float64\n",
            "0    99.638396\n",
            "1     0.361604\n",
            "Name: case_result_triple_abuse, dtype: float64\n",
            "0    99.967127\n",
            "1     0.032873\n",
            "Name: case_result_quad_abuse, dtype: float64\n",
            "1    83.884298\n",
            "0    16.115702\n",
            "Name: case_result_single_abuse, dtype: float64\n",
            "0    85.123967\n",
            "1    14.876033\n",
            "Name: case_result_double_abuse, dtype: float64\n",
            "0    98.966942\n",
            "1     1.033058\n",
            "Name: case_result_triple_abuse, dtype: float64\n",
            "0    99.793388\n",
            "1     0.206612\n",
            "Name: case_result_quad_abuse, dtype: float64\n"
          ],
          "name": "stdout"
        }
      ]
    },
    {
      "cell_type": "code",
      "metadata": {
        "id": "38VkI0RHG7WI",
        "colab_type": "code",
        "colab": {
          "base_uri": "https://localhost:8080/",
          "height": 297
        },
        "outputId": "233dab5c-7de0-4d40-82dd-c62a66cdba85"
      },
      "source": [
        "# Use bar chart to compare distribution of case result - single abuse\n",
        "labels = ['test set', 'error set']\n",
        "true = [90, 83]\n",
        "false = [9, 16]\n",
        "\n",
        "x = np.arange(len(labels))  # the label locations\n",
        "width = 0.30  # the width of the bars\n",
        "\n",
        "fig, ax = plt.subplots()\n",
        "rects1 = ax.bar(x - width/2, true, width, label='true')\n",
        "rects2 = ax.bar(x + width/2, false, width, label='false')\n",
        "\n",
        "# Add some text for labels, title and custom x-axis tick labels, etc.\n",
        "ax.set_ylabel('Percentage')\n",
        "ax.set_title('Chart 8-1. Distribution of Case Result - Single Abuse')\n",
        "ax.set_xticks(x)\n",
        "ax.set_xticklabels(labels)\n",
        "ax.legend()\n",
        "\n",
        "def autolabel(rects):\n",
        "    \"\"\"Attach a text label above each bar in *rects*, displaying its height.\"\"\"\n",
        "    for rect in rects:\n",
        "        height = rect.get_height()\n",
        "        ax.annotate('{}'.format(height),\n",
        "                    xy=(rect.get_x() + rect.get_width() / 2, height),\n",
        "                    xytext=(0, 1),  # 3 points vertical offset\n",
        "                    textcoords=\"offset points\",\n",
        "                    ha='center', va='bottom')\n",
        "\n",
        "autolabel(rects1)\n",
        "autolabel(rects2)\n",
        "\n",
        "fig.tight_layout()\n",
        "\n",
        "plt.show()"
      ],
      "execution_count": null,
      "outputs": [
        {
          "output_type": "display_data",
          "data": {
            "image/png": "[encoded data removed]",
            "text/plain": [
              "<Figure size 432x288 with 1 Axes>"
            ]
          },
          "metadata": {
            "tags": [],
            "needs_background": "light"
          }
        }
      ]
    },
    {
      "cell_type": "code",
      "metadata": {
        "id": "PNiHOYYzHQB3",
        "colab_type": "code",
        "colab": {
          "base_uri": "https://localhost:8080/",
          "height": 297
        },
        "outputId": "040b1f04-2a7c-4f0d-98f9-4e7b458a695d"
      },
      "source": [
        "# Use bar chart to compare distribution of case result - double abuse\n",
        "labels = ['test set', 'error set']\n",
        "true = [9, 15]\n",
        "false = [91, 85]\n",
        "\n",
        "x = np.arange(len(labels))  # the label locations\n",
        "width = 0.30  # the width of the bars\n",
        "\n",
        "fig, ax = plt.subplots()\n",
        "rects1 = ax.bar(x - width/2, true, width, label='true')\n",
        "rects2 = ax.bar(x + width/2, false, width, label='false')\n",
        "\n",
        "# Add some text for labels, title and custom x-axis tick labels, etc.\n",
        "ax.set_ylabel('Percentage')\n",
        "ax.set_title('Chart 8-2. Distribution of Case Result - Double Abuse')\n",
        "ax.set_xticks(x)\n",
        "ax.set_xticklabels(labels)\n",
        "ax.legend()\n",
        "\n",
        "def autolabel(rects):\n",
        "    \"\"\"Attach a text label above each bar in *rects*, displaying its height.\"\"\"\n",
        "    for rect in rects:\n",
        "        height = rect.get_height()\n",
        "        ax.annotate('{}'.format(height),\n",
        "                    xy=(rect.get_x() + rect.get_width() / 2, height),\n",
        "                    xytext=(0, 1),  # 3 points vertical offset\n",
        "                    textcoords=\"offset points\",\n",
        "                    ha='center', va='bottom')\n",
        "\n",
        "autolabel(rects1)\n",
        "autolabel(rects2)\n",
        "\n",
        "fig.tight_layout()\n",
        "\n",
        "plt.show()"
      ],
      "execution_count": null,
      "outputs": [
        {
          "output_type": "display_data",
          "data": {
            "image/png": "[encoded data removed]",
            "text/plain": [
              "<Figure size 432x288 with 1 Axes>"
            ]
          },
          "metadata": {
            "tags": [],
            "needs_background": "light"
          }
        }
      ]
    },
    {
      "cell_type": "markdown",
      "metadata": {
        "id": "3n2_TgUvVFqk",
        "colab_type": "text"
      },
      "source": [
        "# Extension Task - Fairness Audit "
      ]
    },
    {
      "cell_type": "markdown",
      "metadata": {
        "id": "u0DCX9Rt7XwQ",
        "colab_type": "text"
      },
      "source": [
        "## Demographic Parity\n",
        "\n",
        "The first definition of fairness is based on distribution of risk levels. In terms of demographic features **age** and **race**, the classification algorithm is fair if: All groups get the same distribution of high/low risk level. "
      ]
    },
    {
      "cell_type": "code",
      "metadata": {
        "id": "5bWGo1-b6NLS",
        "colab_type": "code",
        "colab": {
          "base_uri": "https://localhost:8080/",
          "height": 136
        },
        "outputId": "a797041d-c695-4ddf-cc0f-af39a6b67cfa"
      },
      "source": [
        "# White and black population take up 98% of the whole data\n",
        "# This task only look at two races: black and white\n",
        "print(\"Distribution of Race\")\n",
        "print(abuse_test.race.value_counts() / len(abuse_test))\n",
        "print()"
      ],
      "execution_count": null,
      "outputs": [
        {
          "output_type": "stream",
          "text": [
            "Distribution of Race\n",
            "1    0.667982\n",
            "2    0.321499\n",
            "4    0.007232\n",
            "3    0.003287\n",
            "Name: race, dtype: float64\n",
            "\n"
          ],
          "name": "stdout"
        }
      ]
    },
    {
      "cell_type": "code",
      "metadata": {
        "id": "GjMiTVfCVWzT",
        "colab_type": "code",
        "colab": {
          "base_uri": "https://localhost:8080/",
          "height": 683
        },
        "outputId": "f00820b8-fb2e-459a-ca3f-d765efda093d"
      },
      "source": [
        "# Use bar chart to compare distribution between groups\n",
        "# There is no demographic parity between race groups in the test set.\n",
        "plt.title(\"Chart 10-1. Risk Level Distribution of Black People\")\n",
        "black = abuse_test.loc[abuse_test.race == 2]\n",
        "plt.hist(black.risk_pred)\n",
        "fig = plt.gcf()\n",
        "fig.set_size_inches(4,5)\n",
        "plt.xlabel(\"Risk Level\")\n",
        "plt.ylabel(\"Count in Test Set\")\n",
        "plt.show()\n",
        "\n",
        "plt.title(\"Chart 10-2. Risk Level Distribution of White People\")\n",
        "white = abuse_test.loc[abuse_test.race == 1]\n",
        "plt.hist(white.risk_pred)\n",
        "fig = plt.gcf()\n",
        "fig.set_size_inches(4,5)\n",
        "plt.xlabel(\"Risk Level\")\n",
        "plt.ylabel(\"Count in Test Set\")\n",
        "plt.show()"
      ],
      "execution_count": null,
      "outputs": [
        {
          "output_type": "display_data",
          "data": {
            "image/png": "[encoded data removed]",
            "text/plain": [
              "<Figure size 288x360 with 1 Axes>"
            ]
          },
          "metadata": {
            "tags": [],
            "needs_background": "light"
          }
        },
        {
          "output_type": "display_data",
          "data": {
            "image/png": "[encoded data removed]",
            "text/plain": [
              "<Figure size 288x360 with 1 Axes>"
            ]
          },
          "metadata": {
            "tags": [],
            "needs_background": "light"
          }
        }
      ]
    },
    {
      "cell_type": "code",
      "metadata": {
        "id": "-AgHtwKbYBBZ",
        "colab_type": "code",
        "colab": {
          "base_uri": "https://localhost:8080/",
          "height": 68
        },
        "outputId": "d33f7c36-fe3a-48a1-a650-ff99eaef49f7"
      },
      "source": [
        "# To see the parity of age, first transform age feature into binary\n",
        "# Generate binary age feature - preschool (threshold is the mean age, 7 years old)\n",
        "def preschool(x):\n",
        "    if x <= 7:\n",
        "        return 1\n",
        "    if x > 7:\n",
        "        return 0\n",
        "    \n",
        "abuse_test[\"preschool\"] = abuse[\"age\"].apply(preschool)\n",
        "abuse_test[\"preschool\"].value_counts()"
      ],
      "execution_count": null,
      "outputs": [
        {
          "output_type": "execute_result",
          "data": {
            "text/plain": [
              "1    1722\n",
              "0    1320\n",
              "Name: preschool, dtype: int64"
            ]
          },
          "metadata": {
            "tags": []
          },
          "execution_count": 51
        }
      ]
    },
    {
      "cell_type": "code",
      "metadata": {
        "id": "XDJ3l4FQakGr",
        "colab_type": "code",
        "colab": {
          "base_uri": "https://localhost:8080/",
          "height": 573
        },
        "outputId": "76752fa1-061f-49af-9ae5-590f4b7539d0"
      },
      "source": [
        "# There is no demographic parity between age groups in the test set.\n",
        "plt.title(\"Chart 11-1. Risk Level Distribution of Pre-School Child\")\n",
        "age_preschool = abuse_test.loc[abuse_test.preschool == 1]\n",
        "plt.hist(age_preschool.risk_pred)\n",
        "fig = plt.gcf()\n",
        "fig.set_size_inches(3,4)\n",
        "plt.xlabel(\"Risk Level\")\n",
        "plt.ylabel(\"Count in Test Set\")\n",
        "plt.show()\n",
        "\n",
        "plt.title(\"Chart 11-2. Risk Level Distribution of School Child\")\n",
        "school = abuse_test.loc[abuse_test.preschool == 0]\n",
        "plt.hist(school.risk_pred)\n",
        "fig = plt.gcf()\n",
        "fig.set_size_inches(3,4)\n",
        "plt.xlabel(\"Risk Level\")\n",
        "plt.ylabel(\"Count in Test Set\")\n",
        "plt.show()"
      ],
      "execution_count": null,
      "outputs": [
        {
          "output_type": "display_data",
          "data": {
            "image/png": "[encoded data removed]",
            "text/plain": [
              "<Figure size 216x288 with 1 Axes>"
            ]
          },
          "metadata": {
            "tags": [],
            "needs_background": "light"
          }
        },
        {
          "output_type": "display_data",
          "data": {
            "image/png": "[encoded data removed]",
            "text/plain": [
              "<Figure size 216x288 with 1 Axes>"
            ]
          },
          "metadata": {
            "tags": [],
            "needs_background": "light"
          }
        }
      ]
    },
    {
      "cell_type": "markdown",
      "metadata": {
        "id": "r6VnY2nS-aK1",
        "colab_type": "text"
      },
      "source": [
        "## Prevalence \n",
        "This step calculate the percentage of each race/age in the dataset."
      ]
    },
    {
      "cell_type": "code",
      "metadata": {
        "id": "P8u2J9-_ueVW",
        "colab_type": "code",
        "colab": {
          "base_uri": "https://localhost:8080/",
          "height": 153
        },
        "outputId": "7be85d7a-3db4-45a8-db6c-16757e308be5"
      },
      "source": [
        "# Calculate baseline distributions of risk_pred\n",
        "print(\"Distribution of predicted risk level\")\n",
        "print(abuse_test[\"risk_pred\"].value_counts() / len(abuse_test))\n",
        "print(abuse_test[\"risk_pred\"].value_counts())\n",
        "print()"
      ],
      "execution_count": null,
      "outputs": [
        {
          "output_type": "stream",
          "text": [
            "Distribution of predicted risk level\n",
            "low     0.747206\n",
            "high    0.252794\n",
            "Name: risk_pred, dtype: float64\n",
            "low     2273\n",
            "high     769\n",
            "Name: risk_pred, dtype: int64\n",
            "\n"
          ],
          "name": "stdout"
        }
      ]
    },
    {
      "cell_type": "code",
      "metadata": {
        "id": "8gMaFC7--cEp",
        "colab_type": "code",
        "colab": {
          "base_uri": "https://localhost:8080/",
          "height": 573
        },
        "outputId": "8bc9a621-3dd1-422c-9e91-478be424a752"
      },
      "source": [
        "# Use bar chart to compare count and percentage between race groups.\n",
        "risk_label = [\"low\", \"high\"]\n",
        "plt.bar(risk_label, black.risk_pred.value_counts(), width=0.4)\n",
        "plt.bar(risk_label, white.risk_pred.value_counts(), bottom=black.risk_pred.value_counts(), width=0.4)\n",
        "plt.legend([\"Black\", \"White\"])\n",
        "plt.xlabel(\"Risk Level\")\n",
        "plt.ylabel(\"Count in Test Set\")\n",
        "plt.title(\"Chart 12-1. Baseline Distribution Divided by Race - Count\")\n",
        "plt.show()\n",
        "\n",
        "black_pcts = black.risk_pred.value_counts() / (black.risk_pred.value_counts() + white.risk_pred.value_counts())\n",
        "white_pcts = white.risk_pred.value_counts() / (black.risk_pred.value_counts() + white.risk_pred.value_counts())\n",
        "\n",
        "plt.bar(risk_label, black_pcts, width=0.4)\n",
        "plt.bar(risk_label, white_pcts, bottom=black_pcts, width=0.4)\n",
        "plt.legend([\"Black\", \"White\"])\n",
        "plt.xlabel(\"Risk Level\")\n",
        "plt.ylabel(\"Percent in Test Set\")\n",
        "plt.title(\"Chart 12-2. Baseline Distribution Divided by Race - Percentage\")\n",
        "plt.show()"
      ],
      "execution_count": null,
      "outputs": [
        {
          "output_type": "display_data",
          "data": {
            "image/png": "[encoded data removed]",
            "text/plain": [
              "<Figure size 432x288 with 1 Axes>"
            ]
          },
          "metadata": {
            "tags": [],
            "needs_background": "light"
          }
        },
        {
          "output_type": "display_data",
          "data": {
            "image/png": "[encoded data removed]",
            "text/plain": [
              "<Figure size 432x288 with 1 Axes>"
            ]
          },
          "metadata": {
            "tags": [],
            "needs_background": "light"
          }
        }
      ]
    },
    {
      "cell_type": "code",
      "metadata": {
        "id": "33wEhu1waezH",
        "colab_type": "code",
        "colab": {
          "base_uri": "https://localhost:8080/",
          "height": 573
        },
        "outputId": "a29ca717-16b4-4078-cecd-e0b95819c987"
      },
      "source": [
        "# Use bar chart to compare count and percentage between age groups.\n",
        "risk_label = [\"low\", \"high\"]\n",
        "plt.bar(risk_label, age_preschool.risk_pred.value_counts(), width=0.4)\n",
        "plt.bar(risk_label, school.risk_pred.value_counts(), bottom=age_preschool.risk_pred.value_counts(), width=0.4)\n",
        "plt.legend([\"Preschool\", \"School\"])\n",
        "plt.xlabel(\"Risk Level\")\n",
        "plt.ylabel(\"Count in Test Set\")\n",
        "plt.title(\"Chart 13-1. Baseline Distribution Divided by Age - Count\")\n",
        "plt.show()\n",
        "\n",
        "age_preschool_pcts = age_preschool.risk_pred.value_counts() / (age_preschool.risk_pred.value_counts() + school.risk_pred.value_counts())\n",
        "school_pcts = school.risk_pred.value_counts() / (age_preschool.risk_pred.value_counts() + school.risk_pred.value_counts())\n",
        "\n",
        "plt.bar(risk_label, age_preschool_pcts, width=0.4)\n",
        "plt.bar(risk_label, school_pcts, bottom=age_preschool_pcts, width=0.4)\n",
        "plt.legend([\"Pre-school\", \"School\"])\n",
        "plt.xlabel(\"Risk Level\")\n",
        "plt.ylabel(\"Percent in Test Set\")\n",
        "plt.title(\"Chart 13-2. Baseline Distribution Divided by Age - Percentage\")\n",
        "plt.show()"
      ],
      "execution_count": null,
      "outputs": [
        {
          "output_type": "display_data",
          "data": {
            "image/png": "[encoded data removed]",
            "text/plain": [
              "<Figure size 432x288 with 1 Axes>"
            ]
          },
          "metadata": {
            "tags": [],
            "needs_background": "light"
          }
        },
        {
          "output_type": "display_data",
          "data": {
            "image/png": "[encoded data removed]",
            "text/plain": [
              "<Figure size 432x288 with 1 Axes>"
            ]
          },
          "metadata": {
            "tags": [],
            "needs_background": "light"
          }
        }
      ]
    },
    {
      "cell_type": "markdown",
      "metadata": {
        "id": "GN0bncEnAiho",
        "colab_type": "text"
      },
      "source": [
        "## Error Rate Parity\n",
        "\n",
        "\n",
        "However, we will now look more carefully at the modes of failure -- false positives and alse negatives -- separate from one another. This will reveal a different trend in the model's predictions. "
      ]
    },
    {
      "cell_type": "code",
      "metadata": {
        "id": "pxWo6FpZQS4n",
        "colab_type": "code",
        "colab": {
          "base_uri": "https://localhost:8080/",
          "height": 85
        },
        "outputId": "139081c9-0763-4793-f17f-6bf6f89fc999"
      },
      "source": [
        "# confusion matrix of risk_pred\n",
        "confusion_matrix = pd.crosstab(abuse_test['risk_level'], abuse_test['risk_pred'], rownames=['Actual'], colnames=['Predicted'])\n",
        "print (confusion_matrix)"
      ],
      "execution_count": null,
      "outputs": [
        {
          "output_type": "stream",
          "text": [
            "Predicted  high   low\n",
            "Actual               \n",
            "high        500   215\n",
            "low         269  2058\n"
          ],
          "name": "stdout"
        }
      ]
    },
    {
      "cell_type": "code",
      "metadata": {
        "id": "e8u2aaBdQyj9",
        "colab_type": "code",
        "colab": {
          "base_uri": "https://localhost:8080/",
          "height": 204
        },
        "outputId": "12a80ddc-47fe-4a37-dadc-530178c293b2"
      },
      "source": [
        "# confusion matrix by race\n",
        "confusion_matrix = pd.crosstab(white['risk_level'], white['risk_pred'], rownames=['Actual'], colnames=['Predicted'])\n",
        "print(\"Confusion matrix of White:\")\n",
        "print (confusion_matrix)\n",
        "print()\n",
        "\n",
        "confusion_matrix = pd.crosstab(black['risk_level'], black['risk_pred'], rownames=['Actual'], colnames=['Predicted'])\n",
        "print(\"Confusion matrix of Black:\")\n",
        "print (confusion_matrix)"
      ],
      "execution_count": null,
      "outputs": [
        {
          "output_type": "stream",
          "text": [
            "Confusion matrix of White:\n",
            "Predicted  high   low\n",
            "Actual               \n",
            "high        337   133\n",
            "low         174  1388\n",
            "\n",
            "Confusion matrix of Black:\n",
            "Predicted  high  low\n",
            "Actual              \n",
            "high        159   80\n",
            "low          88  651\n"
          ],
          "name": "stdout"
        }
      ]
    },
    {
      "cell_type": "code",
      "metadata": {
        "colab_type": "code",
        "id": "KJFO1H6rH4OH",
        "colab": {
          "base_uri": "https://localhost:8080/",
          "height": 353
        },
        "outputId": "24b0c8f4-12dd-48c7-dd03-aa0b979c2800"
      },
      "source": [
        "# Calculate error balance of false positives\n",
        "\n",
        "race_probs = []\n",
        "for race in [black, white]:\n",
        "  probs = []\n",
        "  risk_label = [\"Race\"]\n",
        "  for risk in risk_label:\n",
        "    subset = race.loc[race.risk_level=='low']\n",
        "    false_positive = subset.loc[subset.risk_pred == 'high']\n",
        "    false_positive_rate = len(false_positive) / len(subset)\n",
        "    probs.append(false_positive_rate)\n",
        "  race_probs.append(probs)\n",
        "\n",
        "fig = plt.gcf()\n",
        "fig.set_size_inches(4,5)\n",
        "plt.bar(risk_label, race_probs[0], align='edge', width=-.1)\n",
        "plt.bar(risk_label, race_probs[1], align='edge', width=.1)\n",
        "plt.xticks(ticks=risk_label, labels=risk_label)\n",
        "plt.ylabel(\"False Positive Rate\")\n",
        "plt.legend([\"Black\", \"White\"])\n",
        "plt.title(\"Chart 14-1. False Positive Rates - Race\")\n",
        "plt.show()\n",
        "race_probs"
      ],
      "execution_count": null,
      "outputs": [
        {
          "output_type": "display_data",
          "data": {
            "image/png": "[encoded data removed]",
            "text/plain": [
              "<Figure size 288x360 with 1 Axes>"
            ]
          },
          "metadata": {
            "tags": [],
            "needs_background": "light"
          }
        },
        {
          "output_type": "execute_result",
          "data": {
            "text/plain": [
              "[[0.11907983761840325], [0.11139564660691421]]"
            ]
          },
          "metadata": {
            "tags": []
          },
          "execution_count": 58
        }
      ]
    },
    {
      "cell_type": "code",
      "metadata": {
        "id": "P-6phC7rP88h",
        "colab_type": "code",
        "colab": {
          "base_uri": "https://localhost:8080/",
          "height": 353
        },
        "outputId": "5f0d4916-b76c-438b-f757-479d6f9fa65d"
      },
      "source": [
        "# Calculate error balance of false negatives\n",
        "\n",
        "race_probs = []\n",
        "for race in [black, white]:\n",
        "  probs = []\n",
        "  for risk in risk_label:\n",
        "    subset = race.loc[race.risk_level=='high']\n",
        "    false_negative = subset.loc[subset.risk_pred == 'low']\n",
        "    false_negative_rate = len(false_negative) / len(subset)\n",
        "    probs.append(false_negative_rate)\n",
        "  race_probs.append(probs)\n",
        "\n",
        "fig = plt.gcf()\n",
        "fig.set_size_inches(4,5)\n",
        "plt.bar(risk_label, race_probs[0], align='edge', width=-.1)\n",
        "plt.bar(risk_label, race_probs[1], align='edge', width=.1)\n",
        "plt.xticks(ticks=risk_label, labels=risk_label)\n",
        "plt.ylabel(\"False Negative Rate\")\n",
        "plt.legend([\"Black\", \"White\"])\n",
        "plt.title(\"Chart 14-2. False Negative Rates - Race\")\n",
        "plt.show()\n",
        "race_probs\n"
      ],
      "execution_count": null,
      "outputs": [
        {
          "output_type": "display_data",
          "data": {
            "image/png": "[encoded data removed]",
            "text/plain": [
              "<Figure size 288x360 with 1 Axes>"
            ]
          },
          "metadata": {
            "tags": [],
            "needs_background": "light"
          }
        },
        {
          "output_type": "execute_result",
          "data": {
            "text/plain": [
              "[[0.33472803347280333], [0.28297872340425534]]"
            ]
          },
          "metadata": {
            "tags": []
          },
          "execution_count": 59
        }
      ]
    },
    {
      "cell_type": "code",
      "metadata": {
        "colab_type": "code",
        "id": "ePE9hJmKnHuj",
        "colab": {
          "base_uri": "https://localhost:8080/",
          "height": 204
        },
        "outputId": "51945613-d066-4c73-fe4d-ef746fd67a37"
      },
      "source": [
        "# confusion matrix by age-preschool\n",
        "confusion_matrix = pd.crosstab(age_preschool['risk_level'], age_preschool['risk_pred'], rownames=['Actual'], colnames=['Predicted'])\n",
        "print(\"Confusion matrix of preschool:\")\n",
        "print (confusion_matrix)\n",
        "print()\n",
        "\n",
        "confusion_matrix = pd.crosstab(school['risk_level'], school['risk_pred'], rownames=['Actual'], colnames=['Predicted'])\n",
        "print(\"Confusion matrix of school:\")\n",
        "print (confusion_matrix)"
      ],
      "execution_count": null,
      "outputs": [
        {
          "output_type": "stream",
          "text": [
            "Confusion matrix of preschool:\n",
            "Predicted  high   low\n",
            "Actual               \n",
            "high        317   121\n",
            "low         149  1135\n",
            "\n",
            "Confusion matrix of school:\n",
            "Predicted  high  low\n",
            "Actual              \n",
            "high        183   94\n",
            "low         120  923\n"
          ],
          "name": "stdout"
        }
      ]
    },
    {
      "cell_type": "code",
      "metadata": {
        "colab_type": "code",
        "id": "Vm0R6QAGnaYs",
        "colab": {
          "base_uri": "https://localhost:8080/",
          "height": 353
        },
        "outputId": "2b7ded43-d7f1-446c-eee2-14d8f6825639"
      },
      "source": [
        "# Calculate error balance of false positives\n",
        "\n",
        "ages_probs = []\n",
        "for ages in [age_preschool, school]:\n",
        "  probs = []\n",
        "  risk_label = [\"Age\"]\n",
        "  for risk in risk_label:\n",
        "    subset = ages.loc[ages.risk_level=='low']\n",
        "    false_positive = subset.loc[subset.risk_pred == 'high']\n",
        "    false_positive_rate = len(false_positive) / len(subset)\n",
        "    probs.append(false_positive_rate)\n",
        "  ages_probs.append(probs)\n",
        "\n",
        "fig = plt.gcf()\n",
        "fig.set_size_inches(4,5)\n",
        "plt.bar(risk_label, ages_probs[0], align='edge', width=-.1)\n",
        "plt.bar(risk_label, ages_probs[1], align='edge', width=.1)\n",
        "plt.xticks(ticks=risk_label, labels=risk_label)\n",
        "plt.ylabel(\"False Positive Rate\")\n",
        "plt.legend([\"preschool\", \"school\"])\n",
        "plt.title(\"False Positive Rates - Age\")\n",
        "plt.show()\n",
        "ages_probs"
      ],
      "execution_count": null,
      "outputs": [
        {
          "output_type": "display_data",
          "data": {
            "image/png": "[encoded data removed]",
            "text/plain": [
              "<Figure size 288x360 with 1 Axes>"
            ]
          },
          "metadata": {
            "tags": [],
            "needs_background": "light"
          }
        },
        {
          "output_type": "execute_result",
          "data": {
            "text/plain": [
              "[[0.11604361370716511], [0.11505273250239693]]"
            ]
          },
          "metadata": {
            "tags": []
          },
          "execution_count": 61
        }
      ]
    },
    {
      "cell_type": "code",
      "metadata": {
        "colab_type": "code",
        "id": "C14lVCv0nyzh",
        "colab": {
          "base_uri": "https://localhost:8080/",
          "height": 353
        },
        "outputId": "014ea911-7b2b-4f63-b00b-0edb5859e361"
      },
      "source": [
        "# Calculate error balance of false negatives\n",
        "\n",
        "ages_probs = []\n",
        "for ages in [age_preschool, school]:\n",
        "  probs = []\n",
        "  for risk in risk_label:\n",
        "    subset = ages.loc[ages.risk_level=='high']\n",
        "    false_negative = subset.loc[subset.risk_pred == 'low']\n",
        "    false_negative_rate = len(false_negative) / len(subset)\n",
        "    probs.append(false_negative_rate)\n",
        "  ages_probs.append(probs)\n",
        "\n",
        "fig = plt.gcf()\n",
        "fig.set_size_inches(4,5)\n",
        "rects1 = plt.bar(risk_label, ages_probs[0], align='edge', width=-.1)\n",
        "rects2 = plt.bar(risk_label, ages_probs[1], align='edge', width=.1)\n",
        "plt.xticks(ticks=risk_label, labels=risk_label)\n",
        "plt.ylabel(\"False Negative Rate\")\n",
        "plt.legend([\"preschool\", \"school\"])\n",
        "plt.title(\"False Negative Rates - Age\")\n",
        "plt.show()\n",
        "ages_probs\n",
        "\n"
      ],
      "execution_count": null,
      "outputs": [
        {
          "output_type": "display_data",
          "data": {
            "image/png": "[encoded data removed]",
            "text/plain": [
              "<Figure size 288x360 with 1 Axes>"
            ]
          },
          "metadata": {
            "tags": [],
            "needs_background": "light"
          }
        },
        {
          "output_type": "execute_result",
          "data": {
            "text/plain": [
              "[[0.2762557077625571], [0.33935018050541516]]"
            ]
          },
          "metadata": {
            "tags": []
          },
          "execution_count": 62
        }
      ]
    }
  ]
}
